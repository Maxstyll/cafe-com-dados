{
 "metadata": {
  "language_info": {
   "codemirror_mode": {
    "name": "ipython",
    "version": 3
   },
   "file_extension": ".py",
   "mimetype": "text/x-python",
   "name": "python",
   "nbconvert_exporter": "python",
   "pygments_lexer": "ipython3",
   "version": "3.8.5"
  },
  "orig_nbformat": 2,
  "kernelspec": {
   "name": "python3",
   "display_name": "Python 3.8.5 64-bit ('python-base-3.8.5': pyenv)"
  },
  "metadata": {
   "interpreter": {
    "hash": "823a27c597f0d06f9bd705b9ae77e8a6ae593c847b1101b2ecdfc0c7c1f3f928"
   }
  },
  "interpreter": {
   "hash": "823a27c597f0d06f9bd705b9ae77e8a6ae593c847b1101b2ecdfc0c7c1f3f928"
  }
 },
 "nbformat": 4,
 "nbformat_minor": 2,
 "cells": [
  {
   "source": [
    "# Análise de dados"
   ],
   "cell_type": "markdown",
   "metadata": {}
  },
  {
   "cell_type": "code",
   "execution_count": 2,
   "metadata": {},
   "outputs": [],
   "source": [
    "import pandas as pd"
   ]
  },
  {
   "cell_type": "code",
   "execution_count": 3,
   "metadata": {},
   "outputs": [],
   "source": [
    "df = pd.read_csv(\"../datasets/application_data.csv\")"
   ]
  },
  {
   "cell_type": "code",
   "execution_count": 4,
   "metadata": {},
   "outputs": [
    {
     "output_type": "stream",
     "name": "stdout",
     "text": [
      "<class 'pandas.core.frame.DataFrame'>\nRangeIndex: 307511 entries, 0 to 307510\nColumns: 122 entries, SK_ID_CURR to AMT_REQ_CREDIT_BUREAU_YEAR\ndtypes: float64(65), int64(41), object(16)\nmemory usage: 286.2+ MB\n"
     ]
    }
   ],
   "source": [
    "df.info()"
   ]
  },
  {
   "source": [
    "## Origem dos dados\n",
    "https://www.kaggle.com/c/home-credit-default-risk"
   ],
   "cell_type": "markdown",
   "metadata": {}
  },
  {
   "source": [
    "## Dicionario do dataset"
   ],
   "cell_type": "markdown",
   "metadata": {}
  },
  {
   "cell_type": "code",
   "execution_count": 5,
   "metadata": {},
   "outputs": [
    {
     "output_type": "execute_result",
     "data": {
      "text/plain": [
       "   SK_ID_CURR  TARGET NAME_CONTRACT_TYPE CODE_GENDER FLAG_OWN_CAR  \\\n",
       "0      100002       1         Cash loans           M            N   \n",
       "1      100003       0         Cash loans           F            N   \n",
       "2      100004       0    Revolving loans           M            Y   \n",
       "3      100006       0         Cash loans           F            N   \n",
       "4      100007       0         Cash loans           M            N   \n",
       "\n",
       "  FLAG_OWN_REALTY  CNT_CHILDREN  AMT_INCOME_TOTAL  AMT_CREDIT  AMT_ANNUITY  \\\n",
       "0               Y             0          202500.0    406597.5      24700.5   \n",
       "1               N             0          270000.0   1293502.5      35698.5   \n",
       "2               Y             0           67500.0    135000.0       6750.0   \n",
       "3               Y             0          135000.0    312682.5      29686.5   \n",
       "4               Y             0          121500.0    513000.0      21865.5   \n",
       "\n",
       "   ...  FLAG_DOCUMENT_18 FLAG_DOCUMENT_19 FLAG_DOCUMENT_20 FLAG_DOCUMENT_21  \\\n",
       "0  ...                 0                0                0                0   \n",
       "1  ...                 0                0                0                0   \n",
       "2  ...                 0                0                0                0   \n",
       "3  ...                 0                0                0                0   \n",
       "4  ...                 0                0                0                0   \n",
       "\n",
       "  AMT_REQ_CREDIT_BUREAU_HOUR AMT_REQ_CREDIT_BUREAU_DAY  \\\n",
       "0                        0.0                       0.0   \n",
       "1                        0.0                       0.0   \n",
       "2                        0.0                       0.0   \n",
       "3                        NaN                       NaN   \n",
       "4                        0.0                       0.0   \n",
       "\n",
       "   AMT_REQ_CREDIT_BUREAU_WEEK  AMT_REQ_CREDIT_BUREAU_MON  \\\n",
       "0                         0.0                        0.0   \n",
       "1                         0.0                        0.0   \n",
       "2                         0.0                        0.0   \n",
       "3                         NaN                        NaN   \n",
       "4                         0.0                        0.0   \n",
       "\n",
       "   AMT_REQ_CREDIT_BUREAU_QRT  AMT_REQ_CREDIT_BUREAU_YEAR  \n",
       "0                        0.0                         1.0  \n",
       "1                        0.0                         0.0  \n",
       "2                        0.0                         0.0  \n",
       "3                        NaN                         NaN  \n",
       "4                        0.0                         0.0  \n",
       "\n",
       "[5 rows x 122 columns]"
      ],
      "text/html": "<div>\n<style scoped>\n    .dataframe tbody tr th:only-of-type {\n        vertical-align: middle;\n    }\n\n    .dataframe tbody tr th {\n        vertical-align: top;\n    }\n\n    .dataframe thead th {\n        text-align: right;\n    }\n</style>\n<table border=\"1\" class=\"dataframe\">\n  <thead>\n    <tr style=\"text-align: right;\">\n      <th></th>\n      <th>SK_ID_CURR</th>\n      <th>TARGET</th>\n      <th>NAME_CONTRACT_TYPE</th>\n      <th>CODE_GENDER</th>\n      <th>FLAG_OWN_CAR</th>\n      <th>FLAG_OWN_REALTY</th>\n      <th>CNT_CHILDREN</th>\n      <th>AMT_INCOME_TOTAL</th>\n      <th>AMT_CREDIT</th>\n      <th>AMT_ANNUITY</th>\n      <th>...</th>\n      <th>FLAG_DOCUMENT_18</th>\n      <th>FLAG_DOCUMENT_19</th>\n      <th>FLAG_DOCUMENT_20</th>\n      <th>FLAG_DOCUMENT_21</th>\n      <th>AMT_REQ_CREDIT_BUREAU_HOUR</th>\n      <th>AMT_REQ_CREDIT_BUREAU_DAY</th>\n      <th>AMT_REQ_CREDIT_BUREAU_WEEK</th>\n      <th>AMT_REQ_CREDIT_BUREAU_MON</th>\n      <th>AMT_REQ_CREDIT_BUREAU_QRT</th>\n      <th>AMT_REQ_CREDIT_BUREAU_YEAR</th>\n    </tr>\n  </thead>\n  <tbody>\n    <tr>\n      <th>0</th>\n      <td>100002</td>\n      <td>1</td>\n      <td>Cash loans</td>\n      <td>M</td>\n      <td>N</td>\n      <td>Y</td>\n      <td>0</td>\n      <td>202500.0</td>\n      <td>406597.5</td>\n      <td>24700.5</td>\n      <td>...</td>\n      <td>0</td>\n      <td>0</td>\n      <td>0</td>\n      <td>0</td>\n      <td>0.0</td>\n      <td>0.0</td>\n      <td>0.0</td>\n      <td>0.0</td>\n      <td>0.0</td>\n      <td>1.0</td>\n    </tr>\n    <tr>\n      <th>1</th>\n      <td>100003</td>\n      <td>0</td>\n      <td>Cash loans</td>\n      <td>F</td>\n      <td>N</td>\n      <td>N</td>\n      <td>0</td>\n      <td>270000.0</td>\n      <td>1293502.5</td>\n      <td>35698.5</td>\n      <td>...</td>\n      <td>0</td>\n      <td>0</td>\n      <td>0</td>\n      <td>0</td>\n      <td>0.0</td>\n      <td>0.0</td>\n      <td>0.0</td>\n      <td>0.0</td>\n      <td>0.0</td>\n      <td>0.0</td>\n    </tr>\n    <tr>\n      <th>2</th>\n      <td>100004</td>\n      <td>0</td>\n      <td>Revolving loans</td>\n      <td>M</td>\n      <td>Y</td>\n      <td>Y</td>\n      <td>0</td>\n      <td>67500.0</td>\n      <td>135000.0</td>\n      <td>6750.0</td>\n      <td>...</td>\n      <td>0</td>\n      <td>0</td>\n      <td>0</td>\n      <td>0</td>\n      <td>0.0</td>\n      <td>0.0</td>\n      <td>0.0</td>\n      <td>0.0</td>\n      <td>0.0</td>\n      <td>0.0</td>\n    </tr>\n    <tr>\n      <th>3</th>\n      <td>100006</td>\n      <td>0</td>\n      <td>Cash loans</td>\n      <td>F</td>\n      <td>N</td>\n      <td>Y</td>\n      <td>0</td>\n      <td>135000.0</td>\n      <td>312682.5</td>\n      <td>29686.5</td>\n      <td>...</td>\n      <td>0</td>\n      <td>0</td>\n      <td>0</td>\n      <td>0</td>\n      <td>NaN</td>\n      <td>NaN</td>\n      <td>NaN</td>\n      <td>NaN</td>\n      <td>NaN</td>\n      <td>NaN</td>\n    </tr>\n    <tr>\n      <th>4</th>\n      <td>100007</td>\n      <td>0</td>\n      <td>Cash loans</td>\n      <td>M</td>\n      <td>N</td>\n      <td>Y</td>\n      <td>0</td>\n      <td>121500.0</td>\n      <td>513000.0</td>\n      <td>21865.5</td>\n      <td>...</td>\n      <td>0</td>\n      <td>0</td>\n      <td>0</td>\n      <td>0</td>\n      <td>0.0</td>\n      <td>0.0</td>\n      <td>0.0</td>\n      <td>0.0</td>\n      <td>0.0</td>\n      <td>0.0</td>\n    </tr>\n  </tbody>\n</table>\n<p>5 rows × 122 columns</p>\n</div>"
     },
     "metadata": {},
     "execution_count": 5
    }
   ],
   "source": [
    "df.head()"
   ]
  },
  {
   "cell_type": "code",
   "execution_count": 6,
   "metadata": {},
   "outputs": [
    {
     "output_type": "execute_result",
     "data": {
      "text/plain": [
       "  NAME_CONTRACT_TYPE CODE_GENDER FLAG_OWN_CAR FLAG_OWN_REALTY NAME_TYPE_SUITE  \\\n",
       "0         Cash loans           M            N               Y   Unaccompanied   \n",
       "1         Cash loans           F            N               N          Family   \n",
       "2    Revolving loans           M            Y               Y   Unaccompanied   \n",
       "3         Cash loans           F            N               Y   Unaccompanied   \n",
       "4         Cash loans           M            N               Y   Unaccompanied   \n",
       "\n",
       "  NAME_INCOME_TYPE            NAME_EDUCATION_TYPE    NAME_FAMILY_STATUS  \\\n",
       "0          Working  Secondary / secondary special  Single / not married   \n",
       "1    State servant               Higher education               Married   \n",
       "2          Working  Secondary / secondary special  Single / not married   \n",
       "3          Working  Secondary / secondary special        Civil marriage   \n",
       "4          Working  Secondary / secondary special  Single / not married   \n",
       "\n",
       "   NAME_HOUSING_TYPE OCCUPATION_TYPE WEEKDAY_APPR_PROCESS_START  \\\n",
       "0  House / apartment        Laborers                  WEDNESDAY   \n",
       "1  House / apartment      Core staff                     MONDAY   \n",
       "2  House / apartment        Laborers                     MONDAY   \n",
       "3  House / apartment        Laborers                  WEDNESDAY   \n",
       "4  House / apartment      Core staff                   THURSDAY   \n",
       "\n",
       "        ORGANIZATION_TYPE FONDKAPREMONT_MODE  HOUSETYPE_MODE  \\\n",
       "0  Business Entity Type 3   reg oper account  block of flats   \n",
       "1                  School   reg oper account  block of flats   \n",
       "2              Government                NaN             NaN   \n",
       "3  Business Entity Type 3                NaN             NaN   \n",
       "4                Religion                NaN             NaN   \n",
       "\n",
       "  WALLSMATERIAL_MODE EMERGENCYSTATE_MODE  \n",
       "0       Stone, brick                  No  \n",
       "1              Block                  No  \n",
       "2                NaN                 NaN  \n",
       "3                NaN                 NaN  \n",
       "4                NaN                 NaN  "
      ],
      "text/html": "<div>\n<style scoped>\n    .dataframe tbody tr th:only-of-type {\n        vertical-align: middle;\n    }\n\n    .dataframe tbody tr th {\n        vertical-align: top;\n    }\n\n    .dataframe thead th {\n        text-align: right;\n    }\n</style>\n<table border=\"1\" class=\"dataframe\">\n  <thead>\n    <tr style=\"text-align: right;\">\n      <th></th>\n      <th>NAME_CONTRACT_TYPE</th>\n      <th>CODE_GENDER</th>\n      <th>FLAG_OWN_CAR</th>\n      <th>FLAG_OWN_REALTY</th>\n      <th>NAME_TYPE_SUITE</th>\n      <th>NAME_INCOME_TYPE</th>\n      <th>NAME_EDUCATION_TYPE</th>\n      <th>NAME_FAMILY_STATUS</th>\n      <th>NAME_HOUSING_TYPE</th>\n      <th>OCCUPATION_TYPE</th>\n      <th>WEEKDAY_APPR_PROCESS_START</th>\n      <th>ORGANIZATION_TYPE</th>\n      <th>FONDKAPREMONT_MODE</th>\n      <th>HOUSETYPE_MODE</th>\n      <th>WALLSMATERIAL_MODE</th>\n      <th>EMERGENCYSTATE_MODE</th>\n    </tr>\n  </thead>\n  <tbody>\n    <tr>\n      <th>0</th>\n      <td>Cash loans</td>\n      <td>M</td>\n      <td>N</td>\n      <td>Y</td>\n      <td>Unaccompanied</td>\n      <td>Working</td>\n      <td>Secondary / secondary special</td>\n      <td>Single / not married</td>\n      <td>House / apartment</td>\n      <td>Laborers</td>\n      <td>WEDNESDAY</td>\n      <td>Business Entity Type 3</td>\n      <td>reg oper account</td>\n      <td>block of flats</td>\n      <td>Stone, brick</td>\n      <td>No</td>\n    </tr>\n    <tr>\n      <th>1</th>\n      <td>Cash loans</td>\n      <td>F</td>\n      <td>N</td>\n      <td>N</td>\n      <td>Family</td>\n      <td>State servant</td>\n      <td>Higher education</td>\n      <td>Married</td>\n      <td>House / apartment</td>\n      <td>Core staff</td>\n      <td>MONDAY</td>\n      <td>School</td>\n      <td>reg oper account</td>\n      <td>block of flats</td>\n      <td>Block</td>\n      <td>No</td>\n    </tr>\n    <tr>\n      <th>2</th>\n      <td>Revolving loans</td>\n      <td>M</td>\n      <td>Y</td>\n      <td>Y</td>\n      <td>Unaccompanied</td>\n      <td>Working</td>\n      <td>Secondary / secondary special</td>\n      <td>Single / not married</td>\n      <td>House / apartment</td>\n      <td>Laborers</td>\n      <td>MONDAY</td>\n      <td>Government</td>\n      <td>NaN</td>\n      <td>NaN</td>\n      <td>NaN</td>\n      <td>NaN</td>\n    </tr>\n    <tr>\n      <th>3</th>\n      <td>Cash loans</td>\n      <td>F</td>\n      <td>N</td>\n      <td>Y</td>\n      <td>Unaccompanied</td>\n      <td>Working</td>\n      <td>Secondary / secondary special</td>\n      <td>Civil marriage</td>\n      <td>House / apartment</td>\n      <td>Laborers</td>\n      <td>WEDNESDAY</td>\n      <td>Business Entity Type 3</td>\n      <td>NaN</td>\n      <td>NaN</td>\n      <td>NaN</td>\n      <td>NaN</td>\n    </tr>\n    <tr>\n      <th>4</th>\n      <td>Cash loans</td>\n      <td>M</td>\n      <td>N</td>\n      <td>Y</td>\n      <td>Unaccompanied</td>\n      <td>Working</td>\n      <td>Secondary / secondary special</td>\n      <td>Single / not married</td>\n      <td>House / apartment</td>\n      <td>Core staff</td>\n      <td>THURSDAY</td>\n      <td>Religion</td>\n      <td>NaN</td>\n      <td>NaN</td>\n      <td>NaN</td>\n      <td>NaN</td>\n    </tr>\n  </tbody>\n</table>\n</div>"
     },
     "metadata": {},
     "execution_count": 6
    }
   ],
   "source": [
    "df.select_dtypes(include=\"object\").head()"
   ]
  },
  {
   "source": [
    "## Retirar variaveis que não pertence ao estudo do caso (Drop axi=1)"
   ],
   "cell_type": "markdown",
   "metadata": {}
  },
  {
   "cell_type": "code",
   "execution_count": 7,
   "metadata": {},
   "outputs": [],
   "source": [
    "df = df.drop(\"SK_ID_CURR\", axis=1)"
   ]
  },
  {
   "source": [
    "## Identificar variaveis Nulas e preencher com a media da categoria (Nan)"
   ],
   "cell_type": "markdown",
   "metadata": {}
  },
  {
   "cell_type": "code",
   "execution_count": 8,
   "metadata": {},
   "outputs": [
    {
     "output_type": "execute_result",
     "data": {
      "text/plain": [
       "NAME_CONTRACT_TYPE                 0\n",
       "CODE_GENDER                        0\n",
       "FLAG_OWN_CAR                       0\n",
       "FLAG_OWN_REALTY                    0\n",
       "NAME_TYPE_SUITE                 1292\n",
       "NAME_INCOME_TYPE                   0\n",
       "NAME_EDUCATION_TYPE                0\n",
       "NAME_FAMILY_STATUS                 0\n",
       "NAME_HOUSING_TYPE                  0\n",
       "OCCUPATION_TYPE                96391\n",
       "WEEKDAY_APPR_PROCESS_START         0\n",
       "ORGANIZATION_TYPE                  0\n",
       "FONDKAPREMONT_MODE            210295\n",
       "HOUSETYPE_MODE                154297\n",
       "WALLSMATERIAL_MODE            156341\n",
       "EMERGENCYSTATE_MODE           145755\n",
       "dtype: int64"
      ]
     },
     "metadata": {},
     "execution_count": 8
    }
   ],
   "source": [
    "df.select_dtypes(include=\"object\").isnull().sum()"
   ]
  },
  {
   "cell_type": "code",
   "execution_count": 9,
   "metadata": {},
   "outputs": [],
   "source": [
    "df[\"NAME_TYPE_SUITE\"].fillna(axis=0, method=\"bfill\", inplace=True)\n",
    "df[\"OCCUPATION_TYPE\"].fillna(axis=0, method=\"bfill\", inplace=True)\n",
    "df[\"FONDKAPREMONT_MODE\"].fillna(axis=0, method=\"bfill\", inplace=True)\n",
    "df[\"HOUSETYPE_MODE\"].fillna(axis=0, method=\"bfill\", inplace=True)\n",
    "df[\"WALLSMATERIAL_MODE\"].fillna(axis=0, method=\"bfill\", inplace=True)\n",
    "df[\"EMERGENCYSTATE_MODE\"].fillna(axis=0, method=\"bfill\", inplace=True)\n",
    "df[\"FONDKAPREMONT_MODE\"].fillna(axis=0, method=\"bfill\", inplace=True)"
   ]
  },
  {
   "cell_type": "code",
   "execution_count": 10,
   "metadata": {},
   "outputs": [],
   "source": [
    "df[\"FONDKAPREMONT_MODE\"].fillna(value=\"reg oper account\", inplace=True)"
   ]
  },
  {
   "cell_type": "code",
   "execution_count": 11,
   "metadata": {},
   "outputs": [],
   "source": [
    "# df.dropna(axis=1)"
   ]
  },
  {
   "cell_type": "code",
   "execution_count": 12,
   "metadata": {},
   "outputs": [
    {
     "output_type": "execute_result",
     "data": {
      "text/plain": [
       "TARGET                         0\n",
       "CNT_CHILDREN                   0\n",
       "DAYS_BIRTH                     0\n",
       "DAYS_EMPLOYED                  0\n",
       "DAYS_ID_PUBLISH                0\n",
       "FLAG_MOBIL                     0\n",
       "FLAG_EMP_PHONE                 0\n",
       "FLAG_WORK_PHONE                0\n",
       "FLAG_CONT_MOBILE               0\n",
       "FLAG_PHONE                     0\n",
       "FLAG_EMAIL                     0\n",
       "REGION_RATING_CLIENT           0\n",
       "REGION_RATING_CLIENT_W_CITY    0\n",
       "HOUR_APPR_PROCESS_START        0\n",
       "REG_REGION_NOT_LIVE_REGION     0\n",
       "REG_REGION_NOT_WORK_REGION     0\n",
       "LIVE_REGION_NOT_WORK_REGION    0\n",
       "REG_CITY_NOT_LIVE_CITY         0\n",
       "REG_CITY_NOT_WORK_CITY         0\n",
       "LIVE_CITY_NOT_WORK_CITY        0\n",
       "FLAG_DOCUMENT_2                0\n",
       "FLAG_DOCUMENT_3                0\n",
       "FLAG_DOCUMENT_4                0\n",
       "FLAG_DOCUMENT_5                0\n",
       "FLAG_DOCUMENT_6                0\n",
       "FLAG_DOCUMENT_7                0\n",
       "FLAG_DOCUMENT_8                0\n",
       "FLAG_DOCUMENT_9                0\n",
       "FLAG_DOCUMENT_10               0\n",
       "FLAG_DOCUMENT_11               0\n",
       "FLAG_DOCUMENT_12               0\n",
       "FLAG_DOCUMENT_13               0\n",
       "FLAG_DOCUMENT_14               0\n",
       "FLAG_DOCUMENT_15               0\n",
       "FLAG_DOCUMENT_16               0\n",
       "FLAG_DOCUMENT_17               0\n",
       "FLAG_DOCUMENT_18               0\n",
       "FLAG_DOCUMENT_19               0\n",
       "FLAG_DOCUMENT_20               0\n",
       "FLAG_DOCUMENT_21               0\n",
       "dtype: int64"
      ]
     },
     "metadata": {},
     "execution_count": 12
    }
   ],
   "source": [
    "df.select_dtypes(include=\"int64\").isnull().sum()"
   ]
  },
  {
   "cell_type": "code",
   "execution_count": 13,
   "metadata": {},
   "outputs": [
    {
     "output_type": "execute_result",
     "data": {
      "text/plain": [
       "AMT_INCOME_TOTAL                  0\n",
       "AMT_CREDIT                        0\n",
       "AMT_ANNUITY                      12\n",
       "AMT_GOODS_PRICE                 278\n",
       "REGION_POPULATION_RELATIVE        0\n",
       "                              ...  \n",
       "AMT_REQ_CREDIT_BUREAU_DAY     41519\n",
       "AMT_REQ_CREDIT_BUREAU_WEEK    41519\n",
       "AMT_REQ_CREDIT_BUREAU_MON     41519\n",
       "AMT_REQ_CREDIT_BUREAU_QRT     41519\n",
       "AMT_REQ_CREDIT_BUREAU_YEAR    41519\n",
       "Length: 65, dtype: int64"
      ]
     },
     "metadata": {},
     "execution_count": 13
    }
   ],
   "source": [
    "df.select_dtypes(include=\"float64\").isnull().sum()"
   ]
  },
  {
   "cell_type": "code",
   "execution_count": 14,
   "metadata": {},
   "outputs": [],
   "source": [
    "df[\"AMT_ANNUITY\"].fillna(value=df[\"AMT_ANNUITY\"].mean(), inplace=True)\n",
    "df[\"AMT_GOODS_PRICE\"].fillna(value=df[\"AMT_GOODS_PRICE\"].mean(), inplace=True)\n",
    "df[\"AMT_REQ_CREDIT_BUREAU_DAY\"].fillna(value=df[\"AMT_REQ_CREDIT_BUREAU_DAY\"].mean(), inplace=True)\n",
    "df[\"AMT_REQ_CREDIT_BUREAU_WEEK\"].fillna(value=df[\"AMT_REQ_CREDIT_BUREAU_WEEK\"].mean(), inplace=True)\n",
    "df[\"AMT_REQ_CREDIT_BUREAU_MON\"].fillna(value=df[\"AMT_REQ_CREDIT_BUREAU_MON\"].mean(), inplace=True)\n",
    "df[\"AMT_REQ_CREDIT_BUREAU_QRT\"].fillna(value=df[\"AMT_REQ_CREDIT_BUREAU_QRT\"].mean(), inplace=True)\n",
    "df[\"AMT_REQ_CREDIT_BUREAU_YEAR\"].fillna(value=df[\"AMT_REQ_CREDIT_BUREAU_YEAR\"].mean(), inplace=True)\n"
   ]
  },
  {
   "cell_type": "code",
   "execution_count": 15,
   "metadata": {},
   "outputs": [],
   "source": [
    "df.fillna(value=df.mean(), inplace=True)"
   ]
  },
  {
   "cell_type": "code",
   "execution_count": 16,
   "metadata": {},
   "outputs": [
    {
     "output_type": "execute_result",
     "data": {
      "text/plain": [
       "0"
      ]
     },
     "metadata": {},
     "execution_count": 16
    }
   ],
   "source": [
    "df.isnull().sum().sum()"
   ]
  },
  {
   "source": [
    "## Converter variaveis textos/categoricos para numericos/categoricos "
   ],
   "cell_type": "markdown",
   "metadata": {}
  },
  {
   "cell_type": "code",
   "execution_count": 17,
   "metadata": {},
   "outputs": [
    {
     "output_type": "execute_result",
     "data": {
      "text/plain": [
       "NAME_CONTRACT_TYPE            0\n",
       "CODE_GENDER                   0\n",
       "FLAG_OWN_CAR                  0\n",
       "FLAG_OWN_REALTY               0\n",
       "NAME_TYPE_SUITE               0\n",
       "NAME_INCOME_TYPE              0\n",
       "NAME_EDUCATION_TYPE           0\n",
       "NAME_FAMILY_STATUS            0\n",
       "NAME_HOUSING_TYPE             0\n",
       "OCCUPATION_TYPE               0\n",
       "WEEKDAY_APPR_PROCESS_START    0\n",
       "ORGANIZATION_TYPE             0\n",
       "FONDKAPREMONT_MODE            0\n",
       "HOUSETYPE_MODE                0\n",
       "WALLSMATERIAL_MODE            0\n",
       "EMERGENCYSTATE_MODE           0\n",
       "dtype: int64"
      ]
     },
     "metadata": {},
     "execution_count": 17
    }
   ],
   "source": [
    "df.select_dtypes(include=\"object\").isnull().sum()"
   ]
  },
  {
   "cell_type": "code",
   "execution_count": 18,
   "metadata": {},
   "outputs": [],
   "source": [
    "def convert_text_to_numetic(value, lstText):\n",
    "    for index, text in enumerate(lstText):\n",
    "        if text == value:\n",
    "            return index\n"
   ]
  },
  {
   "cell_type": "code",
   "execution_count": 19,
   "metadata": {},
   "outputs": [
    {
     "output_type": "stream",
     "name": "stdout",
     "text": [
      "CPU times: user 2.54 s, sys: 15.9 ms, total: 2.55 s\nWall time: 2.55 s\n"
     ]
    }
   ],
   "source": [
    "%%time\n",
    "lst_Coll = [\"CODE_GENDER\", \"FLAG_OWN_CAR\", \"FLAG_OWN_REALTY\", \"NAME_TYPE_SUITE\", \"NAME_INCOME_TYPE\", \"NAME_EDUCATION_TYPE\", \"NAME_FAMILY_STATUS\", \"NAME_HOUSING_TYPE\", \"OCCUPATION_TYPE\", \"WEEKDAY_APPR_PROCESS_START\", \"ORGANIZATION_TYPE\", \"FONDKAPREMONT_MODE\", \"HOUSETYPE_MODE\", \"WALLSMATERIAL_MODE\", \"EMERGENCYSTATE_MODE\"] \n",
    "\n",
    "for col in lst_Coll:\n",
    "    lstText = df[col].unique()\n",
    "    df[\"CAT_\" + col] = [convert_text_to_numetic(text, lstText) for text in df[col].values]"
   ]
  },
  {
   "cell_type": "code",
   "execution_count": 20,
   "metadata": {},
   "outputs": [
    {
     "output_type": "execute_result",
     "data": {
      "text/plain": [
       "   TARGET NAME_CONTRACT_TYPE CODE_GENDER FLAG_OWN_CAR FLAG_OWN_REALTY  \\\n",
       "0       1         Cash loans           M            N               Y   \n",
       "1       0         Cash loans           F            N               N   \n",
       "2       0    Revolving loans           M            Y               Y   \n",
       "3       0         Cash loans           F            N               Y   \n",
       "4       0         Cash loans           M            N               Y   \n",
       "\n",
       "   CNT_CHILDREN  AMT_INCOME_TOTAL  AMT_CREDIT  AMT_ANNUITY  AMT_GOODS_PRICE  \\\n",
       "0             0          202500.0    406597.5      24700.5         351000.0   \n",
       "1             0          270000.0   1293502.5      35698.5        1129500.0   \n",
       "2             0           67500.0    135000.0       6750.0         135000.0   \n",
       "3             0          135000.0    312682.5      29686.5         297000.0   \n",
       "4             0          121500.0    513000.0      21865.5         513000.0   \n",
       "\n",
       "   ... CAT_NAME_EDUCATION_TYPE CAT_NAME_FAMILY_STATUS CAT_NAME_HOUSING_TYPE  \\\n",
       "0  ...                       0                      0                     0   \n",
       "1  ...                       1                      1                     0   \n",
       "2  ...                       0                      0                     0   \n",
       "3  ...                       0                      2                     0   \n",
       "4  ...                       0                      0                     0   \n",
       "\n",
       "  CAT_OCCUPATION_TYPE CAT_WEEKDAY_APPR_PROCESS_START  CAT_ORGANIZATION_TYPE  \\\n",
       "0                   0                              0                      0   \n",
       "1                   1                              1                      1   \n",
       "2                   0                              1                      2   \n",
       "3                   0                              0                      0   \n",
       "4                   1                              2                      3   \n",
       "\n",
       "   CAT_FONDKAPREMONT_MODE  CAT_HOUSETYPE_MODE  CAT_WALLSMATERIAL_MODE  \\\n",
       "0                       0                   0                       0   \n",
       "1                       0                   0                       1   \n",
       "2                       0                   0                       2   \n",
       "3                       0                   0                       2   \n",
       "4                       0                   0                       2   \n",
       "\n",
       "   CAT_EMERGENCYSTATE_MODE  \n",
       "0                        0  \n",
       "1                        0  \n",
       "2                        0  \n",
       "3                        0  \n",
       "4                        0  \n",
       "\n",
       "[5 rows x 136 columns]"
      ],
      "text/html": "<div>\n<style scoped>\n    .dataframe tbody tr th:only-of-type {\n        vertical-align: middle;\n    }\n\n    .dataframe tbody tr th {\n        vertical-align: top;\n    }\n\n    .dataframe thead th {\n        text-align: right;\n    }\n</style>\n<table border=\"1\" class=\"dataframe\">\n  <thead>\n    <tr style=\"text-align: right;\">\n      <th></th>\n      <th>TARGET</th>\n      <th>NAME_CONTRACT_TYPE</th>\n      <th>CODE_GENDER</th>\n      <th>FLAG_OWN_CAR</th>\n      <th>FLAG_OWN_REALTY</th>\n      <th>CNT_CHILDREN</th>\n      <th>AMT_INCOME_TOTAL</th>\n      <th>AMT_CREDIT</th>\n      <th>AMT_ANNUITY</th>\n      <th>AMT_GOODS_PRICE</th>\n      <th>...</th>\n      <th>CAT_NAME_EDUCATION_TYPE</th>\n      <th>CAT_NAME_FAMILY_STATUS</th>\n      <th>CAT_NAME_HOUSING_TYPE</th>\n      <th>CAT_OCCUPATION_TYPE</th>\n      <th>CAT_WEEKDAY_APPR_PROCESS_START</th>\n      <th>CAT_ORGANIZATION_TYPE</th>\n      <th>CAT_FONDKAPREMONT_MODE</th>\n      <th>CAT_HOUSETYPE_MODE</th>\n      <th>CAT_WALLSMATERIAL_MODE</th>\n      <th>CAT_EMERGENCYSTATE_MODE</th>\n    </tr>\n  </thead>\n  <tbody>\n    <tr>\n      <th>0</th>\n      <td>1</td>\n      <td>Cash loans</td>\n      <td>M</td>\n      <td>N</td>\n      <td>Y</td>\n      <td>0</td>\n      <td>202500.0</td>\n      <td>406597.5</td>\n      <td>24700.5</td>\n      <td>351000.0</td>\n      <td>...</td>\n      <td>0</td>\n      <td>0</td>\n      <td>0</td>\n      <td>0</td>\n      <td>0</td>\n      <td>0</td>\n      <td>0</td>\n      <td>0</td>\n      <td>0</td>\n      <td>0</td>\n    </tr>\n    <tr>\n      <th>1</th>\n      <td>0</td>\n      <td>Cash loans</td>\n      <td>F</td>\n      <td>N</td>\n      <td>N</td>\n      <td>0</td>\n      <td>270000.0</td>\n      <td>1293502.5</td>\n      <td>35698.5</td>\n      <td>1129500.0</td>\n      <td>...</td>\n      <td>1</td>\n      <td>1</td>\n      <td>0</td>\n      <td>1</td>\n      <td>1</td>\n      <td>1</td>\n      <td>0</td>\n      <td>0</td>\n      <td>1</td>\n      <td>0</td>\n    </tr>\n    <tr>\n      <th>2</th>\n      <td>0</td>\n      <td>Revolving loans</td>\n      <td>M</td>\n      <td>Y</td>\n      <td>Y</td>\n      <td>0</td>\n      <td>67500.0</td>\n      <td>135000.0</td>\n      <td>6750.0</td>\n      <td>135000.0</td>\n      <td>...</td>\n      <td>0</td>\n      <td>0</td>\n      <td>0</td>\n      <td>0</td>\n      <td>1</td>\n      <td>2</td>\n      <td>0</td>\n      <td>0</td>\n      <td>2</td>\n      <td>0</td>\n    </tr>\n    <tr>\n      <th>3</th>\n      <td>0</td>\n      <td>Cash loans</td>\n      <td>F</td>\n      <td>N</td>\n      <td>Y</td>\n      <td>0</td>\n      <td>135000.0</td>\n      <td>312682.5</td>\n      <td>29686.5</td>\n      <td>297000.0</td>\n      <td>...</td>\n      <td>0</td>\n      <td>2</td>\n      <td>0</td>\n      <td>0</td>\n      <td>0</td>\n      <td>0</td>\n      <td>0</td>\n      <td>0</td>\n      <td>2</td>\n      <td>0</td>\n    </tr>\n    <tr>\n      <th>4</th>\n      <td>0</td>\n      <td>Cash loans</td>\n      <td>M</td>\n      <td>N</td>\n      <td>Y</td>\n      <td>0</td>\n      <td>121500.0</td>\n      <td>513000.0</td>\n      <td>21865.5</td>\n      <td>513000.0</td>\n      <td>...</td>\n      <td>0</td>\n      <td>0</td>\n      <td>0</td>\n      <td>1</td>\n      <td>2</td>\n      <td>3</td>\n      <td>0</td>\n      <td>0</td>\n      <td>2</td>\n      <td>0</td>\n    </tr>\n  </tbody>\n</table>\n<p>5 rows × 136 columns</p>\n</div>"
     },
     "metadata": {},
     "execution_count": 20
    }
   ],
   "source": [
    "df.head()"
   ]
  },
  {
   "source": [
    "## Retirar registros que tenha variaveis com outliers (Escor Z)"
   ],
   "cell_type": "markdown",
   "metadata": {}
  },
  {
   "cell_type": "code",
   "execution_count": 21,
   "metadata": {},
   "outputs": [],
   "source": [
    "name_columns = df.select_dtypes(include=\"float64\").columns\n",
    "des_target = df[\"TARGET\"].unique()"
   ]
  },
  {
   "cell_type": "code",
   "execution_count": 22,
   "metadata": {},
   "outputs": [
    {
     "output_type": "execute_result",
     "data": {
      "text/plain": [
       "Index(['AMT_INCOME_TOTAL', 'AMT_CREDIT', 'AMT_ANNUITY', 'AMT_GOODS_PRICE',\n",
       "       'REGION_POPULATION_RELATIVE', 'DAYS_REGISTRATION', 'OWN_CAR_AGE',\n",
       "       'CNT_FAM_MEMBERS', 'EXT_SOURCE_1', 'EXT_SOURCE_2', 'EXT_SOURCE_3',\n",
       "       'APARTMENTS_AVG', 'BASEMENTAREA_AVG', 'YEARS_BEGINEXPLUATATION_AVG',\n",
       "       'YEARS_BUILD_AVG', 'COMMONAREA_AVG', 'ELEVATORS_AVG', 'ENTRANCES_AVG',\n",
       "       'FLOORSMAX_AVG', 'FLOORSMIN_AVG', 'LANDAREA_AVG',\n",
       "       'LIVINGAPARTMENTS_AVG', 'LIVINGAREA_AVG', 'NONLIVINGAPARTMENTS_AVG',\n",
       "       'NONLIVINGAREA_AVG', 'APARTMENTS_MODE', 'BASEMENTAREA_MODE',\n",
       "       'YEARS_BEGINEXPLUATATION_MODE', 'YEARS_BUILD_MODE', 'COMMONAREA_MODE',\n",
       "       'ELEVATORS_MODE', 'ENTRANCES_MODE', 'FLOORSMAX_MODE', 'FLOORSMIN_MODE',\n",
       "       'LANDAREA_MODE', 'LIVINGAPARTMENTS_MODE', 'LIVINGAREA_MODE',\n",
       "       'NONLIVINGAPARTMENTS_MODE', 'NONLIVINGAREA_MODE', 'APARTMENTS_MEDI',\n",
       "       'BASEMENTAREA_MEDI', 'YEARS_BEGINEXPLUATATION_MEDI', 'YEARS_BUILD_MEDI',\n",
       "       'COMMONAREA_MEDI', 'ELEVATORS_MEDI', 'ENTRANCES_MEDI', 'FLOORSMAX_MEDI',\n",
       "       'FLOORSMIN_MEDI', 'LANDAREA_MEDI', 'LIVINGAPARTMENTS_MEDI',\n",
       "       'LIVINGAREA_MEDI', 'NONLIVINGAPARTMENTS_MEDI', 'NONLIVINGAREA_MEDI',\n",
       "       'TOTALAREA_MODE', 'OBS_30_CNT_SOCIAL_CIRCLE',\n",
       "       'DEF_30_CNT_SOCIAL_CIRCLE', 'OBS_60_CNT_SOCIAL_CIRCLE',\n",
       "       'DEF_60_CNT_SOCIAL_CIRCLE', 'DAYS_LAST_PHONE_CHANGE',\n",
       "       'AMT_REQ_CREDIT_BUREAU_HOUR', 'AMT_REQ_CREDIT_BUREAU_DAY',\n",
       "       'AMT_REQ_CREDIT_BUREAU_WEEK', 'AMT_REQ_CREDIT_BUREAU_MON',\n",
       "       'AMT_REQ_CREDIT_BUREAU_QRT', 'AMT_REQ_CREDIT_BUREAU_YEAR'],\n",
       "      dtype='object')"
      ]
     },
     "metadata": {},
     "execution_count": 22
    }
   ],
   "source": [
    "name_columns"
   ]
  },
  {
   "cell_type": "code",
   "execution_count": 23,
   "metadata": {},
   "outputs": [],
   "source": [
    "name_columns = df.select_dtypes(include=\"int64\").columns"
   ]
  },
  {
   "cell_type": "code",
   "execution_count": 24,
   "metadata": {},
   "outputs": [
    {
     "output_type": "execute_result",
     "data": {
      "text/plain": [
       "Index(['TARGET', 'CNT_CHILDREN', 'DAYS_BIRTH', 'DAYS_EMPLOYED',\n",
       "       'DAYS_ID_PUBLISH', 'FLAG_MOBIL', 'FLAG_EMP_PHONE', 'FLAG_WORK_PHONE',\n",
       "       'FLAG_CONT_MOBILE', 'FLAG_PHONE', 'FLAG_EMAIL', 'REGION_RATING_CLIENT',\n",
       "       'REGION_RATING_CLIENT_W_CITY', 'HOUR_APPR_PROCESS_START',\n",
       "       'REG_REGION_NOT_LIVE_REGION', 'REG_REGION_NOT_WORK_REGION',\n",
       "       'LIVE_REGION_NOT_WORK_REGION', 'REG_CITY_NOT_LIVE_CITY',\n",
       "       'REG_CITY_NOT_WORK_CITY', 'LIVE_CITY_NOT_WORK_CITY', 'FLAG_DOCUMENT_2',\n",
       "       'FLAG_DOCUMENT_3', 'FLAG_DOCUMENT_4', 'FLAG_DOCUMENT_5',\n",
       "       'FLAG_DOCUMENT_6', 'FLAG_DOCUMENT_7', 'FLAG_DOCUMENT_8',\n",
       "       'FLAG_DOCUMENT_9', 'FLAG_DOCUMENT_10', 'FLAG_DOCUMENT_11',\n",
       "       'FLAG_DOCUMENT_12', 'FLAG_DOCUMENT_13', 'FLAG_DOCUMENT_14',\n",
       "       'FLAG_DOCUMENT_15', 'FLAG_DOCUMENT_16', 'FLAG_DOCUMENT_17',\n",
       "       'FLAG_DOCUMENT_18', 'FLAG_DOCUMENT_19', 'FLAG_DOCUMENT_20',\n",
       "       'FLAG_DOCUMENT_21', 'CAT_CODE_GENDER', 'CAT_FLAG_OWN_CAR',\n",
       "       'CAT_FLAG_OWN_REALTY', 'CAT_NAME_TYPE_SUITE', 'CAT_NAME_INCOME_TYPE',\n",
       "       'CAT_NAME_EDUCATION_TYPE', 'CAT_NAME_FAMILY_STATUS',\n",
       "       'CAT_NAME_HOUSING_TYPE', 'CAT_OCCUPATION_TYPE',\n",
       "       'CAT_WEEKDAY_APPR_PROCESS_START', 'CAT_ORGANIZATION_TYPE',\n",
       "       'CAT_FONDKAPREMONT_MODE', 'CAT_HOUSETYPE_MODE',\n",
       "       'CAT_WALLSMATERIAL_MODE', 'CAT_EMERGENCYSTATE_MODE'],\n",
       "      dtype='object')"
      ]
     },
     "metadata": {},
     "execution_count": 24
    }
   ],
   "source": [
    "name_columns"
   ]
  },
  {
   "cell_type": "code",
   "execution_count": 25,
   "metadata": {},
   "outputs": [
    {
     "output_type": "stream",
     "name": "stdout",
     "text": [
      "Classe: 1 - variavel: TARGET\n",
      "Real Min: 0.000 Real Max: 0.000\n",
      "Limit Min: 0.000 Limit Max: 0.000\n",
      "Identfied outliers: 0 \n",
      "\n",
      "Classe: 0 - variavel: TARGET\n",
      "Real Min: 1.000 Real Max: 1.000\n",
      "Limit Min: 1.000 Limit Max: 1.000\n",
      "Identfied outliers: 0 \n",
      "\n",
      "Classe: 1 - variavel: CNT_CHILDREN\n",
      "Real Min: 0.000 Real Max: 19.000\n",
      "Limit Min: -1.384 Limit Max: 2.210\n",
      "Identfied outliers: 3843 \n",
      "\n",
      "Classe: 0 - variavel: CNT_CHILDREN\n",
      "Real Min: 0.000 Real Max: 11.000\n",
      "Limit Min: -1.428 Limit Max: 2.356\n",
      "Identfied outliers: 429 \n",
      "\n",
      "Classe: 1 - variavel: DAYS_BIRTH\n",
      "Real Min: -25229.000 Real Max: -7489.000\n",
      "Limit Min: -27115.954 Limit Max: -5226.798\n",
      "Identfied outliers: 0 \n",
      "\n",
      "Classe: 0 - variavel: DAYS_BIRTH\n",
      "Real Min: -25168.000 Real Max: -7678.000\n",
      "Limit Min: -25450.709 Limit Max: -4375.700\n",
      "Identfied outliers: 0 \n",
      "\n",
      "Classe: 1 - variavel: DAYS_EMPLOYED\n",
      "Real Min: -17912.000 Real Max: 365243.000\n",
      "Limit Min: -292318.177 Limit Max: 425319.111\n",
      "Identfied outliers: 0 \n",
      "\n",
      "Classe: 0 - variavel: DAYS_EMPLOYED\n",
      "Real Min: -16069.000 Real Max: 365243.000\n",
      "Limit Min: -257568.955 Limit Max: 343668.254\n",
      "Identfied outliers: 2982 \n",
      "\n",
      "Classe: 1 - variavel: DAYS_ID_PUBLISH\n",
      "Real Min: -7197.000 Real Max: 0.000\n",
      "Limit Min: -6780.147 Limit Max: 751.641\n",
      "Identfied outliers: 1 \n",
      "\n",
      "Classe: 0 - variavel: DAYS_ID_PUBLISH\n",
      "Real Min: -6207.000 Real Max: 0.000\n",
      "Limit Min: -6350.839 Limit Max: 1156.901\n",
      "Identfied outliers: 0 \n",
      "\n",
      "Classe: 1 - variavel: FLAG_MOBIL\n",
      "Real Min: 0.000 Real Max: 1.000\n",
      "Limit Min: 0.995 Limit Max: 1.005\n",
      "Identfied outliers: 1 \n",
      "\n",
      "Classe: 0 - variavel: FLAG_MOBIL\n",
      "Real Min: 1.000 Real Max: 1.000\n",
      "Limit Min: 1.000 Limit Max: 1.000\n",
      "Identfied outliers: 0 \n",
      "\n",
      "Classe: 1 - variavel: FLAG_EMP_PHONE\n",
      "Real Min: 0.000 Real Max: 1.000\n",
      "Limit Min: -0.163 Limit Max: 1.788\n",
      "Identfied outliers: 0 \n",
      "\n",
      "Classe: 0 - variavel: FLAG_EMP_PHONE\n",
      "Real Min: 0.000 Real Max: 1.000\n",
      "Limit Min: 0.983 Limit Max: 1.017\n",
      "Identfied outliers: 1 \n",
      "\n",
      "Classe: 1 - variavel: FLAG_WORK_PHONE\n",
      "Real Min: 0.000 Real Max: 1.000\n",
      "Limit Min: -0.795 Limit Max: 1.185\n",
      "Identfied outliers: 0 \n",
      "\n",
      "Classe: 0 - variavel: FLAG_WORK_PHONE\n",
      "Real Min: 0.000 Real Max: 1.000\n",
      "Limit Min: -0.840 Limit Max: 1.378\n",
      "Identfied outliers: 0 \n",
      "\n",
      "Classe: 1 - variavel: FLAG_CONT_MOBILE\n",
      "Real Min: 0.000 Real Max: 1.000\n",
      "Limit Min: 0.890 Limit Max: 1.106\n",
      "Identfied outliers: 523 \n",
      "\n",
      "Classe: 0 - variavel: FLAG_CONT_MOBILE\n",
      "Real Min: 0.000 Real Max: 1.000\n",
      "Limit Min: 0.887 Limit Max: 1.109\n",
      "Identfied outliers: 42 \n",
      "\n",
      "Classe: 1 - variavel: FLAG_PHONE\n",
      "Real Min: 0.000 Real Max: 1.000\n",
      "Limit Min: -0.843 Limit Max: 1.412\n",
      "Identfied outliers: 0 \n",
      "\n",
      "Classe: 0 - variavel: FLAG_PHONE\n",
      "Real Min: 0.000 Real Max: 1.000\n",
      "Limit Min: -0.829 Limit Max: 1.315\n",
      "Identfied outliers: 0 \n",
      "\n",
      "Classe: 1 - variavel: FLAG_EMAIL\n",
      "Real Min: 0.000 Real Max: 1.000\n",
      "Limit Min: -0.521 Limit Max: 0.635\n",
      "Identfied outliers: 15782 \n",
      "\n",
      "Classe: 0 - variavel: FLAG_EMAIL\n",
      "Real Min: 0.000 Real Max: 1.000\n",
      "Limit Min: -0.529 Limit Max: 0.647\n",
      "Identfied outliers: 1255 \n",
      "\n",
      "Classe: 1 - variavel: REGION_RATING_CLIENT\n",
      "Real Min: 1.000 Real Max: 3.000\n",
      "Limit Min: 0.790 Limit Max: 3.310\n",
      "Identfied outliers: 0 \n",
      "\n",
      "Classe: 0 - variavel: REGION_RATING_CLIENT\n",
      "Real Min: 1.000 Real Max: 3.000\n",
      "Limit Min: 0.898 Limit Max: 3.414\n",
      "Identfied outliers: 0 \n",
      "\n",
      "Classe: 1 - variavel: REGION_RATING_CLIENT_W_CITY\n",
      "Real Min: 1.000 Real Max: 3.000\n",
      "Limit Min: 0.784 Limit Max: 3.273\n",
      "Identfied outliers: 0 \n",
      "\n",
      "Classe: 0 - variavel: REGION_RATING_CLIENT_W_CITY\n",
      "Real Min: 1.000 Real Max: 3.000\n",
      "Limit Min: 0.891 Limit Max: 3.383\n",
      "Identfied outliers: 0 \n",
      "\n",
      "Classe: 1 - variavel: HOUR_APPR_PROCESS_START\n",
      "Real Min: 0.000 Real Max: 23.000\n",
      "Limit Min: 3.919 Limit Max: 20.219\n",
      "Identfied outliers: 1928 \n",
      "\n",
      "Classe: 0 - variavel: HOUR_APPR_PROCESS_START\n",
      "Real Min: 0.000 Real Max: 23.000\n",
      "Limit Min: 3.615 Limit Max: 20.144\n",
      "Identfied outliers: 166 \n",
      "\n",
      "Classe: 1 - variavel: REG_REGION_NOT_LIVE_REGION\n",
      "Real Min: 0.000 Real Max: 1.000\n",
      "Limit Min: -0.284 Limit Max: 0.313\n",
      "Identfied outliers: 3761 \n",
      "\n",
      "Classe: 0 - variavel: REG_REGION_NOT_LIVE_REGION\n",
      "Real Min: 0.000 Real Max: 1.000\n",
      "Limit Min: -0.321 Limit Max: 0.359\n",
      "Identfied outliers: 376 \n",
      "\n",
      "Classe: 1 - variavel: REG_REGION_NOT_WORK_REGION\n",
      "Real Min: 0.000 Real Max: 1.000\n",
      "Limit Min: -0.436 Limit Max: 0.510\n",
      "Identfied outliers: 9549 \n",
      "\n",
      "Classe: 0 - variavel: REG_REGION_NOT_WORK_REGION\n",
      "Real Min: 0.000 Real Max: 1.000\n",
      "Limit Min: -0.477 Limit Max: 0.568\n",
      "Identfied outliers: 895 \n",
      "\n",
      "Classe: 1 - variavel: LIVE_REGION_NOT_WORK_REGION\n",
      "Real Min: 0.000 Real Max: 0.000\n",
      "Limit Min: 0.000 Limit Max: 0.000\n",
      "Identfied outliers: 0 \n",
      "\n",
      "Classe: 0 - variavel: LIVE_REGION_NOT_WORK_REGION\n",
      "Real Min: 0.000 Real Max: 0.000\n",
      "Limit Min: 0.000 Limit Max: 0.000\n",
      "Identfied outliers: 0 \n",
      "\n",
      "Classe: 1 - variavel: REG_CITY_NOT_LIVE_CITY\n",
      "Real Min: 0.000 Real Max: 1.000\n",
      "Limit Min: -0.545 Limit Max: 0.671\n",
      "Identfied outliers: 15607 \n",
      "\n",
      "Classe: 0 - variavel: REG_CITY_NOT_LIVE_CITY\n",
      "Real Min: 0.000 Real Max: 1.000\n",
      "Limit Min: -0.687 Limit Max: 0.920\n",
      "Identfied outliers: 2185 \n",
      "\n",
      "Classe: 1 - variavel: REG_CITY_NOT_WORK_CITY\n",
      "Real Min: 0.000 Real Max: 1.000\n",
      "Limit Min: -0.749 Limit Max: 1.059\n",
      "Identfied outliers: 0 \n",
      "\n",
      "Classe: 0 - variavel: REG_CITY_NOT_WORK_CITY\n",
      "Real Min: 0.000 Real Max: 1.000\n",
      "Limit Min: -0.826 Limit Max: 1.300\n",
      "Identfied outliers: 0 \n",
      "\n",
      "Classe: 1 - variavel: LIVE_CITY_NOT_WORK_CITY\n",
      "Real Min: 0.000 Real Max: 1.000\n",
      "Limit Min: -0.749 Limit Max: 1.059\n",
      "Identfied outliers: 0 \n",
      "\n",
      "Classe: 0 - variavel: LIVE_CITY_NOT_WORK_CITY\n",
      "Real Min: 0.000 Real Max: 1.000\n",
      "Limit Min: -0.826 Limit Max: 1.300\n",
      "Identfied outliers: 0 \n",
      "\n",
      "Classe: 1 - variavel: FLAG_DOCUMENT_2\n",
      "Real Min: 0.000 Real Max: 1.000\n",
      "Limit Min: -0.014 Limit Max: 0.014\n",
      "Identfied outliers: 7 \n",
      "\n",
      "Classe: 0 - variavel: FLAG_DOCUMENT_2\n",
      "Real Min: 0.000 Real Max: 1.000\n",
      "Limit Min: -0.039 Limit Max: 0.039\n",
      "Identfied outliers: 4 \n",
      "\n",
      "Classe: 1 - variavel: FLAG_DOCUMENT_3\n",
      "Real Min: 0.000 Real Max: 1.000\n",
      "Limit Min: -0.440 Limit Max: 1.845\n",
      "Identfied outliers: 0 \n",
      "\n",
      "Classe: 0 - variavel: FLAG_DOCUMENT_3\n",
      "Real Min: 0.000 Real Max: 1.000\n",
      "Limit Min: -0.123 Limit Max: 1.774\n",
      "Identfied outliers: 0 \n",
      "\n",
      "Classe: 1 - variavel: FLAG_DOCUMENT_4\n",
      "Real Min: 0.000 Real Max: 1.000\n",
      "Limit Min: -0.023 Limit Max: 0.023\n",
      "Identfied outliers: 20 \n",
      "\n",
      "Classe: 0 - variavel: FLAG_DOCUMENT_4\n",
      "Real Min: 0.000 Real Max: 0.000\n",
      "Limit Min: 0.000 Limit Max: 0.000\n",
      "Identfied outliers: 0 \n",
      "\n",
      "Classe: 1 - variavel: FLAG_DOCUMENT_5\n",
      "Real Min: 0.000 Real Max: 1.000\n",
      "Limit Min: -0.287 Limit Max: 0.317\n",
      "Identfied outliers: 3425 \n",
      "\n",
      "Classe: 0 - variavel: FLAG_DOCUMENT_5\n",
      "Real Min: 0.000 Real Max: 1.000\n",
      "Limit Min: -0.301 Limit Max: 0.334\n",
      "Identfied outliers: 270 \n",
      "\n",
      "Classe: 1 - variavel: FLAG_DOCUMENT_6\n",
      "Real Min: 0.000 Real Max: 1.000\n",
      "Limit Min: -0.661 Limit Max: 0.871\n",
      "Identfied outliers: 23969 \n",
      "\n",
      "Classe: 0 - variavel: FLAG_DOCUMENT_6\n",
      "Real Min: 0.000 Real Max: 1.000\n",
      "Limit Min: -0.198 Limit Max: 0.212\n",
      "Identfied outliers: 110 \n",
      "\n",
      "Classe: 1 - variavel: FLAG_DOCUMENT_7\n",
      "Real Min: 0.000 Real Max: 1.000\n",
      "Limit Min: -0.036 Limit Max: 0.036\n",
      "Identfied outliers: 43 \n",
      "\n",
      "Classe: 0 - variavel: FLAG_DOCUMENT_7\n",
      "Real Min: 0.000 Real Max: 1.000\n",
      "Limit Min: -0.034 Limit Max: 0.034\n",
      "Identfied outliers: 3 \n",
      "\n",
      "Classe: 1 - variavel: FLAG_DOCUMENT_8\n",
      "Real Min: 0.000 Real Max: 1.000\n",
      "Limit Min: -0.610 Limit Max: 0.779\n",
      "Identfied outliers: 17225 \n",
      "\n",
      "Classe: 0 - variavel: FLAG_DOCUMENT_8\n",
      "Real Min: 0.000 Real Max: 1.000\n",
      "Limit Min: -0.602 Limit Max: 0.764\n",
      "Identfied outliers: 1307 \n",
      "\n",
      "Classe: 1 - variavel: FLAG_DOCUMENT_9\n",
      "Real Min: 0.000 Real Max: 1.000\n",
      "Limit Min: -0.159 Limit Max: 0.167\n",
      "Identfied outliers: 796 \n",
      "\n",
      "Classe: 0 - variavel: FLAG_DOCUMENT_9\n",
      "Real Min: 0.000 Real Max: 1.000\n",
      "Limit Min: -0.146 Limit Max: 0.153\n",
      "Identfied outliers: 53 \n",
      "\n",
      "Classe: 1 - variavel: FLAG_DOCUMENT_10\n",
      "Real Min: 0.000 Real Max: 1.000\n",
      "Limit Min: -0.012 Limit Max: 0.012\n",
      "Identfied outliers: 4 \n",
      "\n",
      "Classe: 0 - variavel: FLAG_DOCUMENT_10\n",
      "Real Min: 0.000 Real Max: 0.000\n",
      "Limit Min: 0.000 Limit Max: 0.000\n",
      "Identfied outliers: 0 \n",
      "\n",
      "Classe: 1 - variavel: FLAG_DOCUMENT_11\n",
      "Real Min: 0.000 Real Max: 1.000\n",
      "Limit Min: -0.150 Limit Max: 0.158\n",
      "Identfied outliers: 709 \n",
      "\n",
      "Classe: 0 - variavel: FLAG_DOCUMENT_11\n",
      "Real Min: 0.000 Real Max: 1.000\n",
      "Limit Min: -0.118 Limit Max: 0.122\n",
      "Identfied outliers: 34 \n",
      "\n",
      "Classe: 1 - variavel: FLAG_DOCUMENT_12\n",
      "Real Min: 0.000 Real Max: 1.000\n",
      "Limit Min: -0.006 Limit Max: 0.006\n",
      "Identfied outliers: 1 \n",
      "\n",
      "Classe: 0 - variavel: FLAG_DOCUMENT_12\n",
      "Real Min: 0.000 Real Max: 0.000\n",
      "Limit Min: 0.000 Limit Max: 0.000\n",
      "Identfied outliers: 0 \n",
      "\n",
      "Classe: 1 - variavel: FLAG_DOCUMENT_13\n",
      "Real Min: 0.000 Real Max: 1.000\n",
      "Limit Min: -0.123 Limit Max: 0.128\n",
      "Identfied outliers: 471 \n",
      "\n",
      "Classe: 0 - variavel: FLAG_DOCUMENT_13\n",
      "Real Min: 0.000 Real Max: 1.000\n",
      "Limit Min: -0.073 Limit Max: 0.075\n",
      "Identfied outliers: 13 \n",
      "\n",
      "Classe: 1 - variavel: FLAG_DOCUMENT_14\n",
      "Real Min: 0.000 Real Max: 1.000\n",
      "Limit Min: -0.127 Limit Max: 0.132\n",
      "Identfied outliers: 498 \n",
      "\n",
      "Classe: 0 - variavel: FLAG_DOCUMENT_14\n",
      "Real Min: 0.000 Real Max: 1.000\n",
      "Limit Min: -0.081 Limit Max: 0.084\n",
      "Identfied outliers: 16 \n",
      "\n",
      "Classe: 1 - variavel: FLAG_DOCUMENT_15\n",
      "Real Min: 0.000 Real Max: 1.000\n",
      "Limit Min: -0.085 Limit Max: 0.087\n",
      "Identfied outliers: 217 \n",
      "\n",
      "Classe: 0 - variavel: FLAG_DOCUMENT_15\n",
      "Real Min: 0.000 Real Max: 1.000\n",
      "Limit Min: -0.050 Limit Max: 0.051\n",
      "Identfied outliers: 6 \n",
      "\n",
      "Classe: 1 - variavel: FLAG_DOCUMENT_16\n",
      "Real Min: 0.000 Real Max: 1.000\n",
      "Limit Min: -0.257 Limit Max: 0.281\n",
      "Identfied outliers: 2159 \n",
      "\n",
      "Classe: 0 - variavel: FLAG_DOCUMENT_16\n",
      "Real Min: 0.000 Real Max: 1.000\n",
      "Limit Min: -0.208 Limit Max: 0.223\n",
      "Identfied outliers: 110 \n",
      "\n",
      "Classe: 1 - variavel: FLAG_DOCUMENT_17\n",
      "Real Min: 0.000 Real Max: 1.000\n",
      "Limit Min: -0.042 Limit Max: 0.042\n",
      "Identfied outliers: 51 \n",
      "\n",
      "Classe: 0 - variavel: FLAG_DOCUMENT_17\n",
      "Real Min: 0.000 Real Max: 1.000\n",
      "Limit Min: -0.029 Limit Max: 0.029\n",
      "Identfied outliers: 2 \n",
      "\n",
      "Classe: 1 - variavel: FLAG_DOCUMENT_18\n",
      "Real Min: 0.000 Real Max: 1.000\n",
      "Limit Min: -0.225 Limit Max: 0.242\n",
      "Identfied outliers: 1605 \n",
      "\n",
      "Classe: 0 - variavel: FLAG_DOCUMENT_18\n",
      "Real Min: 0.000 Real Max: 1.000\n",
      "Limit Min: -0.199 Limit Max: 0.212\n",
      "Identfied outliers: 99 \n",
      "\n",
      "Classe: 1 - variavel: FLAG_DOCUMENT_19\n",
      "Real Min: 0.000 Real Max: 1.000\n",
      "Limit Min: -0.066 Limit Max: 0.068\n",
      "Identfied outliers: 130 \n",
      "\n",
      "Classe: 0 - variavel: FLAG_DOCUMENT_19\n",
      "Real Min: 0.000 Real Max: 1.000\n",
      "Limit Min: -0.065 Limit Max: 0.066\n",
      "Identfied outliers: 10 \n",
      "\n",
      "Classe: 1 - variavel: FLAG_DOCUMENT_20\n",
      "Real Min: 0.000 Real Max: 0.000\n",
      "Limit Min: 0.000 Limit Max: 0.000\n",
      "Identfied outliers: 0 \n",
      "\n",
      "Classe: 0 - variavel: FLAG_DOCUMENT_20\n",
      "Real Min: 0.000 Real Max: 0.000\n",
      "Limit Min: 0.000 Limit Max: 0.000\n",
      "Identfied outliers: 0 \n",
      "\n",
      "Classe: 1 - variavel: FLAG_DOCUMENT_21\n",
      "Real Min: 0.000 Real Max: 1.000\n",
      "Limit Min: -0.047 Limit Max: 0.048\n",
      "Identfied outliers: 66 \n",
      "\n",
      "Classe: 0 - variavel: FLAG_DOCUMENT_21\n",
      "Real Min: 0.000 Real Max: 1.000\n",
      "Limit Min: -0.055 Limit Max: 0.055\n",
      "Identfied outliers: 7 \n",
      "\n",
      "Classe: 1 - variavel: CAT_CODE_GENDER\n",
      "Real Min: 0.000 Real Max: 2.000\n",
      "Limit Min: -0.424 Limit Max: 1.845\n",
      "Identfied outliers: 4 \n",
      "\n",
      "Classe: 0 - variavel: CAT_CODE_GENDER\n",
      "Real Min: 0.000 Real Max: 1.000\n",
      "Limit Min: -0.632 Limit Max: 1.822\n",
      "Identfied outliers: 0 \n",
      "\n",
      "Classe: 1 - variavel: CAT_FLAG_OWN_CAR\n",
      "Real Min: 0.000 Real Max: 1.000\n",
      "Limit Min: -0.846 Limit Max: 1.477\n",
      "Identfied outliers: 0 \n",
      "\n",
      "Classe: 0 - variavel: CAT_FLAG_OWN_CAR\n",
      "Real Min: 0.000 Real Max: 1.000\n",
      "Limit Min: -0.845 Limit Max: 1.435\n",
      "Identfied outliers: 0 \n",
      "\n",
      "Classe: 1 - variavel: CAT_FLAG_OWN_REALTY\n",
      "Real Min: 0.000 Real Max: 1.000\n",
      "Limit Min: -0.844 Limit Max: 1.415\n",
      "Identfied outliers: 0 \n",
      "\n",
      "Classe: 0 - variavel: CAT_FLAG_OWN_REALTY\n",
      "Real Min: 0.000 Real Max: 1.000\n",
      "Limit Min: -0.846 Limit Max: 1.467\n",
      "Identfied outliers: 0 \n",
      "\n",
      "Classe: 1 - variavel: CAT_NAME_TYPE_SUITE\n",
      "Real Min: 0.000 Real Max: 6.000\n",
      "Limit Min: -1.498 Limit Max: 2.072\n",
      "Identfied outliers: 3565 \n",
      "\n",
      "Classe: 0 - variavel: CAT_NAME_TYPE_SUITE\n",
      "Real Min: 0.000 Real Max: 6.000\n",
      "Limit Min: -1.556 Limit Max: 2.108\n",
      "Identfied outliers: 280 \n",
      "\n",
      "Classe: 1 - variavel: CAT_NAME_INCOME_TYPE\n",
      "Real Min: 0.000 Real Max: 7.000\n",
      "Limit Min: -1.951 Limit Max: 3.869\n",
      "Identfied outliers: 25 \n",
      "\n",
      "Classe: 0 - variavel: CAT_NAME_INCOME_TYPE\n",
      "Real Min: 0.000 Real Max: 7.000\n",
      "Limit Min: -1.591 Limit Max: 2.618\n",
      "Identfied outliers: 2 \n",
      "\n",
      "Classe: 1 - variavel: CAT_NAME_EDUCATION_TYPE\n",
      "Real Min: 0.000 Real Max: 4.000\n",
      "Limit Min: -1.159 Limit Max: 1.816\n",
      "Identfied outliers: 7343 \n",
      "\n",
      "Classe: 0 - variavel: CAT_NAME_EDUCATION_TYPE\n",
      "Real Min: 0.000 Real Max: 4.000\n",
      "Limit Min: -1.222 Limit Max: 1.755\n",
      "Identfied outliers: 698 \n",
      "\n",
      "Classe: 1 - variavel: CAT_NAME_FAMILY_STATUS\n",
      "Real Min: 0.000 Real Max: 4.000\n",
      "Limit Min: -1.190 Limit Max: 3.714\n",
      "Identfied outliers: 11233 \n",
      "\n",
      "Classe: 0 - variavel: CAT_NAME_FAMILY_STATUS\n",
      "Real Min: 0.000 Real Max: 4.000\n",
      "Limit Min: -1.230 Limit Max: 3.590\n",
      "Identfied outliers: 876 \n",
      "\n",
      "Classe: 1 - variavel: CAT_NAME_HOUSING_TYPE\n",
      "Real Min: 0.000 Real Max: 5.000\n",
      "Limit Min: -1.752 Limit Max: 2.237\n",
      "Identfied outliers: 7264 \n",
      "\n",
      "Classe: 0 - variavel: CAT_NAME_HOUSING_TYPE\n",
      "Real Min: 0.000 Real Max: 5.000\n",
      "Limit Min: -1.799 Limit Max: 2.401\n",
      "Identfied outliers: 576 \n",
      "\n",
      "Classe: 1 - variavel: CAT_OCCUPATION_TYPE\n",
      "Real Min: 0.000 Real Max: 17.000\n",
      "Limit Min: -5.627 Limit Max: 13.195\n",
      "Identfied outliers: 2199 \n",
      "\n",
      "Classe: 0 - variavel: CAT_OCCUPATION_TYPE\n",
      "Real Min: 0.000 Real Max: 17.000\n",
      "Limit Min: -5.732 Limit Max: 13.099\n",
      "Identfied outliers: 134 \n",
      "\n",
      "Classe: 1 - variavel: CAT_WEEKDAY_APPR_PROCESS_START\n",
      "Real Min: 0.000 Real Max: 6.000\n",
      "Limit Min: -2.430 Limit Max: 8.368\n",
      "Identfied outliers: 0 \n",
      "\n",
      "Classe: 0 - variavel: CAT_WEEKDAY_APPR_PROCESS_START\n",
      "Real Min: 0.000 Real Max: 6.000\n",
      "Limit Min: -2.437 Limit Max: 8.431\n",
      "Identfied outliers: 0 \n",
      "\n",
      "Classe: 1 - variavel: CAT_ORGANIZATION_TYPE\n",
      "Real Min: 0.000 Real Max: 57.000\n",
      "Limit Min: -17.476 Limit Max: 36.916\n",
      "Identfied outliers: 5692 \n",
      "\n",
      "Classe: 0 - variavel: CAT_ORGANIZATION_TYPE\n",
      "Real Min: 0.000 Real Max: 57.000\n",
      "Limit Min: -18.151 Limit Max: 38.874\n",
      "Identfied outliers: 219 \n",
      "\n",
      "Classe: 1 - variavel: CAT_FONDKAPREMONT_MODE\n",
      "Real Min: 0.000 Real Max: 3.000\n",
      "Limit Min: -1.818 Limit Max: 2.777\n",
      "Identfied outliers: 8235 \n",
      "\n",
      "Classe: 0 - variavel: CAT_FONDKAPREMONT_MODE\n",
      "Real Min: 0.000 Real Max: 3.000\n",
      "Limit Min: -1.825 Limit Max: 2.791\n",
      "Identfied outliers: 677 \n",
      "\n",
      "Classe: 1 - variavel: CAT_HOUSETYPE_MODE\n",
      "Real Min: 0.000 Real Max: 2.000\n",
      "Limit Min: -0.507 Limit Max: 0.560\n",
      "Identfied outliers: 2212 \n",
      "\n",
      "Classe: 0 - variavel: CAT_HOUSETYPE_MODE\n",
      "Real Min: 0.000 Real Max: 2.000\n",
      "Limit Min: -0.557 Limit Max: 0.621\n",
      "Identfied outliers: 216 \n",
      "\n",
      "Classe: 1 - variavel: CAT_WALLSMATERIAL_MODE\n",
      "Real Min: 0.000 Real Max: 6.000\n",
      "Limit Min: -1.897 Limit Max: 4.328\n",
      "Identfied outliers: 2523 \n",
      "\n",
      "Classe: 0 - variavel: CAT_WALLSMATERIAL_MODE\n",
      "Real Min: 0.000 Real Max: 6.000\n",
      "Limit Min: -1.925 Limit Max: 4.339\n",
      "Identfied outliers: 201 \n",
      "\n",
      "Classe: 1 - variavel: CAT_EMERGENCYSTATE_MODE\n",
      "Real Min: 0.000 Real Max: 1.000\n",
      "Limit Min: -0.256 Limit Max: 0.279\n",
      "Identfied outliers: 1502 \n",
      "\n",
      "Classe: 0 - variavel: CAT_EMERGENCYSTATE_MODE\n",
      "Real Min: 0.000 Real Max: 1.000\n",
      "Limit Min: -0.291 Limit Max: 0.321\n",
      "Identfied outliers: 161 \n",
      "\n"
     ]
    }
   ],
   "source": [
    "for variavel in name_columns:\n",
    "    df_defaut = []\n",
    "    for value, target in enumerate(des_target):\n",
    "        dados = df[df[\"TARGET\"]==value]\n",
    "        print(f\"Classe: {des_target[value]} - variavel: {variavel}\")\n",
    "\n",
    "        data_mean, data_std = dados[variavel].mean(), dados[variavel].std()\n",
    "        data_min, data_max = dados[variavel].min(), dados[variavel].max()\n",
    "        print(\"Real Min: %.3f Real Max: %.3f\" %  (data_min, data_max))\n",
    "\n",
    "        cut_off = data_std * 2.5\n",
    "        lower, upper = data_mean - cut_off, data_mean + cut_off\n",
    "        print(\"Limit Min: %.3f Limit Max: %.3f\" %  (lower, upper))\n",
    "\n",
    "\n",
    "        dataset = dados[dados[variavel] >= lower]\n",
    "        if len(dataset) == 0:\n",
    "            dataset = dados[dados[variavel] <= upper]\n",
    "        else:\n",
    "            dataset = dataset[dataset[variavel] <= upper]\n",
    "\n",
    "\n",
    "        df_defaut.append(dataset)\n",
    "\n",
    "        outliers = pd.concat([dados[dados[variavel] < lower], dados[dados[variavel] > upper]])\n",
    "        print(\"Identfied outliers: %d \\n\" % len(outliers))\n",
    "\n",
    "    df = pd.concat(df_defaut)"
   ]
  },
  {
   "cell_type": "code",
   "execution_count": 26,
   "metadata": {},
   "outputs": [],
   "source": [
    "import collections"
   ]
  },
  {
   "cell_type": "code",
   "execution_count": 27,
   "metadata": {},
   "outputs": [
    {
     "output_type": "stream",
     "name": "stdout",
     "text": [
      "Counter({0: 128498, 1: 10410})\n"
     ]
    }
   ],
   "source": [
    "print(collections.Counter(df.TARGET))"
   ]
  },
  {
   "source": [
    "## Balancear as categorias (SMOTE)"
   ],
   "cell_type": "markdown",
   "metadata": {}
  },
  {
   "cell_type": "code",
   "execution_count": 28,
   "metadata": {},
   "outputs": [],
   "source": [
    "name = df.select_dtypes(include=\"object\").columns"
   ]
  },
  {
   "cell_type": "code",
   "execution_count": 29,
   "metadata": {},
   "outputs": [
    {
     "output_type": "execute_result",
     "data": {
      "text/plain": [
       "Index(['NAME_CONTRACT_TYPE', 'CODE_GENDER', 'FLAG_OWN_CAR', 'FLAG_OWN_REALTY',\n",
       "       'NAME_TYPE_SUITE', 'NAME_INCOME_TYPE', 'NAME_EDUCATION_TYPE',\n",
       "       'NAME_FAMILY_STATUS', 'NAME_HOUSING_TYPE', 'OCCUPATION_TYPE',\n",
       "       'WEEKDAY_APPR_PROCESS_START', 'ORGANIZATION_TYPE', 'FONDKAPREMONT_MODE',\n",
       "       'HOUSETYPE_MODE', 'WALLSMATERIAL_MODE', 'EMERGENCYSTATE_MODE'],\n",
       "      dtype='object')"
      ]
     },
     "metadata": {},
     "execution_count": 29
    }
   ],
   "source": [
    "name"
   ]
  },
  {
   "cell_type": "code",
   "execution_count": 30,
   "metadata": {},
   "outputs": [],
   "source": [
    "df = df.drop(name, axis=1)\n"
   ]
  },
  {
   "cell_type": "code",
   "execution_count": 31,
   "metadata": {},
   "outputs": [],
   "source": [
    "y = df[\"TARGET\"].to_numpy()\n",
    "X = df\n",
    "X = X.drop(\"TARGET\", axis=1)\n",
    "X = X.to_numpy()"
   ]
  },
  {
   "cell_type": "code",
   "execution_count": 32,
   "metadata": {},
   "outputs": [],
   "source": [
    "from imblearn.over_sampling import SMOTE"
   ]
  },
  {
   "cell_type": "code",
   "execution_count": 33,
   "metadata": {},
   "outputs": [
    {
     "output_type": "stream",
     "name": "stdout",
     "text": [
      "Counter({0: 128498, 1: 128498})\n"
     ]
    }
   ],
   "source": [
    "overSampling = SMOTE()\n",
    "X, y = overSampling.fit_resample(X, y)\n",
    "print(collections.Counter(y))"
   ]
  },
  {
   "cell_type": "code",
   "execution_count": 34,
   "metadata": {},
   "outputs": [],
   "source": [
    "name_coll = df.columns[1:]\n",
    "df_smote = pd.DataFrame(X, columns=name_coll)"
   ]
  },
  {
   "cell_type": "code",
   "execution_count": 35,
   "metadata": {},
   "outputs": [
    {
     "output_type": "execute_result",
     "data": {
      "text/plain": [
       "   CNT_CHILDREN  AMT_INCOME_TOTAL  AMT_CREDIT  AMT_ANNUITY  AMT_GOODS_PRICE  \\\n",
       "0           0.0          270000.0   1293502.5      35698.5        1129500.0   \n",
       "1           0.0           67500.0    135000.0       6750.0         135000.0   \n",
       "2           0.0          135000.0    312682.5      29686.5         297000.0   \n",
       "3           0.0           99000.0    490495.5      27517.5         454500.0   \n",
       "4           0.0          360000.0   1530000.0      42075.0        1530000.0   \n",
       "\n",
       "   REGION_POPULATION_RELATIVE  DAYS_BIRTH  DAYS_EMPLOYED  DAYS_REGISTRATION  \\\n",
       "0                    0.003541    -16765.0        -1188.0            -1186.0   \n",
       "1                    0.010032    -19046.0         -225.0            -4260.0   \n",
       "2                    0.008019    -19005.0        -3039.0            -9833.0   \n",
       "3                    0.035792    -16941.0        -1588.0            -4970.0   \n",
       "4                    0.003122    -18850.0         -449.0            -4597.0   \n",
       "\n",
       "   DAYS_ID_PUBLISH  ...  CAT_NAME_EDUCATION_TYPE  CAT_NAME_FAMILY_STATUS  \\\n",
       "0           -291.0  ...                      1.0                     1.0   \n",
       "1          -2531.0  ...                      0.0                     0.0   \n",
       "2          -2437.0  ...                      0.0                     2.0   \n",
       "3           -477.0  ...                      0.0                     1.0   \n",
       "4          -2379.0  ...                      1.0                     1.0   \n",
       "\n",
       "   CAT_NAME_HOUSING_TYPE  CAT_OCCUPATION_TYPE  CAT_WEEKDAY_APPR_PROCESS_START  \\\n",
       "0                    0.0                  1.0                             1.0   \n",
       "1                    0.0                  0.0                             1.0   \n",
       "2                    0.0                  0.0                             0.0   \n",
       "3                    0.0                  0.0                             0.0   \n",
       "4                    0.0                  3.0                             1.0   \n",
       "\n",
       "   CAT_ORGANIZATION_TYPE  CAT_FONDKAPREMONT_MODE  CAT_HOUSETYPE_MODE  \\\n",
       "0                    1.0                     0.0                 0.0   \n",
       "1                    2.0                     0.0                 0.0   \n",
       "2                    0.0                     0.0                 0.0   \n",
       "3                    4.0                     0.0                 0.0   \n",
       "4                    4.0                     0.0                 0.0   \n",
       "\n",
       "   CAT_WALLSMATERIAL_MODE  CAT_EMERGENCYSTATE_MODE  \n",
       "0                     1.0                      0.0  \n",
       "1                     2.0                      0.0  \n",
       "2                     2.0                      0.0  \n",
       "3                     2.0                      0.0  \n",
       "4                     2.0                      0.0  \n",
       "\n",
       "[5 rows x 119 columns]"
      ],
      "text/html": "<div>\n<style scoped>\n    .dataframe tbody tr th:only-of-type {\n        vertical-align: middle;\n    }\n\n    .dataframe tbody tr th {\n        vertical-align: top;\n    }\n\n    .dataframe thead th {\n        text-align: right;\n    }\n</style>\n<table border=\"1\" class=\"dataframe\">\n  <thead>\n    <tr style=\"text-align: right;\">\n      <th></th>\n      <th>CNT_CHILDREN</th>\n      <th>AMT_INCOME_TOTAL</th>\n      <th>AMT_CREDIT</th>\n      <th>AMT_ANNUITY</th>\n      <th>AMT_GOODS_PRICE</th>\n      <th>REGION_POPULATION_RELATIVE</th>\n      <th>DAYS_BIRTH</th>\n      <th>DAYS_EMPLOYED</th>\n      <th>DAYS_REGISTRATION</th>\n      <th>DAYS_ID_PUBLISH</th>\n      <th>...</th>\n      <th>CAT_NAME_EDUCATION_TYPE</th>\n      <th>CAT_NAME_FAMILY_STATUS</th>\n      <th>CAT_NAME_HOUSING_TYPE</th>\n      <th>CAT_OCCUPATION_TYPE</th>\n      <th>CAT_WEEKDAY_APPR_PROCESS_START</th>\n      <th>CAT_ORGANIZATION_TYPE</th>\n      <th>CAT_FONDKAPREMONT_MODE</th>\n      <th>CAT_HOUSETYPE_MODE</th>\n      <th>CAT_WALLSMATERIAL_MODE</th>\n      <th>CAT_EMERGENCYSTATE_MODE</th>\n    </tr>\n  </thead>\n  <tbody>\n    <tr>\n      <th>0</th>\n      <td>0.0</td>\n      <td>270000.0</td>\n      <td>1293502.5</td>\n      <td>35698.5</td>\n      <td>1129500.0</td>\n      <td>0.003541</td>\n      <td>-16765.0</td>\n      <td>-1188.0</td>\n      <td>-1186.0</td>\n      <td>-291.0</td>\n      <td>...</td>\n      <td>1.0</td>\n      <td>1.0</td>\n      <td>0.0</td>\n      <td>1.0</td>\n      <td>1.0</td>\n      <td>1.0</td>\n      <td>0.0</td>\n      <td>0.0</td>\n      <td>1.0</td>\n      <td>0.0</td>\n    </tr>\n    <tr>\n      <th>1</th>\n      <td>0.0</td>\n      <td>67500.0</td>\n      <td>135000.0</td>\n      <td>6750.0</td>\n      <td>135000.0</td>\n      <td>0.010032</td>\n      <td>-19046.0</td>\n      <td>-225.0</td>\n      <td>-4260.0</td>\n      <td>-2531.0</td>\n      <td>...</td>\n      <td>0.0</td>\n      <td>0.0</td>\n      <td>0.0</td>\n      <td>0.0</td>\n      <td>1.0</td>\n      <td>2.0</td>\n      <td>0.0</td>\n      <td>0.0</td>\n      <td>2.0</td>\n      <td>0.0</td>\n    </tr>\n    <tr>\n      <th>2</th>\n      <td>0.0</td>\n      <td>135000.0</td>\n      <td>312682.5</td>\n      <td>29686.5</td>\n      <td>297000.0</td>\n      <td>0.008019</td>\n      <td>-19005.0</td>\n      <td>-3039.0</td>\n      <td>-9833.0</td>\n      <td>-2437.0</td>\n      <td>...</td>\n      <td>0.0</td>\n      <td>2.0</td>\n      <td>0.0</td>\n      <td>0.0</td>\n      <td>0.0</td>\n      <td>0.0</td>\n      <td>0.0</td>\n      <td>0.0</td>\n      <td>2.0</td>\n      <td>0.0</td>\n    </tr>\n    <tr>\n      <th>3</th>\n      <td>0.0</td>\n      <td>99000.0</td>\n      <td>490495.5</td>\n      <td>27517.5</td>\n      <td>454500.0</td>\n      <td>0.035792</td>\n      <td>-16941.0</td>\n      <td>-1588.0</td>\n      <td>-4970.0</td>\n      <td>-477.0</td>\n      <td>...</td>\n      <td>0.0</td>\n      <td>1.0</td>\n      <td>0.0</td>\n      <td>0.0</td>\n      <td>0.0</td>\n      <td>4.0</td>\n      <td>0.0</td>\n      <td>0.0</td>\n      <td>2.0</td>\n      <td>0.0</td>\n    </tr>\n    <tr>\n      <th>4</th>\n      <td>0.0</td>\n      <td>360000.0</td>\n      <td>1530000.0</td>\n      <td>42075.0</td>\n      <td>1530000.0</td>\n      <td>0.003122</td>\n      <td>-18850.0</td>\n      <td>-449.0</td>\n      <td>-4597.0</td>\n      <td>-2379.0</td>\n      <td>...</td>\n      <td>1.0</td>\n      <td>1.0</td>\n      <td>0.0</td>\n      <td>3.0</td>\n      <td>1.0</td>\n      <td>4.0</td>\n      <td>0.0</td>\n      <td>0.0</td>\n      <td>2.0</td>\n      <td>0.0</td>\n    </tr>\n  </tbody>\n</table>\n<p>5 rows × 119 columns</p>\n</div>"
     },
     "metadata": {},
     "execution_count": 35
    }
   ],
   "source": [
    "df_smote.head()"
   ]
  },
  {
   "source": [
    "## Normalizar as variaveis"
   ],
   "cell_type": "markdown",
   "metadata": {}
  },
  {
   "cell_type": "code",
   "execution_count": 48,
   "metadata": {},
   "outputs": [],
   "source": [
    "categorical_columns = ['CAT_CODE_GENDER', 'CAT_FLAG_OWN_CAR', 'CAT_FLAG_OWN_REALTY',\n",
    "       'CAT_NAME_TYPE_SUITE', 'CAT_NAME_INCOME_TYPE', 'CAT_NAME_EDUCATION_TYPE',\n",
    "       'CAT_NAME_FAMILY_STATUS', 'CAT_NAME_HOUSING_TYPE', 'CAT_OCCUPATION_TYPE',\n",
    "       'CAT_WEEKDAY_APPR_PROCESS_START', 'CAT_ORGANIZATION_TYPE', 'CAT_FONDKAPREMONT_MODE',\n",
    "       'CAT_HOUSETYPE_MODE', 'CAT_WALLSMATERIAL_MODE', 'CAT_EMERGENCYSTATE_MODE', 'FLAG_DOCUMENT_2',\n",
    "       'FLAG_DOCUMENT_3', 'FLAG_DOCUMENT_4', 'FLAG_DOCUMENT_5',\n",
    "       'FLAG_DOCUMENT_6', 'FLAG_DOCUMENT_7', 'FLAG_DOCUMENT_8',\n",
    "       'FLAG_DOCUMENT_9', 'FLAG_DOCUMENT_10', 'FLAG_DOCUMENT_11',\n",
    "       'FLAG_DOCUMENT_12', 'FLAG_DOCUMENT_13', 'FLAG_DOCUMENT_14',\n",
    "       'FLAG_DOCUMENT_15', 'FLAG_DOCUMENT_16', 'FLAG_DOCUMENT_17',\n",
    "       'FLAG_DOCUMENT_18', 'FLAG_DOCUMENT_19', 'FLAG_DOCUMENT_20',\n",
    "       'FLAG_DOCUMENT_21', 'FLAG_MOBIL', 'FLAG_EMP_PHONE', 'FLAG_WORK_PHONE',\n",
    "       'FLAG_CONT_MOBILE', 'FLAG_PHONE', 'FLAG_EMAIL']"
   ]
  },
  {
   "cell_type": "code",
   "execution_count": 49,
   "metadata": {},
   "outputs": [],
   "source": [
    "name_columns_int = df.select_dtypes(include=\"int64\").columns\n",
    "\n",
    "for variavel in name_columns_float:\n",
    "    norm_variaveis(variavel)\n"
   ]
  },
  {
   "cell_type": "code",
   "execution_count": 50,
   "metadata": {},
   "outputs": [],
   "source": [
    "def norm_variaveis (colunm):\n",
    "    df_smote[\"NORM_\" + colunm] = df_smote[colunm] / df_smote[colunm].abs().max()"
   ]
  },
  {
   "cell_type": "code",
   "execution_count": 51,
   "metadata": {},
   "outputs": [],
   "source": [
    "name_columns_float = df.select_dtypes(include=\"float64\").columns\n",
    "\n",
    "for variavel in name_columns_float:\n",
    "    norm_variaveis(variavel)"
   ]
  },
  {
   "cell_type": "code",
   "execution_count": 52,
   "metadata": {},
   "outputs": [],
   "source": [
    "for col in categorical_columns:\n",
    "    df_scaled[col] = df_scaled[col].astype(\"category\")"
   ]
  },
  {
   "cell_type": "code",
   "execution_count": 53,
   "metadata": {},
   "outputs": [],
   "source": [
    "df_scaled = df_smote.copy()"
   ]
  },
  {
   "cell_type": "code",
   "execution_count": 54,
   "metadata": {},
   "outputs": [
    {
     "output_type": "execute_result",
     "data": {
      "text/plain": [
       "   CNT_CHILDREN  AMT_INCOME_TOTAL  AMT_CREDIT  AMT_ANNUITY  AMT_GOODS_PRICE  \\\n",
       "0           0.0          270000.0   1293502.5      35698.5        1129500.0   \n",
       "1           0.0           67500.0    135000.0       6750.0         135000.0   \n",
       "2           0.0          135000.0    312682.5      29686.5         297000.0   \n",
       "3           0.0           99000.0    490495.5      27517.5         454500.0   \n",
       "4           0.0          360000.0   1530000.0      42075.0        1530000.0   \n",
       "\n",
       "   REGION_POPULATION_RELATIVE  DAYS_BIRTH  DAYS_EMPLOYED  DAYS_REGISTRATION  \\\n",
       "0                    0.003541    -16765.0        -1188.0            -1186.0   \n",
       "1                    0.010032    -19046.0         -225.0            -4260.0   \n",
       "2                    0.008019    -19005.0        -3039.0            -9833.0   \n",
       "3                    0.035792    -16941.0        -1588.0            -4970.0   \n",
       "4                    0.003122    -18850.0         -449.0            -4597.0   \n",
       "\n",
       "   DAYS_ID_PUBLISH  ...  NORM_DEF_30_CNT_SOCIAL_CIRCLE  \\\n",
       "0           -291.0  ...                            0.0   \n",
       "1          -2531.0  ...                            0.0   \n",
       "2          -2437.0  ...                            0.0   \n",
       "3           -477.0  ...                            0.0   \n",
       "4          -2379.0  ...                            0.0   \n",
       "\n",
       "   NORM_OBS_60_CNT_SOCIAL_CIRCLE  NORM_DEF_60_CNT_SOCIAL_CIRCLE  \\\n",
       "0                       0.002907                            0.0   \n",
       "1                       0.000000                            0.0   \n",
       "2                       0.005814                            0.0   \n",
       "3                       0.000000                            0.0   \n",
       "4                       0.005814                            0.0   \n",
       "\n",
       "   NORM_DAYS_LAST_PHONE_CHANGE  NORM_AMT_REQ_CREDIT_BUREAU_HOUR  \\\n",
       "0                    -0.192917                         0.000000   \n",
       "1                    -0.189888                         0.000000   \n",
       "2                    -0.143756                         0.001601   \n",
       "3                    -0.590867                         0.000000   \n",
       "4                    -0.249301                         0.000000   \n",
       "\n",
       "   NORM_AMT_REQ_CREDIT_BUREAU_DAY  NORM_AMT_REQ_CREDIT_BUREAU_WEEK  \\\n",
       "0                        0.000000                         0.000000   \n",
       "1                        0.000000                         0.000000   \n",
       "2                        0.001167                         0.004295   \n",
       "3                        0.000000                         0.000000   \n",
       "4                        0.000000                         0.000000   \n",
       "\n",
       "   NORM_AMT_REQ_CREDIT_BUREAU_MON  NORM_AMT_REQ_CREDIT_BUREAU_QRT  \\\n",
       "0                        0.000000                        0.000000   \n",
       "1                        0.000000                        0.000000   \n",
       "2                        0.014073                        0.013972   \n",
       "3                        0.000000                        0.052632   \n",
       "4                        0.000000                        0.000000   \n",
       "\n",
       "   NORM_AMT_REQ_CREDIT_BUREAU_YEAR  \n",
       "0                         0.000000  \n",
       "1                         0.000000  \n",
       "2                         0.090475  \n",
       "3                         0.047619  \n",
       "4                         0.000000  \n",
       "\n",
       "[5 rows x 184 columns]"
      ],
      "text/html": "<div>\n<style scoped>\n    .dataframe tbody tr th:only-of-type {\n        vertical-align: middle;\n    }\n\n    .dataframe tbody tr th {\n        vertical-align: top;\n    }\n\n    .dataframe thead th {\n        text-align: right;\n    }\n</style>\n<table border=\"1\" class=\"dataframe\">\n  <thead>\n    <tr style=\"text-align: right;\">\n      <th></th>\n      <th>CNT_CHILDREN</th>\n      <th>AMT_INCOME_TOTAL</th>\n      <th>AMT_CREDIT</th>\n      <th>AMT_ANNUITY</th>\n      <th>AMT_GOODS_PRICE</th>\n      <th>REGION_POPULATION_RELATIVE</th>\n      <th>DAYS_BIRTH</th>\n      <th>DAYS_EMPLOYED</th>\n      <th>DAYS_REGISTRATION</th>\n      <th>DAYS_ID_PUBLISH</th>\n      <th>...</th>\n      <th>NORM_DEF_30_CNT_SOCIAL_CIRCLE</th>\n      <th>NORM_OBS_60_CNT_SOCIAL_CIRCLE</th>\n      <th>NORM_DEF_60_CNT_SOCIAL_CIRCLE</th>\n      <th>NORM_DAYS_LAST_PHONE_CHANGE</th>\n      <th>NORM_AMT_REQ_CREDIT_BUREAU_HOUR</th>\n      <th>NORM_AMT_REQ_CREDIT_BUREAU_DAY</th>\n      <th>NORM_AMT_REQ_CREDIT_BUREAU_WEEK</th>\n      <th>NORM_AMT_REQ_CREDIT_BUREAU_MON</th>\n      <th>NORM_AMT_REQ_CREDIT_BUREAU_QRT</th>\n      <th>NORM_AMT_REQ_CREDIT_BUREAU_YEAR</th>\n    </tr>\n  </thead>\n  <tbody>\n    <tr>\n      <th>0</th>\n      <td>0.0</td>\n      <td>270000.0</td>\n      <td>1293502.5</td>\n      <td>35698.5</td>\n      <td>1129500.0</td>\n      <td>0.003541</td>\n      <td>-16765.0</td>\n      <td>-1188.0</td>\n      <td>-1186.0</td>\n      <td>-291.0</td>\n      <td>...</td>\n      <td>0.0</td>\n      <td>0.002907</td>\n      <td>0.0</td>\n      <td>-0.192917</td>\n      <td>0.000000</td>\n      <td>0.000000</td>\n      <td>0.000000</td>\n      <td>0.000000</td>\n      <td>0.000000</td>\n      <td>0.000000</td>\n    </tr>\n    <tr>\n      <th>1</th>\n      <td>0.0</td>\n      <td>67500.0</td>\n      <td>135000.0</td>\n      <td>6750.0</td>\n      <td>135000.0</td>\n      <td>0.010032</td>\n      <td>-19046.0</td>\n      <td>-225.0</td>\n      <td>-4260.0</td>\n      <td>-2531.0</td>\n      <td>...</td>\n      <td>0.0</td>\n      <td>0.000000</td>\n      <td>0.0</td>\n      <td>-0.189888</td>\n      <td>0.000000</td>\n      <td>0.000000</td>\n      <td>0.000000</td>\n      <td>0.000000</td>\n      <td>0.000000</td>\n      <td>0.000000</td>\n    </tr>\n    <tr>\n      <th>2</th>\n      <td>0.0</td>\n      <td>135000.0</td>\n      <td>312682.5</td>\n      <td>29686.5</td>\n      <td>297000.0</td>\n      <td>0.008019</td>\n      <td>-19005.0</td>\n      <td>-3039.0</td>\n      <td>-9833.0</td>\n      <td>-2437.0</td>\n      <td>...</td>\n      <td>0.0</td>\n      <td>0.005814</td>\n      <td>0.0</td>\n      <td>-0.143756</td>\n      <td>0.001601</td>\n      <td>0.001167</td>\n      <td>0.004295</td>\n      <td>0.014073</td>\n      <td>0.013972</td>\n      <td>0.090475</td>\n    </tr>\n    <tr>\n      <th>3</th>\n      <td>0.0</td>\n      <td>99000.0</td>\n      <td>490495.5</td>\n      <td>27517.5</td>\n      <td>454500.0</td>\n      <td>0.035792</td>\n      <td>-16941.0</td>\n      <td>-1588.0</td>\n      <td>-4970.0</td>\n      <td>-477.0</td>\n      <td>...</td>\n      <td>0.0</td>\n      <td>0.000000</td>\n      <td>0.0</td>\n      <td>-0.590867</td>\n      <td>0.000000</td>\n      <td>0.000000</td>\n      <td>0.000000</td>\n      <td>0.000000</td>\n      <td>0.052632</td>\n      <td>0.047619</td>\n    </tr>\n    <tr>\n      <th>4</th>\n      <td>0.0</td>\n      <td>360000.0</td>\n      <td>1530000.0</td>\n      <td>42075.0</td>\n      <td>1530000.0</td>\n      <td>0.003122</td>\n      <td>-18850.0</td>\n      <td>-449.0</td>\n      <td>-4597.0</td>\n      <td>-2379.0</td>\n      <td>...</td>\n      <td>0.0</td>\n      <td>0.005814</td>\n      <td>0.0</td>\n      <td>-0.249301</td>\n      <td>0.000000</td>\n      <td>0.000000</td>\n      <td>0.000000</td>\n      <td>0.000000</td>\n      <td>0.000000</td>\n      <td>0.000000</td>\n    </tr>\n  </tbody>\n</table>\n<p>5 rows × 184 columns</p>\n</div>"
     },
     "metadata": {},
     "execution_count": 54
    }
   ],
   "source": [
    "df_scaled.head()"
   ]
  },
  {
   "source": [
    "## Identificar as melhores relações de variaveis para a variavel taget (random forest)"
   ],
   "cell_type": "markdown",
   "metadata": {}
  },
  {
   "cell_type": "code",
   "execution_count": 55,
   "metadata": {},
   "outputs": [],
   "source": [
    "import matplotlib.pyplot as plt\n",
    "import numpy as np\n",
    "\n",
    "from sklearn.datasets import fetch_openml\n",
    "from sklearn.ensemble import RandomForestClassifier\n",
    "from sklearn.impute import SimpleImputer # https://scikit-learn.org/stable/modules/generated/sklearn.impute.SimpleImputer.html\n",
    "from sklearn.inspection import permutation_importance\n",
    "from sklearn.compose import ColumnTransformer\n",
    "from sklearn.model_selection import train_test_split\n",
    "from sklearn.pipeline import Pipeline # https://scikit-learn.org/stable/modules/generated/sklearn.pipeline.Pipeline.html\n",
    "from sklearn.preprocessing import OneHotEncoder"
   ]
  },
  {
   "cell_type": "code",
   "execution_count": 56,
   "metadata": {},
   "outputs": [
    {
     "output_type": "execute_result",
     "data": {
      "text/plain": [
       "['NORM_TARGET',\n",
       " 'NORM_CNT_CHILDREN',\n",
       " 'NORM_DAYS_BIRTH',\n",
       " 'NORM_DAYS_EMPLOYED',\n",
       " 'NORM_DAYS_ID_PUBLISH',\n",
       " 'NORM_FLAG_MOBIL',\n",
       " 'NORM_FLAG_EMP_PHONE',\n",
       " 'NORM_FLAG_WORK_PHONE',\n",
       " 'NORM_FLAG_CONT_MOBILE',\n",
       " 'NORM_FLAG_PHONE',\n",
       " 'NORM_FLAG_EMAIL',\n",
       " 'NORM_REGION_RATING_CLIENT',\n",
       " 'NORM_REGION_RATING_CLIENT_W_CITY',\n",
       " 'NORM_HOUR_APPR_PROCESS_START',\n",
       " 'NORM_REG_REGION_NOT_LIVE_REGION',\n",
       " 'NORM_REG_REGION_NOT_WORK_REGION',\n",
       " 'NORM_LIVE_REGION_NOT_WORK_REGION',\n",
       " 'NORM_REG_CITY_NOT_LIVE_CITY',\n",
       " 'NORM_REG_CITY_NOT_WORK_CITY',\n",
       " 'NORM_LIVE_CITY_NOT_WORK_CITY',\n",
       " 'NORM_FLAG_DOCUMENT_2',\n",
       " 'NORM_FLAG_DOCUMENT_3',\n",
       " 'NORM_FLAG_DOCUMENT_4',\n",
       " 'NORM_FLAG_DOCUMENT_5',\n",
       " 'NORM_FLAG_DOCUMENT_6',\n",
       " 'NORM_FLAG_DOCUMENT_7',\n",
       " 'NORM_FLAG_DOCUMENT_8',\n",
       " 'NORM_FLAG_DOCUMENT_9',\n",
       " 'NORM_FLAG_DOCUMENT_10',\n",
       " 'NORM_FLAG_DOCUMENT_11',\n",
       " 'NORM_FLAG_DOCUMENT_12',\n",
       " 'NORM_FLAG_DOCUMENT_13',\n",
       " 'NORM_FLAG_DOCUMENT_14',\n",
       " 'NORM_FLAG_DOCUMENT_15',\n",
       " 'NORM_FLAG_DOCUMENT_16',\n",
       " 'NORM_FLAG_DOCUMENT_17',\n",
       " 'NORM_FLAG_DOCUMENT_18',\n",
       " 'NORM_FLAG_DOCUMENT_19',\n",
       " 'NORM_FLAG_DOCUMENT_20',\n",
       " 'NORM_FLAG_DOCUMENT_21',\n",
       " 'NORM_CAT_CODE_GENDER',\n",
       " 'NORM_CAT_FLAG_OWN_CAR',\n",
       " 'NORM_CAT_FLAG_OWN_REALTY',\n",
       " 'NORM_CAT_NAME_TYPE_SUITE',\n",
       " 'NORM_CAT_NAME_INCOME_TYPE',\n",
       " 'NORM_CAT_NAME_EDUCATION_TYPE',\n",
       " 'NORM_CAT_NAME_FAMILY_STATUS',\n",
       " 'NORM_CAT_NAME_HOUSING_TYPE',\n",
       " 'NORM_CAT_OCCUPATION_TYPE',\n",
       " 'NORM_CAT_WEEKDAY_APPR_PROCESS_START',\n",
       " 'NORM_CAT_ORGANIZATION_TYPE',\n",
       " 'NORM_CAT_FONDKAPREMONT_MODE',\n",
       " 'NORM_CAT_HOUSETYPE_MODE',\n",
       " 'NORM_CAT_WALLSMATERIAL_MODE',\n",
       " 'NORM_CAT_EMERGENCYSTATE_MODE',\n",
       " 'NORM_AMT_INCOME_TOTAL',\n",
       " 'NORM_AMT_CREDIT',\n",
       " 'NORM_AMT_ANNUITY',\n",
       " 'NORM_AMT_GOODS_PRICE',\n",
       " 'NORM_REGION_POPULATION_RELATIVE',\n",
       " 'NORM_DAYS_REGISTRATION',\n",
       " 'NORM_OWN_CAR_AGE',\n",
       " 'NORM_CNT_FAM_MEMBERS',\n",
       " 'NORM_EXT_SOURCE_1',\n",
       " 'NORM_EXT_SOURCE_2',\n",
       " 'NORM_EXT_SOURCE_3',\n",
       " 'NORM_APARTMENTS_AVG',\n",
       " 'NORM_BASEMENTAREA_AVG',\n",
       " 'NORM_YEARS_BEGINEXPLUATATION_AVG',\n",
       " 'NORM_YEARS_BUILD_AVG',\n",
       " 'NORM_COMMONAREA_AVG',\n",
       " 'NORM_ELEVATORS_AVG',\n",
       " 'NORM_ENTRANCES_AVG',\n",
       " 'NORM_FLOORSMAX_AVG',\n",
       " 'NORM_FLOORSMIN_AVG',\n",
       " 'NORM_LANDAREA_AVG',\n",
       " 'NORM_LIVINGAPARTMENTS_AVG',\n",
       " 'NORM_LIVINGAREA_AVG',\n",
       " 'NORM_NONLIVINGAPARTMENTS_AVG',\n",
       " 'NORM_NONLIVINGAREA_AVG',\n",
       " 'NORM_APARTMENTS_MODE',\n",
       " 'NORM_BASEMENTAREA_MODE',\n",
       " 'NORM_YEARS_BEGINEXPLUATATION_MODE',\n",
       " 'NORM_YEARS_BUILD_MODE',\n",
       " 'NORM_COMMONAREA_MODE',\n",
       " 'NORM_ELEVATORS_MODE',\n",
       " 'NORM_ENTRANCES_MODE',\n",
       " 'NORM_FLOORSMAX_MODE',\n",
       " 'NORM_FLOORSMIN_MODE',\n",
       " 'NORM_LANDAREA_MODE',\n",
       " 'NORM_LIVINGAPARTMENTS_MODE',\n",
       " 'NORM_LIVINGAREA_MODE',\n",
       " 'NORM_NONLIVINGAPARTMENTS_MODE',\n",
       " 'NORM_NONLIVINGAREA_MODE',\n",
       " 'NORM_APARTMENTS_MEDI',\n",
       " 'NORM_BASEMENTAREA_MEDI',\n",
       " 'NORM_YEARS_BEGINEXPLUATATION_MEDI',\n",
       " 'NORM_YEARS_BUILD_MEDI',\n",
       " 'NORM_COMMONAREA_MEDI',\n",
       " 'NORM_ELEVATORS_MEDI',\n",
       " 'NORM_ENTRANCES_MEDI',\n",
       " 'NORM_FLOORSMAX_MEDI',\n",
       " 'NORM_FLOORSMIN_MEDI',\n",
       " 'NORM_LANDAREA_MEDI',\n",
       " 'NORM_LIVINGAPARTMENTS_MEDI',\n",
       " 'NORM_LIVINGAREA_MEDI',\n",
       " 'NORM_NONLIVINGAPARTMENTS_MEDI',\n",
       " 'NORM_NONLIVINGAREA_MEDI',\n",
       " 'NORM_TOTALAREA_MODE',\n",
       " 'NORM_OBS_30_CNT_SOCIAL_CIRCLE',\n",
       " 'NORM_DEF_30_CNT_SOCIAL_CIRCLE',\n",
       " 'NORM_OBS_60_CNT_SOCIAL_CIRCLE',\n",
       " 'NORM_DEF_60_CNT_SOCIAL_CIRCLE',\n",
       " 'NORM_DAYS_LAST_PHONE_CHANGE',\n",
       " 'NORM_AMT_REQ_CREDIT_BUREAU_HOUR',\n",
       " 'NORM_AMT_REQ_CREDIT_BUREAU_DAY',\n",
       " 'NORM_AMT_REQ_CREDIT_BUREAU_WEEK',\n",
       " 'NORM_AMT_REQ_CREDIT_BUREAU_MON',\n",
       " 'NORM_AMT_REQ_CREDIT_BUREAU_QRT',\n",
       " 'NORM_AMT_REQ_CREDIT_BUREAU_YEAR']"
      ]
     },
     "metadata": {},
     "execution_count": 56
    }
   ],
   "source": [
    "numerical_columns = []\n",
    "for name_coll in name_columns_int:\n",
    "    numerical_columns.append(\"NORM_\" + name_coll)\n",
    "\n",
    "\n",
    "for name_coll in name_columns_float:\n",
    "    numerical_columns.append(\"NORM_\" + name_coll)\n",
    "\n",
    "numerical_columns\n"
   ]
  },
  {
   "cell_type": "code",
   "execution_count": 57,
   "metadata": {},
   "outputs": [
    {
     "output_type": "error",
     "ename": "IndentationError",
     "evalue": "unexpected indent (<ipython-input-57-9c4ee541da68>, line 9)",
     "traceback": [
      "\u001b[0;36m  File \u001b[0;32m\"<ipython-input-57-9c4ee541da68>\"\u001b[0;36m, line \u001b[0;32m9\u001b[0m\n\u001b[0;31m    = ColumnTransformer(\u001b[0m\n\u001b[0m    ^\u001b[0m\n\u001b[0;31mIndentationError\u001b[0m\u001b[0;31m:\u001b[0m unexpected indent\n"
     ]
    }
   ],
   "source": [
    "numeric_transformer = Pipeline(steps=[\n",
    "    ('imputer', SimpleImputer(strategy='median')),\n",
    "    ('scaler', preprocessing.StandardScaler())])\n",
    "\n",
    "categorical_transformer = Pipeline(steps=[\n",
    "    ('imputer', SimpleImputer(strategy='constant')),\n",
    "    ('one_hot', OneHotEncoder())])\n",
    "\n",
    " = ColumnTransformer(\n",
    "    transformers=[\n",
    "     preprocessor   ('num', numeric_transformer, numerical_columns),\n",
    "        ('cat', categorical_transformer, categorical_columns)\n",
    "    ])"
   ]
  },
  {
   "cell_type": "code",
   "execution_count": null,
   "metadata": {},
   "outputs": [],
   "source": [
    "df_scaled.isnull().sum().sum()"
   ]
  },
  {
   "cell_type": "code",
   "execution_count": null,
   "metadata": {},
   "outputs": [],
   "source": [
    "pipe = Pipeline(steps=[('preprocessor', preprocessor),\n",
    "                      ('classifier',  RandomForestClassifier(random_state=5, n_estimators=10))])\n",
    "    \n",
    "model = pipe.fit(df_scaled, y)"
   ]
  },
  {
   "cell_type": "code",
   "execution_count": null,
   "metadata": {},
   "outputs": [],
   "source": [
    "#!pip install eli5"
   ]
  },
  {
   "cell_type": "code",
   "execution_count": null,
   "metadata": {},
   "outputs": [],
   "source": [
    "onehot_columns = list(pipe.named_steps['preprocessor'].named_transformers_['cat'].named_steps['one_hot'].get_feature_names(input_features=categorical_columns))\n",
    "numeric_features_list = list(numerical_columns)\n",
    "numeric_features_list.extend(onehot_columns)"
   ]
  },
  {
   "cell_type": "code",
   "execution_count": null,
   "metadata": {},
   "outputs": [],
   "source": [
    "import eli5"
   ]
  },
  {
   "cell_type": "code",
   "execution_count": null,
   "metadata": {},
   "outputs": [],
   "source": [
    "eli5.explain_weights(pipe.named_steps['classifier'], top=22, feature_names=numeric_features_list)"
   ]
  },
  {
   "source": [
    "## Aplicar o PCA"
   ],
   "cell_type": "markdown",
   "metadata": {}
  },
  {
   "cell_type": "code",
   "execution_count": null,
   "metadata": {},
   "outputs": [],
   "source": [
    "# https://scikit-learn.org/stable/modules/generated/sklearn.decomposition.PCA.html\n",
    "\n",
    "#from sklearn.decomposition import PCA"
   ]
  },
  {
   "cell_type": "code",
   "execution_count": null,
   "metadata": {},
   "outputs": [],
   "source": [
    "#pca = PCA(n_components=2)\n",
    "#pca.fit(X)\n",
    "#print(pca.explained_variance_ratio_)\n",
    "#print(pca.score(X))\n",
    "#X = pca.tranform(X)"
   ]
  }
 ]
}