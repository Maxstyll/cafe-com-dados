{
 "metadata": {
  "language_info": {
   "codemirror_mode": {
    "name": "ipython",
    "version": 3
   },
   "file_extension": ".py",
   "mimetype": "text/x-python",
   "name": "python",
   "nbconvert_exporter": "python",
   "pygments_lexer": "ipython3",
   "version": "3.8.5"
  },
  "orig_nbformat": 2,
  "kernelspec": {
   "name": "python3",
   "display_name": "Python 3.8.5 64-bit ('python-base-3.8.5': pyenv)"
  },
  "metadata": {
   "interpreter": {
    "hash": "823a27c597f0d06f9bd705b9ae77e8a6ae593c847b1101b2ecdfc0c7c1f3f928"
   }
  },
  "interpreter": {
   "hash": "823a27c597f0d06f9bd705b9ae77e8a6ae593c847b1101b2ecdfc0c7c1f3f928"
  }
 },
 "nbformat": 4,
 "nbformat_minor": 2,
 "cells": [
  {
   "source": [
    "# Análise de dados"
   ],
   "cell_type": "markdown",
   "metadata": {}
  },
  {
   "cell_type": "code",
   "execution_count": 1,
   "metadata": {},
   "outputs": [],
   "source": [
    "import pandas as pd"
   ]
  },
  {
   "cell_type": "code",
   "execution_count": 2,
   "metadata": {},
   "outputs": [],
   "source": [
    "df = pd.read_csv(\"../datasets/application_data.csv\")"
   ]
  },
  {
   "cell_type": "code",
   "execution_count": 3,
   "metadata": {},
   "outputs": [
    {
     "output_type": "stream",
     "name": "stdout",
     "text": [
      "<class 'pandas.core.frame.DataFrame'>\nRangeIndex: 307511 entries, 0 to 307510\nColumns: 122 entries, SK_ID_CURR to AMT_REQ_CREDIT_BUREAU_YEAR\ndtypes: float64(65), int64(41), object(16)\nmemory usage: 286.2+ MB\n"
     ]
    }
   ],
   "source": [
    "df.info()"
   ]
  },
  {
   "source": [
    "## Origem dos dados\n",
    "https://www.kaggle.com/c/home-credit-default-risk"
   ],
   "cell_type": "markdown",
   "metadata": {}
  },
  {
   "source": [
    "## Dicionario do dataset"
   ],
   "cell_type": "markdown",
   "metadata": {}
  },
  {
   "cell_type": "code",
   "execution_count": 4,
   "metadata": {},
   "outputs": [
    {
     "output_type": "execute_result",
     "data": {
      "text/plain": [
       "   SK_ID_CURR  TARGET NAME_CONTRACT_TYPE CODE_GENDER FLAG_OWN_CAR  \\\n",
       "0      100002       1         Cash loans           M            N   \n",
       "1      100003       0         Cash loans           F            N   \n",
       "2      100004       0    Revolving loans           M            Y   \n",
       "3      100006       0         Cash loans           F            N   \n",
       "4      100007       0         Cash loans           M            N   \n",
       "\n",
       "  FLAG_OWN_REALTY  CNT_CHILDREN  AMT_INCOME_TOTAL  AMT_CREDIT  AMT_ANNUITY  \\\n",
       "0               Y             0          202500.0    406597.5      24700.5   \n",
       "1               N             0          270000.0   1293502.5      35698.5   \n",
       "2               Y             0           67500.0    135000.0       6750.0   \n",
       "3               Y             0          135000.0    312682.5      29686.5   \n",
       "4               Y             0          121500.0    513000.0      21865.5   \n",
       "\n",
       "   ...  FLAG_DOCUMENT_18 FLAG_DOCUMENT_19 FLAG_DOCUMENT_20 FLAG_DOCUMENT_21  \\\n",
       "0  ...                 0                0                0                0   \n",
       "1  ...                 0                0                0                0   \n",
       "2  ...                 0                0                0                0   \n",
       "3  ...                 0                0                0                0   \n",
       "4  ...                 0                0                0                0   \n",
       "\n",
       "  AMT_REQ_CREDIT_BUREAU_HOUR AMT_REQ_CREDIT_BUREAU_DAY  \\\n",
       "0                        0.0                       0.0   \n",
       "1                        0.0                       0.0   \n",
       "2                        0.0                       0.0   \n",
       "3                        NaN                       NaN   \n",
       "4                        0.0                       0.0   \n",
       "\n",
       "   AMT_REQ_CREDIT_BUREAU_WEEK  AMT_REQ_CREDIT_BUREAU_MON  \\\n",
       "0                         0.0                        0.0   \n",
       "1                         0.0                        0.0   \n",
       "2                         0.0                        0.0   \n",
       "3                         NaN                        NaN   \n",
       "4                         0.0                        0.0   \n",
       "\n",
       "   AMT_REQ_CREDIT_BUREAU_QRT  AMT_REQ_CREDIT_BUREAU_YEAR  \n",
       "0                        0.0                         1.0  \n",
       "1                        0.0                         0.0  \n",
       "2                        0.0                         0.0  \n",
       "3                        NaN                         NaN  \n",
       "4                        0.0                         0.0  \n",
       "\n",
       "[5 rows x 122 columns]"
      ],
      "text/html": "<div>\n<style scoped>\n    .dataframe tbody tr th:only-of-type {\n        vertical-align: middle;\n    }\n\n    .dataframe tbody tr th {\n        vertical-align: top;\n    }\n\n    .dataframe thead th {\n        text-align: right;\n    }\n</style>\n<table border=\"1\" class=\"dataframe\">\n  <thead>\n    <tr style=\"text-align: right;\">\n      <th></th>\n      <th>SK_ID_CURR</th>\n      <th>TARGET</th>\n      <th>NAME_CONTRACT_TYPE</th>\n      <th>CODE_GENDER</th>\n      <th>FLAG_OWN_CAR</th>\n      <th>FLAG_OWN_REALTY</th>\n      <th>CNT_CHILDREN</th>\n      <th>AMT_INCOME_TOTAL</th>\n      <th>AMT_CREDIT</th>\n      <th>AMT_ANNUITY</th>\n      <th>...</th>\n      <th>FLAG_DOCUMENT_18</th>\n      <th>FLAG_DOCUMENT_19</th>\n      <th>FLAG_DOCUMENT_20</th>\n      <th>FLAG_DOCUMENT_21</th>\n      <th>AMT_REQ_CREDIT_BUREAU_HOUR</th>\n      <th>AMT_REQ_CREDIT_BUREAU_DAY</th>\n      <th>AMT_REQ_CREDIT_BUREAU_WEEK</th>\n      <th>AMT_REQ_CREDIT_BUREAU_MON</th>\n      <th>AMT_REQ_CREDIT_BUREAU_QRT</th>\n      <th>AMT_REQ_CREDIT_BUREAU_YEAR</th>\n    </tr>\n  </thead>\n  <tbody>\n    <tr>\n      <th>0</th>\n      <td>100002</td>\n      <td>1</td>\n      <td>Cash loans</td>\n      <td>M</td>\n      <td>N</td>\n      <td>Y</td>\n      <td>0</td>\n      <td>202500.0</td>\n      <td>406597.5</td>\n      <td>24700.5</td>\n      <td>...</td>\n      <td>0</td>\n      <td>0</td>\n      <td>0</td>\n      <td>0</td>\n      <td>0.0</td>\n      <td>0.0</td>\n      <td>0.0</td>\n      <td>0.0</td>\n      <td>0.0</td>\n      <td>1.0</td>\n    </tr>\n    <tr>\n      <th>1</th>\n      <td>100003</td>\n      <td>0</td>\n      <td>Cash loans</td>\n      <td>F</td>\n      <td>N</td>\n      <td>N</td>\n      <td>0</td>\n      <td>270000.0</td>\n      <td>1293502.5</td>\n      <td>35698.5</td>\n      <td>...</td>\n      <td>0</td>\n      <td>0</td>\n      <td>0</td>\n      <td>0</td>\n      <td>0.0</td>\n      <td>0.0</td>\n      <td>0.0</td>\n      <td>0.0</td>\n      <td>0.0</td>\n      <td>0.0</td>\n    </tr>\n    <tr>\n      <th>2</th>\n      <td>100004</td>\n      <td>0</td>\n      <td>Revolving loans</td>\n      <td>M</td>\n      <td>Y</td>\n      <td>Y</td>\n      <td>0</td>\n      <td>67500.0</td>\n      <td>135000.0</td>\n      <td>6750.0</td>\n      <td>...</td>\n      <td>0</td>\n      <td>0</td>\n      <td>0</td>\n      <td>0</td>\n      <td>0.0</td>\n      <td>0.0</td>\n      <td>0.0</td>\n      <td>0.0</td>\n      <td>0.0</td>\n      <td>0.0</td>\n    </tr>\n    <tr>\n      <th>3</th>\n      <td>100006</td>\n      <td>0</td>\n      <td>Cash loans</td>\n      <td>F</td>\n      <td>N</td>\n      <td>Y</td>\n      <td>0</td>\n      <td>135000.0</td>\n      <td>312682.5</td>\n      <td>29686.5</td>\n      <td>...</td>\n      <td>0</td>\n      <td>0</td>\n      <td>0</td>\n      <td>0</td>\n      <td>NaN</td>\n      <td>NaN</td>\n      <td>NaN</td>\n      <td>NaN</td>\n      <td>NaN</td>\n      <td>NaN</td>\n    </tr>\n    <tr>\n      <th>4</th>\n      <td>100007</td>\n      <td>0</td>\n      <td>Cash loans</td>\n      <td>M</td>\n      <td>N</td>\n      <td>Y</td>\n      <td>0</td>\n      <td>121500.0</td>\n      <td>513000.0</td>\n      <td>21865.5</td>\n      <td>...</td>\n      <td>0</td>\n      <td>0</td>\n      <td>0</td>\n      <td>0</td>\n      <td>0.0</td>\n      <td>0.0</td>\n      <td>0.0</td>\n      <td>0.0</td>\n      <td>0.0</td>\n      <td>0.0</td>\n    </tr>\n  </tbody>\n</table>\n<p>5 rows × 122 columns</p>\n</div>"
     },
     "metadata": {},
     "execution_count": 4
    }
   ],
   "source": [
    "df.head()"
   ]
  },
  {
   "cell_type": "code",
   "execution_count": 5,
   "metadata": {},
   "outputs": [
    {
     "output_type": "execute_result",
     "data": {
      "text/plain": [
       "  NAME_CONTRACT_TYPE CODE_GENDER FLAG_OWN_CAR FLAG_OWN_REALTY NAME_TYPE_SUITE  \\\n",
       "0         Cash loans           M            N               Y   Unaccompanied   \n",
       "1         Cash loans           F            N               N          Family   \n",
       "2    Revolving loans           M            Y               Y   Unaccompanied   \n",
       "3         Cash loans           F            N               Y   Unaccompanied   \n",
       "4         Cash loans           M            N               Y   Unaccompanied   \n",
       "\n",
       "  NAME_INCOME_TYPE            NAME_EDUCATION_TYPE    NAME_FAMILY_STATUS  \\\n",
       "0          Working  Secondary / secondary special  Single / not married   \n",
       "1    State servant               Higher education               Married   \n",
       "2          Working  Secondary / secondary special  Single / not married   \n",
       "3          Working  Secondary / secondary special        Civil marriage   \n",
       "4          Working  Secondary / secondary special  Single / not married   \n",
       "\n",
       "   NAME_HOUSING_TYPE OCCUPATION_TYPE WEEKDAY_APPR_PROCESS_START  \\\n",
       "0  House / apartment        Laborers                  WEDNESDAY   \n",
       "1  House / apartment      Core staff                     MONDAY   \n",
       "2  House / apartment        Laborers                     MONDAY   \n",
       "3  House / apartment        Laborers                  WEDNESDAY   \n",
       "4  House / apartment      Core staff                   THURSDAY   \n",
       "\n",
       "        ORGANIZATION_TYPE FONDKAPREMONT_MODE  HOUSETYPE_MODE  \\\n",
       "0  Business Entity Type 3   reg oper account  block of flats   \n",
       "1                  School   reg oper account  block of flats   \n",
       "2              Government                NaN             NaN   \n",
       "3  Business Entity Type 3                NaN             NaN   \n",
       "4                Religion                NaN             NaN   \n",
       "\n",
       "  WALLSMATERIAL_MODE EMERGENCYSTATE_MODE  \n",
       "0       Stone, brick                  No  \n",
       "1              Block                  No  \n",
       "2                NaN                 NaN  \n",
       "3                NaN                 NaN  \n",
       "4                NaN                 NaN  "
      ],
      "text/html": "<div>\n<style scoped>\n    .dataframe tbody tr th:only-of-type {\n        vertical-align: middle;\n    }\n\n    .dataframe tbody tr th {\n        vertical-align: top;\n    }\n\n    .dataframe thead th {\n        text-align: right;\n    }\n</style>\n<table border=\"1\" class=\"dataframe\">\n  <thead>\n    <tr style=\"text-align: right;\">\n      <th></th>\n      <th>NAME_CONTRACT_TYPE</th>\n      <th>CODE_GENDER</th>\n      <th>FLAG_OWN_CAR</th>\n      <th>FLAG_OWN_REALTY</th>\n      <th>NAME_TYPE_SUITE</th>\n      <th>NAME_INCOME_TYPE</th>\n      <th>NAME_EDUCATION_TYPE</th>\n      <th>NAME_FAMILY_STATUS</th>\n      <th>NAME_HOUSING_TYPE</th>\n      <th>OCCUPATION_TYPE</th>\n      <th>WEEKDAY_APPR_PROCESS_START</th>\n      <th>ORGANIZATION_TYPE</th>\n      <th>FONDKAPREMONT_MODE</th>\n      <th>HOUSETYPE_MODE</th>\n      <th>WALLSMATERIAL_MODE</th>\n      <th>EMERGENCYSTATE_MODE</th>\n    </tr>\n  </thead>\n  <tbody>\n    <tr>\n      <th>0</th>\n      <td>Cash loans</td>\n      <td>M</td>\n      <td>N</td>\n      <td>Y</td>\n      <td>Unaccompanied</td>\n      <td>Working</td>\n      <td>Secondary / secondary special</td>\n      <td>Single / not married</td>\n      <td>House / apartment</td>\n      <td>Laborers</td>\n      <td>WEDNESDAY</td>\n      <td>Business Entity Type 3</td>\n      <td>reg oper account</td>\n      <td>block of flats</td>\n      <td>Stone, brick</td>\n      <td>No</td>\n    </tr>\n    <tr>\n      <th>1</th>\n      <td>Cash loans</td>\n      <td>F</td>\n      <td>N</td>\n      <td>N</td>\n      <td>Family</td>\n      <td>State servant</td>\n      <td>Higher education</td>\n      <td>Married</td>\n      <td>House / apartment</td>\n      <td>Core staff</td>\n      <td>MONDAY</td>\n      <td>School</td>\n      <td>reg oper account</td>\n      <td>block of flats</td>\n      <td>Block</td>\n      <td>No</td>\n    </tr>\n    <tr>\n      <th>2</th>\n      <td>Revolving loans</td>\n      <td>M</td>\n      <td>Y</td>\n      <td>Y</td>\n      <td>Unaccompanied</td>\n      <td>Working</td>\n      <td>Secondary / secondary special</td>\n      <td>Single / not married</td>\n      <td>House / apartment</td>\n      <td>Laborers</td>\n      <td>MONDAY</td>\n      <td>Government</td>\n      <td>NaN</td>\n      <td>NaN</td>\n      <td>NaN</td>\n      <td>NaN</td>\n    </tr>\n    <tr>\n      <th>3</th>\n      <td>Cash loans</td>\n      <td>F</td>\n      <td>N</td>\n      <td>Y</td>\n      <td>Unaccompanied</td>\n      <td>Working</td>\n      <td>Secondary / secondary special</td>\n      <td>Civil marriage</td>\n      <td>House / apartment</td>\n      <td>Laborers</td>\n      <td>WEDNESDAY</td>\n      <td>Business Entity Type 3</td>\n      <td>NaN</td>\n      <td>NaN</td>\n      <td>NaN</td>\n      <td>NaN</td>\n    </tr>\n    <tr>\n      <th>4</th>\n      <td>Cash loans</td>\n      <td>M</td>\n      <td>N</td>\n      <td>Y</td>\n      <td>Unaccompanied</td>\n      <td>Working</td>\n      <td>Secondary / secondary special</td>\n      <td>Single / not married</td>\n      <td>House / apartment</td>\n      <td>Core staff</td>\n      <td>THURSDAY</td>\n      <td>Religion</td>\n      <td>NaN</td>\n      <td>NaN</td>\n      <td>NaN</td>\n      <td>NaN</td>\n    </tr>\n  </tbody>\n</table>\n</div>"
     },
     "metadata": {},
     "execution_count": 5
    }
   ],
   "source": [
    "df.select_dtypes(include=\"object\").head()"
   ]
  },
  {
   "source": [
    "## Retirar variaveis que não pertence ao estudo do caso (Drop axi=1)"
   ],
   "cell_type": "markdown",
   "metadata": {}
  },
  {
   "cell_type": "code",
   "execution_count": 6,
   "metadata": {},
   "outputs": [],
   "source": [
    "df = df.drop(\"SK_ID_CURR\", axis=1)"
   ]
  },
  {
   "source": [
    "## Identificar variaveis Nulas e preencher com a media da categoria (Nan)"
   ],
   "cell_type": "markdown",
   "metadata": {}
  },
  {
   "cell_type": "code",
   "execution_count": 7,
   "metadata": {},
   "outputs": [
    {
     "output_type": "execute_result",
     "data": {
      "text/plain": [
       "NAME_CONTRACT_TYPE                 0\n",
       "CODE_GENDER                        0\n",
       "FLAG_OWN_CAR                       0\n",
       "FLAG_OWN_REALTY                    0\n",
       "NAME_TYPE_SUITE                 1292\n",
       "NAME_INCOME_TYPE                   0\n",
       "NAME_EDUCATION_TYPE                0\n",
       "NAME_FAMILY_STATUS                 0\n",
       "NAME_HOUSING_TYPE                  0\n",
       "OCCUPATION_TYPE                96391\n",
       "WEEKDAY_APPR_PROCESS_START         0\n",
       "ORGANIZATION_TYPE                  0\n",
       "FONDKAPREMONT_MODE            210295\n",
       "HOUSETYPE_MODE                154297\n",
       "WALLSMATERIAL_MODE            156341\n",
       "EMERGENCYSTATE_MODE           145755\n",
       "dtype: int64"
      ]
     },
     "metadata": {},
     "execution_count": 7
    }
   ],
   "source": [
    "df.select_dtypes(include=\"object\").isnull().sum()"
   ]
  },
  {
   "cell_type": "code",
   "execution_count": 8,
   "metadata": {},
   "outputs": [],
   "source": [
    "df[\"NAME_TYPE_SUITE\"].fillna(axis=0, method=\"bfill\", inplace=True)\n",
    "df[\"OCCUPATION_TYPE\"].fillna(axis=0, method=\"bfill\", inplace=True)\n",
    "df[\"FONDKAPREMONT_MODE\"].fillna(axis=0, method=\"bfill\", inplace=True)\n",
    "df[\"HOUSETYPE_MODE\"].fillna(axis=0, method=\"bfill\", inplace=True)\n",
    "df[\"WALLSMATERIAL_MODE\"].fillna(axis=0, method=\"bfill\", inplace=True)\n",
    "df[\"EMERGENCYSTATE_MODE\"].fillna(axis=0, method=\"bfill\", inplace=True)\n",
    "df[\"FONDKAPREMONT_MODE\"].fillna(axis=0, method=\"bfill\", inplace=True)"
   ]
  },
  {
   "cell_type": "code",
   "execution_count": 9,
   "metadata": {},
   "outputs": [],
   "source": [
    "df[\"FONDKAPREMONT_MODE\"].fillna(value=\"reg oper account\", inplace=True)"
   ]
  },
  {
   "cell_type": "code",
   "execution_count": 10,
   "metadata": {},
   "outputs": [],
   "source": [
    "# df.dropna(axis=1)"
   ]
  },
  {
   "cell_type": "code",
   "execution_count": 11,
   "metadata": {},
   "outputs": [
    {
     "output_type": "execute_result",
     "data": {
      "text/plain": [
       "TARGET                         0\n",
       "CNT_CHILDREN                   0\n",
       "DAYS_BIRTH                     0\n",
       "DAYS_EMPLOYED                  0\n",
       "DAYS_ID_PUBLISH                0\n",
       "FLAG_MOBIL                     0\n",
       "FLAG_EMP_PHONE                 0\n",
       "FLAG_WORK_PHONE                0\n",
       "FLAG_CONT_MOBILE               0\n",
       "FLAG_PHONE                     0\n",
       "FLAG_EMAIL                     0\n",
       "REGION_RATING_CLIENT           0\n",
       "REGION_RATING_CLIENT_W_CITY    0\n",
       "HOUR_APPR_PROCESS_START        0\n",
       "REG_REGION_NOT_LIVE_REGION     0\n",
       "REG_REGION_NOT_WORK_REGION     0\n",
       "LIVE_REGION_NOT_WORK_REGION    0\n",
       "REG_CITY_NOT_LIVE_CITY         0\n",
       "REG_CITY_NOT_WORK_CITY         0\n",
       "LIVE_CITY_NOT_WORK_CITY        0\n",
       "FLAG_DOCUMENT_2                0\n",
       "FLAG_DOCUMENT_3                0\n",
       "FLAG_DOCUMENT_4                0\n",
       "FLAG_DOCUMENT_5                0\n",
       "FLAG_DOCUMENT_6                0\n",
       "FLAG_DOCUMENT_7                0\n",
       "FLAG_DOCUMENT_8                0\n",
       "FLAG_DOCUMENT_9                0\n",
       "FLAG_DOCUMENT_10               0\n",
       "FLAG_DOCUMENT_11               0\n",
       "FLAG_DOCUMENT_12               0\n",
       "FLAG_DOCUMENT_13               0\n",
       "FLAG_DOCUMENT_14               0\n",
       "FLAG_DOCUMENT_15               0\n",
       "FLAG_DOCUMENT_16               0\n",
       "FLAG_DOCUMENT_17               0\n",
       "FLAG_DOCUMENT_18               0\n",
       "FLAG_DOCUMENT_19               0\n",
       "FLAG_DOCUMENT_20               0\n",
       "FLAG_DOCUMENT_21               0\n",
       "dtype: int64"
      ]
     },
     "metadata": {},
     "execution_count": 11
    }
   ],
   "source": [
    "df.select_dtypes(include=\"int64\").isnull().sum()"
   ]
  },
  {
   "cell_type": "code",
   "execution_count": 12,
   "metadata": {},
   "outputs": [
    {
     "output_type": "execute_result",
     "data": {
      "text/plain": [
       "AMT_INCOME_TOTAL                  0\n",
       "AMT_CREDIT                        0\n",
       "AMT_ANNUITY                      12\n",
       "AMT_GOODS_PRICE                 278\n",
       "REGION_POPULATION_RELATIVE        0\n",
       "                              ...  \n",
       "AMT_REQ_CREDIT_BUREAU_DAY     41519\n",
       "AMT_REQ_CREDIT_BUREAU_WEEK    41519\n",
       "AMT_REQ_CREDIT_BUREAU_MON     41519\n",
       "AMT_REQ_CREDIT_BUREAU_QRT     41519\n",
       "AMT_REQ_CREDIT_BUREAU_YEAR    41519\n",
       "Length: 65, dtype: int64"
      ]
     },
     "metadata": {},
     "execution_count": 12
    }
   ],
   "source": [
    "df.select_dtypes(include=\"float64\").isnull().sum()"
   ]
  },
  {
   "cell_type": "code",
   "execution_count": 13,
   "metadata": {},
   "outputs": [],
   "source": [
    "df[\"AMT_ANNUITY\"].fillna(value=df[\"AMT_ANNUITY\"].mean(), inplace=True)\n",
    "df[\"AMT_GOODS_PRICE\"].fillna(value=df[\"AMT_GOODS_PRICE\"].mean(), inplace=True)\n",
    "df[\"AMT_REQ_CREDIT_BUREAU_DAY\"].fillna(value=df[\"AMT_REQ_CREDIT_BUREAU_DAY\"].mean(), inplace=True)\n",
    "df[\"AMT_REQ_CREDIT_BUREAU_WEEK\"].fillna(value=df[\"AMT_REQ_CREDIT_BUREAU_WEEK\"].mean(), inplace=True)\n",
    "df[\"AMT_REQ_CREDIT_BUREAU_MON\"].fillna(value=df[\"AMT_REQ_CREDIT_BUREAU_MON\"].mean(), inplace=True)\n",
    "df[\"AMT_REQ_CREDIT_BUREAU_QRT\"].fillna(value=df[\"AMT_REQ_CREDIT_BUREAU_QRT\"].mean(), inplace=True)\n",
    "df[\"AMT_REQ_CREDIT_BUREAU_YEAR\"].fillna(value=df[\"AMT_REQ_CREDIT_BUREAU_YEAR\"].mean(), inplace=True)\n"
   ]
  },
  {
   "cell_type": "code",
   "execution_count": 14,
   "metadata": {},
   "outputs": [],
   "source": [
    "df.fillna(value=df.mean(), inplace=True)"
   ]
  },
  {
   "cell_type": "code",
   "execution_count": 15,
   "metadata": {},
   "outputs": [
    {
     "output_type": "execute_result",
     "data": {
      "text/plain": [
       "0"
      ]
     },
     "metadata": {},
     "execution_count": 15
    }
   ],
   "source": [
    "df.isnull().sum().sum()"
   ]
  },
  {
   "source": [
    "## Converter variaveis textos/categoricos para numericos/categoricos "
   ],
   "cell_type": "markdown",
   "metadata": {}
  },
  {
   "cell_type": "code",
   "execution_count": 16,
   "metadata": {},
   "outputs": [
    {
     "output_type": "execute_result",
     "data": {
      "text/plain": [
       "NAME_CONTRACT_TYPE            0\n",
       "CODE_GENDER                   0\n",
       "FLAG_OWN_CAR                  0\n",
       "FLAG_OWN_REALTY               0\n",
       "NAME_TYPE_SUITE               0\n",
       "NAME_INCOME_TYPE              0\n",
       "NAME_EDUCATION_TYPE           0\n",
       "NAME_FAMILY_STATUS            0\n",
       "NAME_HOUSING_TYPE             0\n",
       "OCCUPATION_TYPE               0\n",
       "WEEKDAY_APPR_PROCESS_START    0\n",
       "ORGANIZATION_TYPE             0\n",
       "FONDKAPREMONT_MODE            0\n",
       "HOUSETYPE_MODE                0\n",
       "WALLSMATERIAL_MODE            0\n",
       "EMERGENCYSTATE_MODE           0\n",
       "dtype: int64"
      ]
     },
     "metadata": {},
     "execution_count": 16
    }
   ],
   "source": [
    "df.select_dtypes(include=\"object\").isnull().sum()"
   ]
  },
  {
   "cell_type": "code",
   "execution_count": 17,
   "metadata": {},
   "outputs": [],
   "source": [
    "def convert_text_to_numetic(value, lstText):\n",
    "    for index, text in enumerate(lstText):\n",
    "        if text == value:\n",
    "            return index\n"
   ]
  },
  {
   "cell_type": "code",
   "execution_count": 18,
   "metadata": {},
   "outputs": [],
   "source": [
    "lst_Coll = [\"CODE_GENDER\", \"FLAG_OWN_CAR\", \"FLAG_OWN_REALTY\", \"NAME_TYPE_SUITE\", \"NAME_INCOME_TYPE\", \"NAME_EDUCATION_TYPE\", \"NAME_FAMILY_STATUS\", \"NAME_HOUSING_TYPE\", \"OCCUPATION_TYPE\", \"WEEKDAY_APPR_PROCESS_START\", \"ORGANIZATION_TYPE\", \"FONDKAPREMONT_MODE\", \"HOUSETYPE_MODE\", \"WALLSMATERIAL_MODE\", \"EMERGENCYSTATE_MODE\"] \n",
    "\n",
    "for col in lst_Coll:\n",
    "    lstText = df[col].unique()\n",
    "    df[\"CAT_\" + col] = [convert_text_to_numetic(text, lstText) for text in df[col].values]"
   ]
  },
  {
   "cell_type": "code",
   "execution_count": 19,
   "metadata": {},
   "outputs": [
    {
     "output_type": "execute_result",
     "data": {
      "text/plain": [
       "   TARGET NAME_CONTRACT_TYPE CODE_GENDER FLAG_OWN_CAR FLAG_OWN_REALTY  \\\n",
       "0       1         Cash loans           M            N               Y   \n",
       "1       0         Cash loans           F            N               N   \n",
       "2       0    Revolving loans           M            Y               Y   \n",
       "3       0         Cash loans           F            N               Y   \n",
       "4       0         Cash loans           M            N               Y   \n",
       "\n",
       "   CNT_CHILDREN  AMT_INCOME_TOTAL  AMT_CREDIT  AMT_ANNUITY  AMT_GOODS_PRICE  \\\n",
       "0             0          202500.0    406597.5      24700.5         351000.0   \n",
       "1             0          270000.0   1293502.5      35698.5        1129500.0   \n",
       "2             0           67500.0    135000.0       6750.0         135000.0   \n",
       "3             0          135000.0    312682.5      29686.5         297000.0   \n",
       "4             0          121500.0    513000.0      21865.5         513000.0   \n",
       "\n",
       "   ... CAT_NAME_EDUCATION_TYPE CAT_NAME_FAMILY_STATUS CAT_NAME_HOUSING_TYPE  \\\n",
       "0  ...                       0                      0                     0   \n",
       "1  ...                       1                      1                     0   \n",
       "2  ...                       0                      0                     0   \n",
       "3  ...                       0                      2                     0   \n",
       "4  ...                       0                      0                     0   \n",
       "\n",
       "  CAT_OCCUPATION_TYPE CAT_WEEKDAY_APPR_PROCESS_START  CAT_ORGANIZATION_TYPE  \\\n",
       "0                   0                              0                      0   \n",
       "1                   1                              1                      1   \n",
       "2                   0                              1                      2   \n",
       "3                   0                              0                      0   \n",
       "4                   1                              2                      3   \n",
       "\n",
       "   CAT_FONDKAPREMONT_MODE  CAT_HOUSETYPE_MODE  CAT_WALLSMATERIAL_MODE  \\\n",
       "0                       0                   0                       0   \n",
       "1                       0                   0                       1   \n",
       "2                       0                   0                       2   \n",
       "3                       0                   0                       2   \n",
       "4                       0                   0                       2   \n",
       "\n",
       "   CAT_EMERGENCYSTATE_MODE  \n",
       "0                        0  \n",
       "1                        0  \n",
       "2                        0  \n",
       "3                        0  \n",
       "4                        0  \n",
       "\n",
       "[5 rows x 136 columns]"
      ],
      "text/html": "<div>\n<style scoped>\n    .dataframe tbody tr th:only-of-type {\n        vertical-align: middle;\n    }\n\n    .dataframe tbody tr th {\n        vertical-align: top;\n    }\n\n    .dataframe thead th {\n        text-align: right;\n    }\n</style>\n<table border=\"1\" class=\"dataframe\">\n  <thead>\n    <tr style=\"text-align: right;\">\n      <th></th>\n      <th>TARGET</th>\n      <th>NAME_CONTRACT_TYPE</th>\n      <th>CODE_GENDER</th>\n      <th>FLAG_OWN_CAR</th>\n      <th>FLAG_OWN_REALTY</th>\n      <th>CNT_CHILDREN</th>\n      <th>AMT_INCOME_TOTAL</th>\n      <th>AMT_CREDIT</th>\n      <th>AMT_ANNUITY</th>\n      <th>AMT_GOODS_PRICE</th>\n      <th>...</th>\n      <th>CAT_NAME_EDUCATION_TYPE</th>\n      <th>CAT_NAME_FAMILY_STATUS</th>\n      <th>CAT_NAME_HOUSING_TYPE</th>\n      <th>CAT_OCCUPATION_TYPE</th>\n      <th>CAT_WEEKDAY_APPR_PROCESS_START</th>\n      <th>CAT_ORGANIZATION_TYPE</th>\n      <th>CAT_FONDKAPREMONT_MODE</th>\n      <th>CAT_HOUSETYPE_MODE</th>\n      <th>CAT_WALLSMATERIAL_MODE</th>\n      <th>CAT_EMERGENCYSTATE_MODE</th>\n    </tr>\n  </thead>\n  <tbody>\n    <tr>\n      <th>0</th>\n      <td>1</td>\n      <td>Cash loans</td>\n      <td>M</td>\n      <td>N</td>\n      <td>Y</td>\n      <td>0</td>\n      <td>202500.0</td>\n      <td>406597.5</td>\n      <td>24700.5</td>\n      <td>351000.0</td>\n      <td>...</td>\n      <td>0</td>\n      <td>0</td>\n      <td>0</td>\n      <td>0</td>\n      <td>0</td>\n      <td>0</td>\n      <td>0</td>\n      <td>0</td>\n      <td>0</td>\n      <td>0</td>\n    </tr>\n    <tr>\n      <th>1</th>\n      <td>0</td>\n      <td>Cash loans</td>\n      <td>F</td>\n      <td>N</td>\n      <td>N</td>\n      <td>0</td>\n      <td>270000.0</td>\n      <td>1293502.5</td>\n      <td>35698.5</td>\n      <td>1129500.0</td>\n      <td>...</td>\n      <td>1</td>\n      <td>1</td>\n      <td>0</td>\n      <td>1</td>\n      <td>1</td>\n      <td>1</td>\n      <td>0</td>\n      <td>0</td>\n      <td>1</td>\n      <td>0</td>\n    </tr>\n    <tr>\n      <th>2</th>\n      <td>0</td>\n      <td>Revolving loans</td>\n      <td>M</td>\n      <td>Y</td>\n      <td>Y</td>\n      <td>0</td>\n      <td>67500.0</td>\n      <td>135000.0</td>\n      <td>6750.0</td>\n      <td>135000.0</td>\n      <td>...</td>\n      <td>0</td>\n      <td>0</td>\n      <td>0</td>\n      <td>0</td>\n      <td>1</td>\n      <td>2</td>\n      <td>0</td>\n      <td>0</td>\n      <td>2</td>\n      <td>0</td>\n    </tr>\n    <tr>\n      <th>3</th>\n      <td>0</td>\n      <td>Cash loans</td>\n      <td>F</td>\n      <td>N</td>\n      <td>Y</td>\n      <td>0</td>\n      <td>135000.0</td>\n      <td>312682.5</td>\n      <td>29686.5</td>\n      <td>297000.0</td>\n      <td>...</td>\n      <td>0</td>\n      <td>2</td>\n      <td>0</td>\n      <td>0</td>\n      <td>0</td>\n      <td>0</td>\n      <td>0</td>\n      <td>0</td>\n      <td>2</td>\n      <td>0</td>\n    </tr>\n    <tr>\n      <th>4</th>\n      <td>0</td>\n      <td>Cash loans</td>\n      <td>M</td>\n      <td>N</td>\n      <td>Y</td>\n      <td>0</td>\n      <td>121500.0</td>\n      <td>513000.0</td>\n      <td>21865.5</td>\n      <td>513000.0</td>\n      <td>...</td>\n      <td>0</td>\n      <td>0</td>\n      <td>0</td>\n      <td>1</td>\n      <td>2</td>\n      <td>3</td>\n      <td>0</td>\n      <td>0</td>\n      <td>2</td>\n      <td>0</td>\n    </tr>\n  </tbody>\n</table>\n<p>5 rows × 136 columns</p>\n</div>"
     },
     "metadata": {},
     "execution_count": 19
    }
   ],
   "source": [
    "df.head()"
   ]
  },
  {
   "source": [
    "## Retirar registros que tenha variaveis com outliers (Escor Z)"
   ],
   "cell_type": "markdown",
   "metadata": {}
  },
  {
   "cell_type": "code",
   "execution_count": 20,
   "metadata": {},
   "outputs": [],
   "source": [
    "name_columns = df.select_dtypes(include=\"float64\").columns\n",
    "des_target = df[\"TARGET\"].unique()"
   ]
  },
  {
   "cell_type": "code",
   "execution_count": 21,
   "metadata": {},
   "outputs": [
    {
     "output_type": "execute_result",
     "data": {
      "text/plain": [
       "Index(['AMT_INCOME_TOTAL', 'AMT_CREDIT', 'AMT_ANNUITY', 'AMT_GOODS_PRICE',\n",
       "       'REGION_POPULATION_RELATIVE', 'DAYS_REGISTRATION', 'OWN_CAR_AGE',\n",
       "       'CNT_FAM_MEMBERS', 'EXT_SOURCE_1', 'EXT_SOURCE_2', 'EXT_SOURCE_3',\n",
       "       'APARTMENTS_AVG', 'BASEMENTAREA_AVG', 'YEARS_BEGINEXPLUATATION_AVG',\n",
       "       'YEARS_BUILD_AVG', 'COMMONAREA_AVG', 'ELEVATORS_AVG', 'ENTRANCES_AVG',\n",
       "       'FLOORSMAX_AVG', 'FLOORSMIN_AVG', 'LANDAREA_AVG',\n",
       "       'LIVINGAPARTMENTS_AVG', 'LIVINGAREA_AVG', 'NONLIVINGAPARTMENTS_AVG',\n",
       "       'NONLIVINGAREA_AVG', 'APARTMENTS_MODE', 'BASEMENTAREA_MODE',\n",
       "       'YEARS_BEGINEXPLUATATION_MODE', 'YEARS_BUILD_MODE', 'COMMONAREA_MODE',\n",
       "       'ELEVATORS_MODE', 'ENTRANCES_MODE', 'FLOORSMAX_MODE', 'FLOORSMIN_MODE',\n",
       "       'LANDAREA_MODE', 'LIVINGAPARTMENTS_MODE', 'LIVINGAREA_MODE',\n",
       "       'NONLIVINGAPARTMENTS_MODE', 'NONLIVINGAREA_MODE', 'APARTMENTS_MEDI',\n",
       "       'BASEMENTAREA_MEDI', 'YEARS_BEGINEXPLUATATION_MEDI', 'YEARS_BUILD_MEDI',\n",
       "       'COMMONAREA_MEDI', 'ELEVATORS_MEDI', 'ENTRANCES_MEDI', 'FLOORSMAX_MEDI',\n",
       "       'FLOORSMIN_MEDI', 'LANDAREA_MEDI', 'LIVINGAPARTMENTS_MEDI',\n",
       "       'LIVINGAREA_MEDI', 'NONLIVINGAPARTMENTS_MEDI', 'NONLIVINGAREA_MEDI',\n",
       "       'TOTALAREA_MODE', 'OBS_30_CNT_SOCIAL_CIRCLE',\n",
       "       'DEF_30_CNT_SOCIAL_CIRCLE', 'OBS_60_CNT_SOCIAL_CIRCLE',\n",
       "       'DEF_60_CNT_SOCIAL_CIRCLE', 'DAYS_LAST_PHONE_CHANGE',\n",
       "       'AMT_REQ_CREDIT_BUREAU_HOUR', 'AMT_REQ_CREDIT_BUREAU_DAY',\n",
       "       'AMT_REQ_CREDIT_BUREAU_WEEK', 'AMT_REQ_CREDIT_BUREAU_MON',\n",
       "       'AMT_REQ_CREDIT_BUREAU_QRT', 'AMT_REQ_CREDIT_BUREAU_YEAR'],\n",
       "      dtype='object')"
      ]
     },
     "metadata": {},
     "execution_count": 21
    }
   ],
   "source": [
    "name_columns"
   ]
  },
  {
   "cell_type": "code",
   "execution_count": 22,
   "metadata": {},
   "outputs": [],
   "source": [
    "name_columns = df.select_dtypes(include=\"int64\").columns"
   ]
  },
  {
   "cell_type": "code",
   "execution_count": 23,
   "metadata": {},
   "outputs": [
    {
     "output_type": "execute_result",
     "data": {
      "text/plain": [
       "Index(['TARGET', 'CNT_CHILDREN', 'DAYS_BIRTH', 'DAYS_EMPLOYED',\n",
       "       'DAYS_ID_PUBLISH', 'FLAG_MOBIL', 'FLAG_EMP_PHONE', 'FLAG_WORK_PHONE',\n",
       "       'FLAG_CONT_MOBILE', 'FLAG_PHONE', 'FLAG_EMAIL', 'REGION_RATING_CLIENT',\n",
       "       'REGION_RATING_CLIENT_W_CITY', 'HOUR_APPR_PROCESS_START',\n",
       "       'REG_REGION_NOT_LIVE_REGION', 'REG_REGION_NOT_WORK_REGION',\n",
       "       'LIVE_REGION_NOT_WORK_REGION', 'REG_CITY_NOT_LIVE_CITY',\n",
       "       'REG_CITY_NOT_WORK_CITY', 'LIVE_CITY_NOT_WORK_CITY', 'FLAG_DOCUMENT_2',\n",
       "       'FLAG_DOCUMENT_3', 'FLAG_DOCUMENT_4', 'FLAG_DOCUMENT_5',\n",
       "       'FLAG_DOCUMENT_6', 'FLAG_DOCUMENT_7', 'FLAG_DOCUMENT_8',\n",
       "       'FLAG_DOCUMENT_9', 'FLAG_DOCUMENT_10', 'FLAG_DOCUMENT_11',\n",
       "       'FLAG_DOCUMENT_12', 'FLAG_DOCUMENT_13', 'FLAG_DOCUMENT_14',\n",
       "       'FLAG_DOCUMENT_15', 'FLAG_DOCUMENT_16', 'FLAG_DOCUMENT_17',\n",
       "       'FLAG_DOCUMENT_18', 'FLAG_DOCUMENT_19', 'FLAG_DOCUMENT_20',\n",
       "       'FLAG_DOCUMENT_21', 'CAT_CODE_GENDER', 'CAT_FLAG_OWN_CAR',\n",
       "       'CAT_FLAG_OWN_REALTY', 'CAT_NAME_TYPE_SUITE', 'CAT_NAME_INCOME_TYPE',\n",
       "       'CAT_NAME_EDUCATION_TYPE', 'CAT_NAME_FAMILY_STATUS',\n",
       "       'CAT_NAME_HOUSING_TYPE', 'CAT_OCCUPATION_TYPE',\n",
       "       'CAT_WEEKDAY_APPR_PROCESS_START', 'CAT_ORGANIZATION_TYPE',\n",
       "       'CAT_FONDKAPREMONT_MODE', 'CAT_HOUSETYPE_MODE',\n",
       "       'CAT_WALLSMATERIAL_MODE', 'CAT_EMERGENCYSTATE_MODE'],\n",
       "      dtype='object')"
      ]
     },
     "metadata": {},
     "execution_count": 23
    }
   ],
   "source": [
    "name_columns"
   ]
  },
  {
   "cell_type": "code",
   "execution_count": 24,
   "metadata": {},
   "outputs": [
    {
     "output_type": "stream",
     "name": "stdout",
     "text": [
      "Classe: 1 - variavel: TARGET\n",
      "Real Min: 0.000 Real Max: 0.000\n",
      "Limit Min: 0.000 Limit Max: 0.000\n",
      "Identfied outliers: 0 \n",
      "\n",
      "Classe: 0 - variavel: TARGET\n",
      "Real Min: 1.000 Real Max: 1.000\n",
      "Limit Min: 1.000 Limit Max: 1.000\n",
      "Identfied outliers: 0 \n",
      "\n",
      "Classe: 1 - variavel: CNT_CHILDREN\n",
      "Real Min: 0.000 Real Max: 19.000\n",
      "Limit Min: -1.384 Limit Max: 2.210\n",
      "Identfied outliers: 3843 \n",
      "\n",
      "Classe: 0 - variavel: CNT_CHILDREN\n",
      "Real Min: 0.000 Real Max: 11.000\n",
      "Limit Min: -1.428 Limit Max: 2.356\n",
      "Identfied outliers: 429 \n",
      "\n",
      "Classe: 1 - variavel: DAYS_BIRTH\n",
      "Real Min: -25229.000 Real Max: -7489.000\n",
      "Limit Min: -27115.954 Limit Max: -5226.798\n",
      "Identfied outliers: 0 \n",
      "\n",
      "Classe: 0 - variavel: DAYS_BIRTH\n",
      "Real Min: -25168.000 Real Max: -7678.000\n",
      "Limit Min: -25450.709 Limit Max: -4375.700\n",
      "Identfied outliers: 0 \n",
      "\n",
      "Classe: 1 - variavel: DAYS_EMPLOYED\n",
      "Real Min: -17912.000 Real Max: 365243.000\n",
      "Limit Min: -292318.177 Limit Max: 425319.111\n",
      "Identfied outliers: 0 \n",
      "\n",
      "Classe: 0 - variavel: DAYS_EMPLOYED\n",
      "Real Min: -16069.000 Real Max: 365243.000\n",
      "Limit Min: -257568.955 Limit Max: 343668.254\n",
      "Identfied outliers: 2982 \n",
      "\n",
      "Classe: 1 - variavel: DAYS_ID_PUBLISH\n",
      "Real Min: -7197.000 Real Max: 0.000\n",
      "Limit Min: -6780.147 Limit Max: 751.641\n",
      "Identfied outliers: 1 \n",
      "\n",
      "Classe: 0 - variavel: DAYS_ID_PUBLISH\n",
      "Real Min: -6207.000 Real Max: 0.000\n",
      "Limit Min: -6350.839 Limit Max: 1156.901\n",
      "Identfied outliers: 0 \n",
      "\n",
      "Classe: 1 - variavel: FLAG_MOBIL\n",
      "Real Min: 0.000 Real Max: 1.000\n",
      "Limit Min: 0.995 Limit Max: 1.005\n",
      "Identfied outliers: 1 \n",
      "\n",
      "Classe: 0 - variavel: FLAG_MOBIL\n",
      "Real Min: 1.000 Real Max: 1.000\n",
      "Limit Min: 1.000 Limit Max: 1.000\n",
      "Identfied outliers: 0 \n",
      "\n",
      "Classe: 1 - variavel: FLAG_EMP_PHONE\n",
      "Real Min: 0.000 Real Max: 1.000\n",
      "Limit Min: -0.163 Limit Max: 1.788\n",
      "Identfied outliers: 0 \n",
      "\n",
      "Classe: 0 - variavel: FLAG_EMP_PHONE\n",
      "Real Min: 0.000 Real Max: 1.000\n",
      "Limit Min: 0.983 Limit Max: 1.017\n",
      "Identfied outliers: 1 \n",
      "\n",
      "Classe: 1 - variavel: FLAG_WORK_PHONE\n",
      "Real Min: 0.000 Real Max: 1.000\n",
      "Limit Min: -0.795 Limit Max: 1.185\n",
      "Identfied outliers: 0 \n",
      "\n",
      "Classe: 0 - variavel: FLAG_WORK_PHONE\n",
      "Real Min: 0.000 Real Max: 1.000\n",
      "Limit Min: -0.840 Limit Max: 1.378\n",
      "Identfied outliers: 0 \n",
      "\n",
      "Classe: 1 - variavel: FLAG_CONT_MOBILE\n",
      "Real Min: 0.000 Real Max: 1.000\n",
      "Limit Min: 0.890 Limit Max: 1.106\n",
      "Identfied outliers: 523 \n",
      "\n",
      "Classe: 0 - variavel: FLAG_CONT_MOBILE\n",
      "Real Min: 0.000 Real Max: 1.000\n",
      "Limit Min: 0.887 Limit Max: 1.109\n",
      "Identfied outliers: 42 \n",
      "\n",
      "Classe: 1 - variavel: FLAG_PHONE\n",
      "Real Min: 0.000 Real Max: 1.000\n",
      "Limit Min: -0.843 Limit Max: 1.412\n",
      "Identfied outliers: 0 \n",
      "\n",
      "Classe: 0 - variavel: FLAG_PHONE\n",
      "Real Min: 0.000 Real Max: 1.000\n",
      "Limit Min: -0.829 Limit Max: 1.315\n",
      "Identfied outliers: 0 \n",
      "\n",
      "Classe: 1 - variavel: FLAG_EMAIL\n",
      "Real Min: 0.000 Real Max: 1.000\n",
      "Limit Min: -0.521 Limit Max: 0.635\n",
      "Identfied outliers: 15782 \n",
      "\n",
      "Classe: 0 - variavel: FLAG_EMAIL\n",
      "Real Min: 0.000 Real Max: 1.000\n",
      "Limit Min: -0.529 Limit Max: 0.647\n",
      "Identfied outliers: 1255 \n",
      "\n",
      "Classe: 1 - variavel: REGION_RATING_CLIENT\n",
      "Real Min: 1.000 Real Max: 3.000\n",
      "Limit Min: 0.790 Limit Max: 3.310\n",
      "Identfied outliers: 0 \n",
      "\n",
      "Classe: 0 - variavel: REGION_RATING_CLIENT\n",
      "Real Min: 1.000 Real Max: 3.000\n",
      "Limit Min: 0.898 Limit Max: 3.414\n",
      "Identfied outliers: 0 \n",
      "\n",
      "Classe: 1 - variavel: REGION_RATING_CLIENT_W_CITY\n",
      "Real Min: 1.000 Real Max: 3.000\n",
      "Limit Min: 0.784 Limit Max: 3.273\n",
      "Identfied outliers: 0 \n",
      "\n",
      "Classe: 0 - variavel: REGION_RATING_CLIENT_W_CITY\n",
      "Real Min: 1.000 Real Max: 3.000\n",
      "Limit Min: 0.891 Limit Max: 3.383\n",
      "Identfied outliers: 0 \n",
      "\n",
      "Classe: 1 - variavel: HOUR_APPR_PROCESS_START\n",
      "Real Min: 0.000 Real Max: 23.000\n",
      "Limit Min: 3.919 Limit Max: 20.219\n",
      "Identfied outliers: 1928 \n",
      "\n",
      "Classe: 0 - variavel: HOUR_APPR_PROCESS_START\n",
      "Real Min: 0.000 Real Max: 23.000\n",
      "Limit Min: 3.615 Limit Max: 20.144\n",
      "Identfied outliers: 166 \n",
      "\n",
      "Classe: 1 - variavel: REG_REGION_NOT_LIVE_REGION\n",
      "Real Min: 0.000 Real Max: 1.000\n",
      "Limit Min: -0.284 Limit Max: 0.313\n",
      "Identfied outliers: 3761 \n",
      "\n",
      "Classe: 0 - variavel: REG_REGION_NOT_LIVE_REGION\n",
      "Real Min: 0.000 Real Max: 1.000\n",
      "Limit Min: -0.321 Limit Max: 0.359\n",
      "Identfied outliers: 376 \n",
      "\n",
      "Classe: 1 - variavel: REG_REGION_NOT_WORK_REGION\n",
      "Real Min: 0.000 Real Max: 1.000\n",
      "Limit Min: -0.436 Limit Max: 0.510\n",
      "Identfied outliers: 9549 \n",
      "\n",
      "Classe: 0 - variavel: REG_REGION_NOT_WORK_REGION\n",
      "Real Min: 0.000 Real Max: 1.000\n",
      "Limit Min: -0.477 Limit Max: 0.568\n",
      "Identfied outliers: 895 \n",
      "\n",
      "Classe: 1 - variavel: LIVE_REGION_NOT_WORK_REGION\n",
      "Real Min: 0.000 Real Max: 0.000\n",
      "Limit Min: 0.000 Limit Max: 0.000\n",
      "Identfied outliers: 0 \n",
      "\n",
      "Classe: 0 - variavel: LIVE_REGION_NOT_WORK_REGION\n",
      "Real Min: 0.000 Real Max: 0.000\n",
      "Limit Min: 0.000 Limit Max: 0.000\n",
      "Identfied outliers: 0 \n",
      "\n",
      "Classe: 1 - variavel: REG_CITY_NOT_LIVE_CITY\n",
      "Real Min: 0.000 Real Max: 1.000\n",
      "Limit Min: -0.545 Limit Max: 0.671\n",
      "Identfied outliers: 15607 \n",
      "\n",
      "Classe: 0 - variavel: REG_CITY_NOT_LIVE_CITY\n",
      "Real Min: 0.000 Real Max: 1.000\n",
      "Limit Min: -0.687 Limit Max: 0.920\n",
      "Identfied outliers: 2185 \n",
      "\n",
      "Classe: 1 - variavel: REG_CITY_NOT_WORK_CITY\n",
      "Real Min: 0.000 Real Max: 1.000\n",
      "Limit Min: -0.749 Limit Max: 1.059\n",
      "Identfied outliers: 0 \n",
      "\n",
      "Classe: 0 - variavel: REG_CITY_NOT_WORK_CITY\n",
      "Real Min: 0.000 Real Max: 1.000\n",
      "Limit Min: -0.826 Limit Max: 1.300\n",
      "Identfied outliers: 0 \n",
      "\n",
      "Classe: 1 - variavel: LIVE_CITY_NOT_WORK_CITY\n",
      "Real Min: 0.000 Real Max: 1.000\n",
      "Limit Min: -0.749 Limit Max: 1.059\n",
      "Identfied outliers: 0 \n",
      "\n",
      "Classe: 0 - variavel: LIVE_CITY_NOT_WORK_CITY\n",
      "Real Min: 0.000 Real Max: 1.000\n",
      "Limit Min: -0.826 Limit Max: 1.300\n",
      "Identfied outliers: 0 \n",
      "\n",
      "Classe: 1 - variavel: FLAG_DOCUMENT_2\n",
      "Real Min: 0.000 Real Max: 1.000\n",
      "Limit Min: -0.014 Limit Max: 0.014\n",
      "Identfied outliers: 7 \n",
      "\n",
      "Classe: 0 - variavel: FLAG_DOCUMENT_2\n",
      "Real Min: 0.000 Real Max: 1.000\n",
      "Limit Min: -0.039 Limit Max: 0.039\n",
      "Identfied outliers: 4 \n",
      "\n",
      "Classe: 1 - variavel: FLAG_DOCUMENT_3\n",
      "Real Min: 0.000 Real Max: 1.000\n",
      "Limit Min: -0.440 Limit Max: 1.845\n",
      "Identfied outliers: 0 \n",
      "\n",
      "Classe: 0 - variavel: FLAG_DOCUMENT_3\n",
      "Real Min: 0.000 Real Max: 1.000\n",
      "Limit Min: -0.123 Limit Max: 1.774\n",
      "Identfied outliers: 0 \n",
      "\n",
      "Classe: 1 - variavel: FLAG_DOCUMENT_4\n",
      "Real Min: 0.000 Real Max: 1.000\n",
      "Limit Min: -0.023 Limit Max: 0.023\n",
      "Identfied outliers: 20 \n",
      "\n",
      "Classe: 0 - variavel: FLAG_DOCUMENT_4\n",
      "Real Min: 0.000 Real Max: 0.000\n",
      "Limit Min: 0.000 Limit Max: 0.000\n",
      "Identfied outliers: 0 \n",
      "\n",
      "Classe: 1 - variavel: FLAG_DOCUMENT_5\n",
      "Real Min: 0.000 Real Max: 1.000\n",
      "Limit Min: -0.287 Limit Max: 0.317\n",
      "Identfied outliers: 3425 \n",
      "\n",
      "Classe: 0 - variavel: FLAG_DOCUMENT_5\n",
      "Real Min: 0.000 Real Max: 1.000\n",
      "Limit Min: -0.301 Limit Max: 0.334\n",
      "Identfied outliers: 270 \n",
      "\n",
      "Classe: 1 - variavel: FLAG_DOCUMENT_6\n",
      "Real Min: 0.000 Real Max: 1.000\n",
      "Limit Min: -0.661 Limit Max: 0.871\n",
      "Identfied outliers: 23969 \n",
      "\n",
      "Classe: 0 - variavel: FLAG_DOCUMENT_6\n",
      "Real Min: 0.000 Real Max: 1.000\n",
      "Limit Min: -0.198 Limit Max: 0.212\n",
      "Identfied outliers: 110 \n",
      "\n",
      "Classe: 1 - variavel: FLAG_DOCUMENT_7\n",
      "Real Min: 0.000 Real Max: 1.000\n",
      "Limit Min: -0.036 Limit Max: 0.036\n",
      "Identfied outliers: 43 \n",
      "\n",
      "Classe: 0 - variavel: FLAG_DOCUMENT_7\n",
      "Real Min: 0.000 Real Max: 1.000\n",
      "Limit Min: -0.034 Limit Max: 0.034\n",
      "Identfied outliers: 3 \n",
      "\n",
      "Classe: 1 - variavel: FLAG_DOCUMENT_8\n",
      "Real Min: 0.000 Real Max: 1.000\n",
      "Limit Min: -0.610 Limit Max: 0.779\n",
      "Identfied outliers: 17225 \n",
      "\n",
      "Classe: 0 - variavel: FLAG_DOCUMENT_8\n",
      "Real Min: 0.000 Real Max: 1.000\n",
      "Limit Min: -0.602 Limit Max: 0.764\n",
      "Identfied outliers: 1307 \n",
      "\n",
      "Classe: 1 - variavel: FLAG_DOCUMENT_9\n",
      "Real Min: 0.000 Real Max: 1.000\n",
      "Limit Min: -0.159 Limit Max: 0.167\n",
      "Identfied outliers: 796 \n",
      "\n",
      "Classe: 0 - variavel: FLAG_DOCUMENT_9\n",
      "Real Min: 0.000 Real Max: 1.000\n",
      "Limit Min: -0.146 Limit Max: 0.153\n",
      "Identfied outliers: 53 \n",
      "\n",
      "Classe: 1 - variavel: FLAG_DOCUMENT_10\n",
      "Real Min: 0.000 Real Max: 1.000\n",
      "Limit Min: -0.012 Limit Max: 0.012\n",
      "Identfied outliers: 4 \n",
      "\n",
      "Classe: 0 - variavel: FLAG_DOCUMENT_10\n",
      "Real Min: 0.000 Real Max: 0.000\n",
      "Limit Min: 0.000 Limit Max: 0.000\n",
      "Identfied outliers: 0 \n",
      "\n",
      "Classe: 1 - variavel: FLAG_DOCUMENT_11\n",
      "Real Min: 0.000 Real Max: 1.000\n",
      "Limit Min: -0.150 Limit Max: 0.158\n",
      "Identfied outliers: 709 \n",
      "\n",
      "Classe: 0 - variavel: FLAG_DOCUMENT_11\n",
      "Real Min: 0.000 Real Max: 1.000\n",
      "Limit Min: -0.118 Limit Max: 0.122\n",
      "Identfied outliers: 34 \n",
      "\n",
      "Classe: 1 - variavel: FLAG_DOCUMENT_12\n",
      "Real Min: 0.000 Real Max: 1.000\n",
      "Limit Min: -0.006 Limit Max: 0.006\n",
      "Identfied outliers: 1 \n",
      "\n",
      "Classe: 0 - variavel: FLAG_DOCUMENT_12\n",
      "Real Min: 0.000 Real Max: 0.000\n",
      "Limit Min: 0.000 Limit Max: 0.000\n",
      "Identfied outliers: 0 \n",
      "\n",
      "Classe: 1 - variavel: FLAG_DOCUMENT_13\n",
      "Real Min: 0.000 Real Max: 1.000\n",
      "Limit Min: -0.123 Limit Max: 0.128\n",
      "Identfied outliers: 471 \n",
      "\n",
      "Classe: 0 - variavel: FLAG_DOCUMENT_13\n",
      "Real Min: 0.000 Real Max: 1.000\n",
      "Limit Min: -0.073 Limit Max: 0.075\n",
      "Identfied outliers: 13 \n",
      "\n",
      "Classe: 1 - variavel: FLAG_DOCUMENT_14\n",
      "Real Min: 0.000 Real Max: 1.000\n",
      "Limit Min: -0.127 Limit Max: 0.132\n",
      "Identfied outliers: 498 \n",
      "\n",
      "Classe: 0 - variavel: FLAG_DOCUMENT_14\n",
      "Real Min: 0.000 Real Max: 1.000\n",
      "Limit Min: -0.081 Limit Max: 0.084\n",
      "Identfied outliers: 16 \n",
      "\n",
      "Classe: 1 - variavel: FLAG_DOCUMENT_15\n",
      "Real Min: 0.000 Real Max: 1.000\n",
      "Limit Min: -0.085 Limit Max: 0.087\n",
      "Identfied outliers: 217 \n",
      "\n",
      "Classe: 0 - variavel: FLAG_DOCUMENT_15\n",
      "Real Min: 0.000 Real Max: 1.000\n",
      "Limit Min: -0.050 Limit Max: 0.051\n",
      "Identfied outliers: 6 \n",
      "\n",
      "Classe: 1 - variavel: FLAG_DOCUMENT_16\n",
      "Real Min: 0.000 Real Max: 1.000\n",
      "Limit Min: -0.257 Limit Max: 0.281\n",
      "Identfied outliers: 2159 \n",
      "\n",
      "Classe: 0 - variavel: FLAG_DOCUMENT_16\n",
      "Real Min: 0.000 Real Max: 1.000\n",
      "Limit Min: -0.208 Limit Max: 0.223\n",
      "Identfied outliers: 110 \n",
      "\n",
      "Classe: 1 - variavel: FLAG_DOCUMENT_17\n",
      "Real Min: 0.000 Real Max: 1.000\n",
      "Limit Min: -0.042 Limit Max: 0.042\n",
      "Identfied outliers: 51 \n",
      "\n",
      "Classe: 0 - variavel: FLAG_DOCUMENT_17\n",
      "Real Min: 0.000 Real Max: 1.000\n",
      "Limit Min: -0.029 Limit Max: 0.029\n",
      "Identfied outliers: 2 \n",
      "\n",
      "Classe: 1 - variavel: FLAG_DOCUMENT_18\n",
      "Real Min: 0.000 Real Max: 1.000\n",
      "Limit Min: -0.225 Limit Max: 0.242\n",
      "Identfied outliers: 1605 \n",
      "\n",
      "Classe: 0 - variavel: FLAG_DOCUMENT_18\n",
      "Real Min: 0.000 Real Max: 1.000\n",
      "Limit Min: -0.199 Limit Max: 0.212\n",
      "Identfied outliers: 99 \n",
      "\n",
      "Classe: 1 - variavel: FLAG_DOCUMENT_19\n",
      "Real Min: 0.000 Real Max: 1.000\n",
      "Limit Min: -0.066 Limit Max: 0.068\n",
      "Identfied outliers: 130 \n",
      "\n",
      "Classe: 0 - variavel: FLAG_DOCUMENT_19\n",
      "Real Min: 0.000 Real Max: 1.000\n",
      "Limit Min: -0.065 Limit Max: 0.066\n",
      "Identfied outliers: 10 \n",
      "\n",
      "Classe: 1 - variavel: FLAG_DOCUMENT_20\n",
      "Real Min: 0.000 Real Max: 0.000\n",
      "Limit Min: 0.000 Limit Max: 0.000\n",
      "Identfied outliers: 0 \n",
      "\n",
      "Classe: 0 - variavel: FLAG_DOCUMENT_20\n",
      "Real Min: 0.000 Real Max: 0.000\n",
      "Limit Min: 0.000 Limit Max: 0.000\n",
      "Identfied outliers: 0 \n",
      "\n",
      "Classe: 1 - variavel: FLAG_DOCUMENT_21\n",
      "Real Min: 0.000 Real Max: 1.000\n",
      "Limit Min: -0.047 Limit Max: 0.048\n",
      "Identfied outliers: 66 \n",
      "\n",
      "Classe: 0 - variavel: FLAG_DOCUMENT_21\n",
      "Real Min: 0.000 Real Max: 1.000\n",
      "Limit Min: -0.055 Limit Max: 0.055\n",
      "Identfied outliers: 7 \n",
      "\n",
      "Classe: 1 - variavel: CAT_CODE_GENDER\n",
      "Real Min: 0.000 Real Max: 2.000\n",
      "Limit Min: -0.424 Limit Max: 1.845\n",
      "Identfied outliers: 4 \n",
      "\n",
      "Classe: 0 - variavel: CAT_CODE_GENDER\n",
      "Real Min: 0.000 Real Max: 1.000\n",
      "Limit Min: -0.632 Limit Max: 1.822\n",
      "Identfied outliers: 0 \n",
      "\n",
      "Classe: 1 - variavel: CAT_FLAG_OWN_CAR\n",
      "Real Min: 0.000 Real Max: 1.000\n",
      "Limit Min: -0.846 Limit Max: 1.477\n",
      "Identfied outliers: 0 \n",
      "\n",
      "Classe: 0 - variavel: CAT_FLAG_OWN_CAR\n",
      "Real Min: 0.000 Real Max: 1.000\n",
      "Limit Min: -0.845 Limit Max: 1.435\n",
      "Identfied outliers: 0 \n",
      "\n",
      "Classe: 1 - variavel: CAT_FLAG_OWN_REALTY\n",
      "Real Min: 0.000 Real Max: 1.000\n",
      "Limit Min: -0.844 Limit Max: 1.415\n",
      "Identfied outliers: 0 \n",
      "\n",
      "Classe: 0 - variavel: CAT_FLAG_OWN_REALTY\n",
      "Real Min: 0.000 Real Max: 1.000\n",
      "Limit Min: -0.846 Limit Max: 1.467\n",
      "Identfied outliers: 0 \n",
      "\n",
      "Classe: 1 - variavel: CAT_NAME_TYPE_SUITE\n",
      "Real Min: 0.000 Real Max: 6.000\n",
      "Limit Min: -1.498 Limit Max: 2.072\n",
      "Identfied outliers: 3565 \n",
      "\n",
      "Classe: 0 - variavel: CAT_NAME_TYPE_SUITE\n",
      "Real Min: 0.000 Real Max: 6.000\n",
      "Limit Min: -1.556 Limit Max: 2.108\n",
      "Identfied outliers: 280 \n",
      "\n",
      "Classe: 1 - variavel: CAT_NAME_INCOME_TYPE\n",
      "Real Min: 0.000 Real Max: 7.000\n",
      "Limit Min: -1.951 Limit Max: 3.869\n",
      "Identfied outliers: 25 \n",
      "\n",
      "Classe: 0 - variavel: CAT_NAME_INCOME_TYPE\n",
      "Real Min: 0.000 Real Max: 7.000\n",
      "Limit Min: -1.591 Limit Max: 2.618\n",
      "Identfied outliers: 2 \n",
      "\n",
      "Classe: 1 - variavel: CAT_NAME_EDUCATION_TYPE\n",
      "Real Min: 0.000 Real Max: 4.000\n",
      "Limit Min: -1.159 Limit Max: 1.816\n",
      "Identfied outliers: 7343 \n",
      "\n",
      "Classe: 0 - variavel: CAT_NAME_EDUCATION_TYPE\n",
      "Real Min: 0.000 Real Max: 4.000\n",
      "Limit Min: -1.222 Limit Max: 1.755\n",
      "Identfied outliers: 698 \n",
      "\n",
      "Classe: 1 - variavel: CAT_NAME_FAMILY_STATUS\n",
      "Real Min: 0.000 Real Max: 4.000\n",
      "Limit Min: -1.190 Limit Max: 3.714\n",
      "Identfied outliers: 11233 \n",
      "\n",
      "Classe: 0 - variavel: CAT_NAME_FAMILY_STATUS\n",
      "Real Min: 0.000 Real Max: 4.000\n",
      "Limit Min: -1.230 Limit Max: 3.590\n",
      "Identfied outliers: 876 \n",
      "\n",
      "Classe: 1 - variavel: CAT_NAME_HOUSING_TYPE\n",
      "Real Min: 0.000 Real Max: 5.000\n",
      "Limit Min: -1.752 Limit Max: 2.237\n",
      "Identfied outliers: 7264 \n",
      "\n",
      "Classe: 0 - variavel: CAT_NAME_HOUSING_TYPE\n",
      "Real Min: 0.000 Real Max: 5.000\n",
      "Limit Min: -1.799 Limit Max: 2.401\n",
      "Identfied outliers: 576 \n",
      "\n",
      "Classe: 1 - variavel: CAT_OCCUPATION_TYPE\n",
      "Real Min: 0.000 Real Max: 17.000\n",
      "Limit Min: -5.627 Limit Max: 13.195\n",
      "Identfied outliers: 2199 \n",
      "\n",
      "Classe: 0 - variavel: CAT_OCCUPATION_TYPE\n",
      "Real Min: 0.000 Real Max: 17.000\n",
      "Limit Min: -5.732 Limit Max: 13.099\n",
      "Identfied outliers: 134 \n",
      "\n",
      "Classe: 1 - variavel: CAT_WEEKDAY_APPR_PROCESS_START\n",
      "Real Min: 0.000 Real Max: 6.000\n",
      "Limit Min: -2.430 Limit Max: 8.368\n",
      "Identfied outliers: 0 \n",
      "\n",
      "Classe: 0 - variavel: CAT_WEEKDAY_APPR_PROCESS_START\n",
      "Real Min: 0.000 Real Max: 6.000\n",
      "Limit Min: -2.437 Limit Max: 8.431\n",
      "Identfied outliers: 0 \n",
      "\n",
      "Classe: 1 - variavel: CAT_ORGANIZATION_TYPE\n",
      "Real Min: 0.000 Real Max: 57.000\n",
      "Limit Min: -17.476 Limit Max: 36.916\n",
      "Identfied outliers: 5692 \n",
      "\n",
      "Classe: 0 - variavel: CAT_ORGANIZATION_TYPE\n",
      "Real Min: 0.000 Real Max: 57.000\n",
      "Limit Min: -18.151 Limit Max: 38.874\n",
      "Identfied outliers: 219 \n",
      "\n",
      "Classe: 1 - variavel: CAT_FONDKAPREMONT_MODE\n",
      "Real Min: 0.000 Real Max: 3.000\n",
      "Limit Min: -1.818 Limit Max: 2.777\n",
      "Identfied outliers: 8235 \n",
      "\n",
      "Classe: 0 - variavel: CAT_FONDKAPREMONT_MODE\n",
      "Real Min: 0.000 Real Max: 3.000\n",
      "Limit Min: -1.825 Limit Max: 2.791\n",
      "Identfied outliers: 677 \n",
      "\n",
      "Classe: 1 - variavel: CAT_HOUSETYPE_MODE\n",
      "Real Min: 0.000 Real Max: 2.000\n",
      "Limit Min: -0.507 Limit Max: 0.560\n",
      "Identfied outliers: 2212 \n",
      "\n",
      "Classe: 0 - variavel: CAT_HOUSETYPE_MODE\n",
      "Real Min: 0.000 Real Max: 2.000\n",
      "Limit Min: -0.557 Limit Max: 0.621\n",
      "Identfied outliers: 216 \n",
      "\n",
      "Classe: 1 - variavel: CAT_WALLSMATERIAL_MODE\n",
      "Real Min: 0.000 Real Max: 6.000\n",
      "Limit Min: -1.897 Limit Max: 4.328\n",
      "Identfied outliers: 2523 \n",
      "\n",
      "Classe: 0 - variavel: CAT_WALLSMATERIAL_MODE\n",
      "Real Min: 0.000 Real Max: 6.000\n",
      "Limit Min: -1.925 Limit Max: 4.339\n",
      "Identfied outliers: 201 \n",
      "\n",
      "Classe: 1 - variavel: CAT_EMERGENCYSTATE_MODE\n",
      "Real Min: 0.000 Real Max: 1.000\n",
      "Limit Min: -0.256 Limit Max: 0.279\n",
      "Identfied outliers: 1502 \n",
      "\n",
      "Classe: 0 - variavel: CAT_EMERGENCYSTATE_MODE\n",
      "Real Min: 0.000 Real Max: 1.000\n",
      "Limit Min: -0.291 Limit Max: 0.321\n",
      "Identfied outliers: 161 \n",
      "\n"
     ]
    }
   ],
   "source": [
    "for variavel in name_columns:\n",
    "    df_defaut = []\n",
    "    for value, target in enumerate(des_target):\n",
    "        dados = df[df[\"TARGET\"]==value]\n",
    "        print(f\"Classe: {des_target[value]} - variavel: {variavel}\")\n",
    "\n",
    "        data_mean, data_std = dados[variavel].mean(), dados[variavel].std()\n",
    "        data_min, data_max = dados[variavel].min(), dados[variavel].max()\n",
    "        print(\"Real Min: %.3f Real Max: %.3f\" %  (data_min, data_max))\n",
    "\n",
    "        cut_off = data_std * 2.5\n",
    "        lower, upper = data_mean - cut_off, data_mean + cut_off\n",
    "        print(\"Limit Min: %.3f Limit Max: %.3f\" %  (lower, upper))\n",
    "\n",
    "\n",
    "        dataset = dados[dados[variavel] >= lower]\n",
    "        if len(dataset) == 0:\n",
    "            dataset = dados[dados[variavel] <= upper]\n",
    "        else:\n",
    "            dataset = dataset[dataset[variavel] <= upper]\n",
    "\n",
    "\n",
    "        df_defaut.append(dataset)\n",
    "\n",
    "        outliers = pd.concat([dados[dados[variavel] < lower], dados[dados[variavel] > upper]])\n",
    "        print(\"Identfied outliers: %d \\n\" % len(outliers))\n",
    "\n",
    "    df = pd.concat(df_defaut)"
   ]
  },
  {
   "cell_type": "code",
   "execution_count": 25,
   "metadata": {},
   "outputs": [],
   "source": [
    "import collections"
   ]
  },
  {
   "cell_type": "code",
   "execution_count": 26,
   "metadata": {},
   "outputs": [
    {
     "output_type": "stream",
     "name": "stdout",
     "text": [
      "Counter({0: 128498, 1: 10410})\n"
     ]
    }
   ],
   "source": [
    "print(collections.Counter(df.TARGET))"
   ]
  },
  {
   "source": [
    "## Balancear as categorias (SMOTE)"
   ],
   "cell_type": "markdown",
   "metadata": {}
  },
  {
   "cell_type": "code",
   "execution_count": 27,
   "metadata": {},
   "outputs": [],
   "source": [
    "name = df.select_dtypes(include=\"object\").columns"
   ]
  },
  {
   "cell_type": "code",
   "execution_count": 28,
   "metadata": {},
   "outputs": [
    {
     "output_type": "execute_result",
     "data": {
      "text/plain": [
       "Index(['NAME_CONTRACT_TYPE', 'CODE_GENDER', 'FLAG_OWN_CAR', 'FLAG_OWN_REALTY',\n",
       "       'NAME_TYPE_SUITE', 'NAME_INCOME_TYPE', 'NAME_EDUCATION_TYPE',\n",
       "       'NAME_FAMILY_STATUS', 'NAME_HOUSING_TYPE', 'OCCUPATION_TYPE',\n",
       "       'WEEKDAY_APPR_PROCESS_START', 'ORGANIZATION_TYPE', 'FONDKAPREMONT_MODE',\n",
       "       'HOUSETYPE_MODE', 'WALLSMATERIAL_MODE', 'EMERGENCYSTATE_MODE'],\n",
       "      dtype='object')"
      ]
     },
     "metadata": {},
     "execution_count": 28
    }
   ],
   "source": [
    "name"
   ]
  },
  {
   "cell_type": "code",
   "execution_count": 29,
   "metadata": {},
   "outputs": [],
   "source": [
    "df = df.drop(name, axis=1)\n"
   ]
  },
  {
   "cell_type": "code",
   "execution_count": 30,
   "metadata": {},
   "outputs": [],
   "source": [
    "y = df[\"TARGET\"].to_numpy()\n",
    "X = df\n",
    "X = X.drop(\"TARGET\", axis=1)\n",
    "X = X.to_numpy()"
   ]
  },
  {
   "cell_type": "code",
   "execution_count": 31,
   "metadata": {},
   "outputs": [],
   "source": [
    "from imblearn.over_sampling import SMOTE"
   ]
  },
  {
   "cell_type": "code",
   "execution_count": 32,
   "metadata": {},
   "outputs": [
    {
     "output_type": "stream",
     "name": "stdout",
     "text": [
      "Counter({0: 128498, 1: 128498})\n"
     ]
    }
   ],
   "source": [
    "overSampling = SMOTE()\n",
    "X, y = overSampling.fit_resample(X, y)\n",
    "print(collections.Counter(y))"
   ]
  },
  {
   "cell_type": "code",
   "execution_count": 33,
   "metadata": {},
   "outputs": [],
   "source": [
    "name_coll = df.columns[1:]\n",
    "df_smote = pd.DataFrame(X, columns=name_coll)"
   ]
  },
  {
   "cell_type": "code",
   "execution_count": 34,
   "metadata": {},
   "outputs": [
    {
     "output_type": "execute_result",
     "data": {
      "text/plain": [
       "   CNT_CHILDREN  AMT_INCOME_TOTAL  AMT_CREDIT  AMT_ANNUITY  AMT_GOODS_PRICE  \\\n",
       "0           0.0          270000.0   1293502.5      35698.5        1129500.0   \n",
       "1           0.0           67500.0    135000.0       6750.0         135000.0   \n",
       "2           0.0          135000.0    312682.5      29686.5         297000.0   \n",
       "3           0.0           99000.0    490495.5      27517.5         454500.0   \n",
       "4           0.0          360000.0   1530000.0      42075.0        1530000.0   \n",
       "\n",
       "   REGION_POPULATION_RELATIVE  DAYS_BIRTH  DAYS_EMPLOYED  DAYS_REGISTRATION  \\\n",
       "0                    0.003541    -16765.0        -1188.0            -1186.0   \n",
       "1                    0.010032    -19046.0         -225.0            -4260.0   \n",
       "2                    0.008019    -19005.0        -3039.0            -9833.0   \n",
       "3                    0.035792    -16941.0        -1588.0            -4970.0   \n",
       "4                    0.003122    -18850.0         -449.0            -4597.0   \n",
       "\n",
       "   DAYS_ID_PUBLISH  ...  CAT_NAME_EDUCATION_TYPE  CAT_NAME_FAMILY_STATUS  \\\n",
       "0           -291.0  ...                      1.0                     1.0   \n",
       "1          -2531.0  ...                      0.0                     0.0   \n",
       "2          -2437.0  ...                      0.0                     2.0   \n",
       "3           -477.0  ...                      0.0                     1.0   \n",
       "4          -2379.0  ...                      1.0                     1.0   \n",
       "\n",
       "   CAT_NAME_HOUSING_TYPE  CAT_OCCUPATION_TYPE  CAT_WEEKDAY_APPR_PROCESS_START  \\\n",
       "0                    0.0                  1.0                             1.0   \n",
       "1                    0.0                  0.0                             1.0   \n",
       "2                    0.0                  0.0                             0.0   \n",
       "3                    0.0                  0.0                             0.0   \n",
       "4                    0.0                  3.0                             1.0   \n",
       "\n",
       "   CAT_ORGANIZATION_TYPE  CAT_FONDKAPREMONT_MODE  CAT_HOUSETYPE_MODE  \\\n",
       "0                    1.0                     0.0                 0.0   \n",
       "1                    2.0                     0.0                 0.0   \n",
       "2                    0.0                     0.0                 0.0   \n",
       "3                    4.0                     0.0                 0.0   \n",
       "4                    4.0                     0.0                 0.0   \n",
       "\n",
       "   CAT_WALLSMATERIAL_MODE  CAT_EMERGENCYSTATE_MODE  \n",
       "0                     1.0                      0.0  \n",
       "1                     2.0                      0.0  \n",
       "2                     2.0                      0.0  \n",
       "3                     2.0                      0.0  \n",
       "4                     2.0                      0.0  \n",
       "\n",
       "[5 rows x 119 columns]"
      ],
      "text/html": "<div>\n<style scoped>\n    .dataframe tbody tr th:only-of-type {\n        vertical-align: middle;\n    }\n\n    .dataframe tbody tr th {\n        vertical-align: top;\n    }\n\n    .dataframe thead th {\n        text-align: right;\n    }\n</style>\n<table border=\"1\" class=\"dataframe\">\n  <thead>\n    <tr style=\"text-align: right;\">\n      <th></th>\n      <th>CNT_CHILDREN</th>\n      <th>AMT_INCOME_TOTAL</th>\n      <th>AMT_CREDIT</th>\n      <th>AMT_ANNUITY</th>\n      <th>AMT_GOODS_PRICE</th>\n      <th>REGION_POPULATION_RELATIVE</th>\n      <th>DAYS_BIRTH</th>\n      <th>DAYS_EMPLOYED</th>\n      <th>DAYS_REGISTRATION</th>\n      <th>DAYS_ID_PUBLISH</th>\n      <th>...</th>\n      <th>CAT_NAME_EDUCATION_TYPE</th>\n      <th>CAT_NAME_FAMILY_STATUS</th>\n      <th>CAT_NAME_HOUSING_TYPE</th>\n      <th>CAT_OCCUPATION_TYPE</th>\n      <th>CAT_WEEKDAY_APPR_PROCESS_START</th>\n      <th>CAT_ORGANIZATION_TYPE</th>\n      <th>CAT_FONDKAPREMONT_MODE</th>\n      <th>CAT_HOUSETYPE_MODE</th>\n      <th>CAT_WALLSMATERIAL_MODE</th>\n      <th>CAT_EMERGENCYSTATE_MODE</th>\n    </tr>\n  </thead>\n  <tbody>\n    <tr>\n      <th>0</th>\n      <td>0.0</td>\n      <td>270000.0</td>\n      <td>1293502.5</td>\n      <td>35698.5</td>\n      <td>1129500.0</td>\n      <td>0.003541</td>\n      <td>-16765.0</td>\n      <td>-1188.0</td>\n      <td>-1186.0</td>\n      <td>-291.0</td>\n      <td>...</td>\n      <td>1.0</td>\n      <td>1.0</td>\n      <td>0.0</td>\n      <td>1.0</td>\n      <td>1.0</td>\n      <td>1.0</td>\n      <td>0.0</td>\n      <td>0.0</td>\n      <td>1.0</td>\n      <td>0.0</td>\n    </tr>\n    <tr>\n      <th>1</th>\n      <td>0.0</td>\n      <td>67500.0</td>\n      <td>135000.0</td>\n      <td>6750.0</td>\n      <td>135000.0</td>\n      <td>0.010032</td>\n      <td>-19046.0</td>\n      <td>-225.0</td>\n      <td>-4260.0</td>\n      <td>-2531.0</td>\n      <td>...</td>\n      <td>0.0</td>\n      <td>0.0</td>\n      <td>0.0</td>\n      <td>0.0</td>\n      <td>1.0</td>\n      <td>2.0</td>\n      <td>0.0</td>\n      <td>0.0</td>\n      <td>2.0</td>\n      <td>0.0</td>\n    </tr>\n    <tr>\n      <th>2</th>\n      <td>0.0</td>\n      <td>135000.0</td>\n      <td>312682.5</td>\n      <td>29686.5</td>\n      <td>297000.0</td>\n      <td>0.008019</td>\n      <td>-19005.0</td>\n      <td>-3039.0</td>\n      <td>-9833.0</td>\n      <td>-2437.0</td>\n      <td>...</td>\n      <td>0.0</td>\n      <td>2.0</td>\n      <td>0.0</td>\n      <td>0.0</td>\n      <td>0.0</td>\n      <td>0.0</td>\n      <td>0.0</td>\n      <td>0.0</td>\n      <td>2.0</td>\n      <td>0.0</td>\n    </tr>\n    <tr>\n      <th>3</th>\n      <td>0.0</td>\n      <td>99000.0</td>\n      <td>490495.5</td>\n      <td>27517.5</td>\n      <td>454500.0</td>\n      <td>0.035792</td>\n      <td>-16941.0</td>\n      <td>-1588.0</td>\n      <td>-4970.0</td>\n      <td>-477.0</td>\n      <td>...</td>\n      <td>0.0</td>\n      <td>1.0</td>\n      <td>0.0</td>\n      <td>0.0</td>\n      <td>0.0</td>\n      <td>4.0</td>\n      <td>0.0</td>\n      <td>0.0</td>\n      <td>2.0</td>\n      <td>0.0</td>\n    </tr>\n    <tr>\n      <th>4</th>\n      <td>0.0</td>\n      <td>360000.0</td>\n      <td>1530000.0</td>\n      <td>42075.0</td>\n      <td>1530000.0</td>\n      <td>0.003122</td>\n      <td>-18850.0</td>\n      <td>-449.0</td>\n      <td>-4597.0</td>\n      <td>-2379.0</td>\n      <td>...</td>\n      <td>1.0</td>\n      <td>1.0</td>\n      <td>0.0</td>\n      <td>3.0</td>\n      <td>1.0</td>\n      <td>4.0</td>\n      <td>0.0</td>\n      <td>0.0</td>\n      <td>2.0</td>\n      <td>0.0</td>\n    </tr>\n  </tbody>\n</table>\n<p>5 rows × 119 columns</p>\n</div>"
     },
     "metadata": {},
     "execution_count": 34
    }
   ],
   "source": [
    "df_smote.head()"
   ]
  },
  {
   "source": [
    "## Normalizar as variaveis (StandardScaler)"
   ],
   "cell_type": "markdown",
   "metadata": {}
  },
  {
   "cell_type": "code",
   "execution_count": 35,
   "metadata": {},
   "outputs": [],
   "source": [
    "from sklearn import preprocessing"
   ]
  },
  {
   "cell_type": "code",
   "execution_count": 36,
   "metadata": {},
   "outputs": [],
   "source": [
    "scaler = preprocessing.StandardScaler().fit(X)"
   ]
  },
  {
   "cell_type": "code",
   "execution_count": 37,
   "metadata": {},
   "outputs": [
    {
     "output_type": "execute_result",
     "data": {
      "text/plain": [
       "StandardScaler()"
      ]
     },
     "metadata": {},
     "execution_count": 37
    }
   ],
   "source": [
    "scaler"
   ]
  },
  {
   "cell_type": "code",
   "execution_count": 38,
   "metadata": {},
   "outputs": [],
   "source": [
    "X_scaled = scaler.transform(X)"
   ]
  },
  {
   "cell_type": "code",
   "execution_count": 39,
   "metadata": {},
   "outputs": [],
   "source": [
    "df_scaled = pd.DataFrame(X_scaled, columns=name_coll)"
   ]
  },
  {
   "cell_type": "code",
   "execution_count": 40,
   "metadata": {},
   "outputs": [
    {
     "output_type": "execute_result",
     "data": {
      "text/plain": [
       "   CNT_CHILDREN  AMT_INCOME_TOTAL  AMT_CREDIT  AMT_ANNUITY  AMT_GOODS_PRICE  \\\n",
       "0     -0.704294          0.184772    1.962128     0.725969         1.854250   \n",
       "1     -0.704294         -0.160913   -1.194052    -1.532024        -1.120866   \n",
       "2     -0.704294         -0.045685   -0.709980     0.257031        -0.636232   \n",
       "3     -0.704294         -0.107140   -0.225553     0.087848        -0.165059   \n",
       "4     -0.704294          0.338409    2.606433     1.223338         3.052373   \n",
       "\n",
       "   REGION_POPULATION_RELATIVE  DAYS_BIRTH  DAYS_EMPLOYED  DAYS_REGISTRATION  \\\n",
       "0                   -1.461230   -0.411003      -0.275818           1.101107   \n",
       "1                   -0.872003   -1.012552      -0.265926           0.132439   \n",
       "2                   -1.054735   -1.001739      -0.294832          -1.623706   \n",
       "3                    1.466387   -0.457418      -0.279927          -0.091294   \n",
       "4                   -1.499265   -0.960862      -0.268227           0.026244   \n",
       "\n",
       "   DAYS_ID_PUBLISH  ...  CAT_NAME_EDUCATION_TYPE  CAT_NAME_FAMILY_STATUS  \\\n",
       "0         1.793880  ...                 2.162423               -0.051862   \n",
       "1         0.210560  ...                -0.526805               -1.692441   \n",
       "2         0.277003  ...                -0.526805                1.588717   \n",
       "3         1.662408  ...                -0.526805               -0.051862   \n",
       "4         0.317999  ...                 2.162423               -0.051862   \n",
       "\n",
       "   CAT_NAME_HOUSING_TYPE  CAT_OCCUPATION_TYPE  CAT_WEEKDAY_APPR_PROCESS_START  \\\n",
       "0              -0.296786            -0.797035                       -0.993326   \n",
       "1              -0.296786            -1.104555                       -0.993326   \n",
       "2              -0.296786            -1.104555                       -1.494690   \n",
       "3              -0.296786            -1.104555                       -1.494690   \n",
       "4              -0.296786            -0.181994                       -0.993326   \n",
       "\n",
       "   CAT_ORGANIZATION_TYPE  CAT_FONDKAPREMONT_MODE  CAT_HOUSETYPE_MODE  \\\n",
       "0              -0.917806               -0.508356                 0.0   \n",
       "1              -0.803679               -0.508356                 0.0   \n",
       "2              -1.031933               -0.508356                 0.0   \n",
       "3              -0.575425               -0.508356                 0.0   \n",
       "4              -0.575425               -0.508356                 0.0   \n",
       "\n",
       "   CAT_WALLSMATERIAL_MODE  CAT_EMERGENCYSTATE_MODE  \n",
       "0               -0.114057                      0.0  \n",
       "1                0.885974                      0.0  \n",
       "2                0.885974                      0.0  \n",
       "3                0.885974                      0.0  \n",
       "4                0.885974                      0.0  \n",
       "\n",
       "[5 rows x 119 columns]"
      ],
      "text/html": "<div>\n<style scoped>\n    .dataframe tbody tr th:only-of-type {\n        vertical-align: middle;\n    }\n\n    .dataframe tbody tr th {\n        vertical-align: top;\n    }\n\n    .dataframe thead th {\n        text-align: right;\n    }\n</style>\n<table border=\"1\" class=\"dataframe\">\n  <thead>\n    <tr style=\"text-align: right;\">\n      <th></th>\n      <th>CNT_CHILDREN</th>\n      <th>AMT_INCOME_TOTAL</th>\n      <th>AMT_CREDIT</th>\n      <th>AMT_ANNUITY</th>\n      <th>AMT_GOODS_PRICE</th>\n      <th>REGION_POPULATION_RELATIVE</th>\n      <th>DAYS_BIRTH</th>\n      <th>DAYS_EMPLOYED</th>\n      <th>DAYS_REGISTRATION</th>\n      <th>DAYS_ID_PUBLISH</th>\n      <th>...</th>\n      <th>CAT_NAME_EDUCATION_TYPE</th>\n      <th>CAT_NAME_FAMILY_STATUS</th>\n      <th>CAT_NAME_HOUSING_TYPE</th>\n      <th>CAT_OCCUPATION_TYPE</th>\n      <th>CAT_WEEKDAY_APPR_PROCESS_START</th>\n      <th>CAT_ORGANIZATION_TYPE</th>\n      <th>CAT_FONDKAPREMONT_MODE</th>\n      <th>CAT_HOUSETYPE_MODE</th>\n      <th>CAT_WALLSMATERIAL_MODE</th>\n      <th>CAT_EMERGENCYSTATE_MODE</th>\n    </tr>\n  </thead>\n  <tbody>\n    <tr>\n      <th>0</th>\n      <td>-0.704294</td>\n      <td>0.184772</td>\n      <td>1.962128</td>\n      <td>0.725969</td>\n      <td>1.854250</td>\n      <td>-1.461230</td>\n      <td>-0.411003</td>\n      <td>-0.275818</td>\n      <td>1.101107</td>\n      <td>1.793880</td>\n      <td>...</td>\n      <td>2.162423</td>\n      <td>-0.051862</td>\n      <td>-0.296786</td>\n      <td>-0.797035</td>\n      <td>-0.993326</td>\n      <td>-0.917806</td>\n      <td>-0.508356</td>\n      <td>0.0</td>\n      <td>-0.114057</td>\n      <td>0.0</td>\n    </tr>\n    <tr>\n      <th>1</th>\n      <td>-0.704294</td>\n      <td>-0.160913</td>\n      <td>-1.194052</td>\n      <td>-1.532024</td>\n      <td>-1.120866</td>\n      <td>-0.872003</td>\n      <td>-1.012552</td>\n      <td>-0.265926</td>\n      <td>0.132439</td>\n      <td>0.210560</td>\n      <td>...</td>\n      <td>-0.526805</td>\n      <td>-1.692441</td>\n      <td>-0.296786</td>\n      <td>-1.104555</td>\n      <td>-0.993326</td>\n      <td>-0.803679</td>\n      <td>-0.508356</td>\n      <td>0.0</td>\n      <td>0.885974</td>\n      <td>0.0</td>\n    </tr>\n    <tr>\n      <th>2</th>\n      <td>-0.704294</td>\n      <td>-0.045685</td>\n      <td>-0.709980</td>\n      <td>0.257031</td>\n      <td>-0.636232</td>\n      <td>-1.054735</td>\n      <td>-1.001739</td>\n      <td>-0.294832</td>\n      <td>-1.623706</td>\n      <td>0.277003</td>\n      <td>...</td>\n      <td>-0.526805</td>\n      <td>1.588717</td>\n      <td>-0.296786</td>\n      <td>-1.104555</td>\n      <td>-1.494690</td>\n      <td>-1.031933</td>\n      <td>-0.508356</td>\n      <td>0.0</td>\n      <td>0.885974</td>\n      <td>0.0</td>\n    </tr>\n    <tr>\n      <th>3</th>\n      <td>-0.704294</td>\n      <td>-0.107140</td>\n      <td>-0.225553</td>\n      <td>0.087848</td>\n      <td>-0.165059</td>\n      <td>1.466387</td>\n      <td>-0.457418</td>\n      <td>-0.279927</td>\n      <td>-0.091294</td>\n      <td>1.662408</td>\n      <td>...</td>\n      <td>-0.526805</td>\n      <td>-0.051862</td>\n      <td>-0.296786</td>\n      <td>-1.104555</td>\n      <td>-1.494690</td>\n      <td>-0.575425</td>\n      <td>-0.508356</td>\n      <td>0.0</td>\n      <td>0.885974</td>\n      <td>0.0</td>\n    </tr>\n    <tr>\n      <th>4</th>\n      <td>-0.704294</td>\n      <td>0.338409</td>\n      <td>2.606433</td>\n      <td>1.223338</td>\n      <td>3.052373</td>\n      <td>-1.499265</td>\n      <td>-0.960862</td>\n      <td>-0.268227</td>\n      <td>0.026244</td>\n      <td>0.317999</td>\n      <td>...</td>\n      <td>2.162423</td>\n      <td>-0.051862</td>\n      <td>-0.296786</td>\n      <td>-0.181994</td>\n      <td>-0.993326</td>\n      <td>-0.575425</td>\n      <td>-0.508356</td>\n      <td>0.0</td>\n      <td>0.885974</td>\n      <td>0.0</td>\n    </tr>\n  </tbody>\n</table>\n<p>5 rows × 119 columns</p>\n</div>"
     },
     "metadata": {},
     "execution_count": 40
    }
   ],
   "source": [
    "df_scaled.head()"
   ]
  },
  {
   "source": [
    "## Identificar as melhores relações de variaveis para a variavel taget (random forest)"
   ],
   "cell_type": "markdown",
   "metadata": {}
  },
  {
   "cell_type": "code",
   "execution_count": 41,
   "metadata": {},
   "outputs": [],
   "source": [
    "import matplotlib.pyplot as plt\n",
    "import numpy as np\n",
    "\n",
    "from sklearn.datasets import fetch_openml\n",
    "from sklearn.ensemble import RandomForestClassifier\n",
    "from sklearn.impute import SimpleImputer # https://scikit-learn.org/stable/modules/generated/sklearn.impute.SimpleImputer.html\n",
    "from sklearn.inspection import permutation_importance\n",
    "from sklearn.compose import ColumnTransformer\n",
    "from sklearn.model_selection import train_test_split\n",
    "from sklearn.pipeline import Pipeline # https://scikit-learn.org/stable/modules/generated/sklearn.pipeline.Pipeline.html\n",
    "from sklearn.preprocessing import OneHotEncoder"
   ]
  },
  {
   "cell_type": "code",
   "execution_count": 42,
   "metadata": {},
   "outputs": [],
   "source": [
    "categorical_columns = ['CAT_CODE_GENDER', 'CAT_FLAG_OWN_CAR', 'CAT_FLAG_OWN_REALTY',\n",
    "       'CAT_NAME_TYPE_SUITE', 'CAT_NAME_INCOME_TYPE', 'CAT_NAME_EDUCATION_TYPE',\n",
    "       'CAT_NAME_FAMILY_STATUS', 'CAT_NAME_HOUSING_TYPE', 'CAT_OCCUPATION_TYPE',\n",
    "       'CAT_WEEKDAY_APPR_PROCESS_START', 'CAT_ORGANIZATION_TYPE', 'CAT_FONDKAPREMONT_MODE',\n",
    "       'CAT_HOUSETYPE_MODE', 'CAT_WALLSMATERIAL_MODE', 'CAT_EMERGENCYSTATE_MODE', 'FLAG_DOCUMENT_2',\n",
    "       'FLAG_DOCUMENT_3', 'FLAG_DOCUMENT_4', 'FLAG_DOCUMENT_5',\n",
    "       'FLAG_DOCUMENT_6', 'FLAG_DOCUMENT_7', 'FLAG_DOCUMENT_8',\n",
    "       'FLAG_DOCUMENT_9', 'FLAG_DOCUMENT_10', 'FLAG_DOCUMENT_11',\n",
    "       'FLAG_DOCUMENT_12', 'FLAG_DOCUMENT_13', 'FLAG_DOCUMENT_14',\n",
    "       'FLAG_DOCUMENT_15', 'FLAG_DOCUMENT_16', 'FLAG_DOCUMENT_17',\n",
    "       'FLAG_DOCUMENT_18', 'FLAG_DOCUMENT_19', 'FLAG_DOCUMENT_20',\n",
    "       'FLAG_DOCUMENT_21', 'FLAG_MOBIL', 'FLAG_EMP_PHONE', 'FLAG_WORK_PHONE',\n",
    "       'FLAG_CONT_MOBILE', 'FLAG_PHONE', 'FLAG_EMAIL']"
   ]
  },
  {
   "cell_type": "code",
   "execution_count": 43,
   "metadata": {},
   "outputs": [],
   "source": [
    "for col in categorical_columns:\n",
    "    df_scaled[col] = df_scaled[col].astype(\"category\")"
   ]
  },
  {
   "cell_type": "code",
   "execution_count": 44,
   "metadata": {},
   "outputs": [],
   "source": [
    "numerical_columns =['CNT_CHILDREN', 'DAYS_BIRTH', 'DAYS_EMPLOYED',\n",
    "       'DAYS_ID_PUBLISH', 'REGION_RATING_CLIENT',\n",
    "       'REGION_RATING_CLIENT_W_CITY', 'HOUR_APPR_PROCESS_START',\n",
    "       'REG_REGION_NOT_LIVE_REGION', 'REG_REGION_NOT_WORK_REGION',\n",
    "       'LIVE_REGION_NOT_WORK_REGION', 'REG_CITY_NOT_LIVE_CITY',\n",
    "       'REG_CITY_NOT_WORK_CITY', 'LIVE_CITY_NOT_WORK_CITY']"
   ]
  },
  {
   "cell_type": "code",
   "execution_count": 45,
   "metadata": {},
   "outputs": [],
   "source": [
    "for col in numerical_columns:\n",
    "    df_scaled[col] = df_scaled[col].astype(\"int64\")"
   ]
  },
  {
   "cell_type": "code",
   "execution_count": 46,
   "metadata": {},
   "outputs": [],
   "source": [
    "float_columns = df_scaled.select_dtypes(include=\"float64\").columns"
   ]
  },
  {
   "cell_type": "code",
   "execution_count": 47,
   "metadata": {},
   "outputs": [],
   "source": [
    "numerical_columns.extend(float_columns)"
   ]
  },
  {
   "cell_type": "code",
   "execution_count": 48,
   "metadata": {},
   "outputs": [],
   "source": [
    "numeric_transformer = Pipeline(steps=[\n",
    "    ('imputer', SimpleImputer(strategy='median')),\n",
    "    ('scaler', preprocessing.StandardScaler())])\n",
    "\n",
    "categorical_transformer = Pipeline(steps=[\n",
    "    ('imputer', SimpleImputer(strategy='constant')),\n",
    "    ('one_hot', OneHotEncoder())])\n",
    "\n",
    " = ColumnTransformer(\n",
    "    transformers=[\n",
    "     preprocessor   ('num', numeric_transformer, numerical_columns),\n",
    "        ('cat', categorical_transformer, categorical_columns)\n",
    "    ])"
   ]
  },
  {
   "cell_type": "code",
   "execution_count": 49,
   "metadata": {},
   "outputs": [
    {
     "output_type": "execute_result",
     "data": {
      "text/plain": [
       "0"
      ]
     },
     "metadata": {},
     "execution_count": 49
    }
   ],
   "source": [
    "df_scaled.isnull().sum().sum()"
   ]
  },
  {
   "cell_type": "code",
   "execution_count": 50,
   "metadata": {},
   "outputs": [],
   "source": [
    "pipe = Pipeline(steps=[('preprocessor', preprocessor),\n",
    "                      ('classifier',  RandomForestClassifier(random_state=5, n_estimators=10))])\n",
    "    \n",
    "model = pipe.fit(df_scaled, y)"
   ]
  },
  {
   "cell_type": "code",
   "execution_count": 51,
   "metadata": {},
   "outputs": [],
   "source": [
    "#!pip install eli5"
   ]
  },
  {
   "cell_type": "code",
   "execution_count": 52,
   "metadata": {},
   "outputs": [],
   "source": [
    "onehot_columns = list(pipe.named_steps['preprocessor'].named_transformers_['cat'].named_steps['one_hot'].get_feature_names(input_features=categorical_columns))\n",
    "numeric_features_list = list(numerical_columns)\n",
    "numeric_features_list.extend(onehot_columns)"
   ]
  },
  {
   "cell_type": "code",
   "execution_count": 53,
   "metadata": {},
   "outputs": [],
   "source": [
    "import eli5"
   ]
  },
  {
   "cell_type": "code",
   "execution_count": 57,
   "metadata": {},
   "outputs": [
    {
     "output_type": "execute_result",
     "data": {
      "text/plain": [
       "Explanation(estimator='RandomForestClassifier(n_estimators=10, random_state=5)', description='\\nRandom forest feature importances; values are numbers 0 <= x <= 1;\\nall values sum to 1.\\n', error=None, method='feature importances', is_regression=False, targets=None, feature_importances=FeatureImportances(importances=[FeatureWeight(feature='EXT_SOURCE_2', weight=0.02570054645835263, std=0.02724641906775788, value=None), FeatureWeight(feature='OBS_60_CNT_SOCIAL_CIRCLE', weight=0.01775533104237298, std=0.016688543538736948, value=None), FeatureWeight(feature='ELEVATORS_AVG', weight=0.017019333609651424, std=0.016336954982899988, value=None), FeatureWeight(feature='ELEVATORS_MODE', weight=0.016654621548090297, std=0.015097237199701083, value=None), FeatureWeight(feature='EXT_SOURCE_3', weight=0.015717171477840856, std=0.004680337895485027, value=None), FeatureWeight(feature='FLAG_EMP_PHONE_0.28665386475716725', weight=0.014965347501496357, std=0.02517420487050649, value=None), FeatureWeight(feature='CAT_FLAG_OWN_REALTY_-0.6842686503157679', weight=0.014369974591301194, std=0.014514796976765519, value=None), FeatureWeight(feature='OBS_30_CNT_SOCIAL_CIRCLE', weight=0.014267760605832527, std=0.010393028212129219, value=None), FeatureWeight(feature='NONLIVINGAPARTMENTS_AVG', weight=0.014192059769019863, std=0.016440139178599475, value=None), FeatureWeight(feature='CNT_FAM_MEMBERS', weight=0.013773609155705142, std=0.009240706645920279, value=None), FeatureWeight(feature='AMT_REQ_CREDIT_BUREAU_MON', weight=0.013355771611017597, std=0.014557695655493592, value=None), FeatureWeight(feature='DAYS_LAST_PHONE_CHANGE', weight=0.01312918518701656, std=0.007984146677548811, value=None), FeatureWeight(feature='NONLIVINGAREA_MEDI', weight=0.013112251916608473, std=0.01925733942921332, value=None), FeatureWeight(feature='FLOORSMAX_MODE', weight=0.012686668727374383, std=0.011119491367302614, value=None), FeatureWeight(feature='CAT_NAME_INCOME_TYPE_2.284949522814215', weight=0.012072401838530889, std=0.022729852643349542, value=None), FeatureWeight(feature='CAT_WEEKDAY_APPR_PROCESS_START_-0.993326334300431', weight=0.011463387266797386, std=0.012769288298496093, value=None), FeatureWeight(feature='DAYS_REGISTRATION', weight=0.010475664881293003, std=0.0030174979235855345, value=None), FeatureWeight(feature='ELEVATORS_MEDI', weight=0.010041375975290924, std=0.01072128704627014, value=None), FeatureWeight(feature='EXT_SOURCE_1', weight=0.00987172093025448, std=0.0018836682853520267, value=None), FeatureWeight(feature='AMT_REQ_CREDIT_BUREAU_QRT', weight=0.009736820396877937, std=0.009027041141099607, value=None), FeatureWeight(feature='CAT_CODE_GENDER_0.8130593112397515', weight=0.009433343571270243, std=0.006550822983073983, value=None), FeatureWeight(feature='FLAG_EMP_PHONE_-3.4885278830717215', weight=0.009393196902134618, std=0.013347411749146427, value=None), FeatureWeight(feature='AMT_REQ_CREDIT_BUREAU_YEAR', weight=0.00923388631179905, std=0.002216512874893005, value=None), FeatureWeight(feature='AMT_GOODS_PRICE', weight=0.008866569011806736, std=0.0013492445543118803, value=None), FeatureWeight(feature='REGION_POPULATION_RELATIVE', weight=0.008727330061675963, std=0.0013610984827038166, value=None), FeatureWeight(feature='CAT_WALLSMATERIAL_MODE_-1.1140881900367865', weight=0.008619901200976495, std=0.0067344782721087595, value=None), FeatureWeight(feature='NONLIVINGAPARTMENTS_MODE', weight=0.008416861123491758, std=0.005974579294718849, value=None), FeatureWeight(feature='AMT_ANNUITY', weight=0.00839214131739777, std=0.0007100538646977389, value=None), FeatureWeight(feature='FLAG_WORK_PHONE_-0.5978740431787494', weight=0.00838128835459501, std=0.006622265389411678, value=None), FeatureWeight(feature='FLOORSMAX_MEDI', weight=0.008314118132424823, std=0.002665506641699199, value=None), FeatureWeight(feature='AMT_CREDIT', weight=0.008239838754097084, std=0.0006328222408574252, value=None), FeatureWeight(feature='DAYS_BIRTH', weight=0.0082122412678509, std=0.0068083864041234236, value=None), FeatureWeight(feature='CAT_WEEKDAY_APPR_PROCESS_START_-0.4919623442045529', weight=0.008204919667816196, std=0.010989943639891676, value=None), FeatureWeight(feature='CAT_FLAG_OWN_REALTY_1.7296587561263954', weight=0.008082290481734622, std=0.004028027581840675, value=None), FeatureWeight(feature='LIVINGAREA_AVG', weight=0.007923237882341897, std=0.005727596442721513, value=None), FeatureWeight(feature='APARTMENTS_MODE', weight=0.007750771101217759, std=0.00790459191983109, value=None), FeatureWeight(feature='OWN_CAR_AGE', weight=0.007740953409327059, std=0.002092161320199392, value=None), FeatureWeight(feature='CAT_NAME_EDUCATION_TYPE_2.162422800731557', weight=0.0077138739946263956, std=0.0077197531559332665, value=None), FeatureWeight(feature='CAT_FLAG_OWN_CAR_1.588367902760297', weight=0.00754418123834831, std=0.004498841498974631, value=None), FeatureWeight(feature='CAT_OCCUPATION_TYPE_-0.7970345632624752', weight=0.0074773347372485924, std=0.0060909736128737365, value=None), FeatureWeight(feature='AMT_INCOME_TOTAL', weight=0.007472522732822537, std=0.0006693390803587503, value=None), FeatureWeight(feature='NONLIVINGAREA_AVG', weight=0.007041329045507501, std=0.0073021245264686535, value=None), FeatureWeight(feature='AMT_REQ_CREDIT_BUREAU_HOUR', weight=0.006774213704137375, std=0.005616784007142108, value=None), FeatureWeight(feature='ENTRANCES_MEDI', weight=0.006716680021414833, std=0.00693572115817353, value=None), FeatureWeight(feature='CAT_WEEKDAY_APPR_PROCESS_START_1.0121296260830812', weight=0.006652649811280541, std=0.0043497933539039454, value=None), FeatureWeight(feature='CAT_FONDKAPREMONT_MODE_2.610361097861503', weight=0.006481540310963396, std=0.00346415080764028, value=None), FeatureWeight(feature='DAYS_ID_PUBLISH', weight=0.006477943224814384, std=0.005211374205456434, value=None), FeatureWeight(feature='CAT_NAME_TYPE_SUITE_1.6797974303559295', weight=0.006306749784161705, std=0.003625043844056495, value=None), FeatureWeight(feature='CAT_NAME_FAMILY_STATUS_-0.051861972910617116', weight=0.006296367094249674, std=0.0021841804829378793, value=None), FeatureWeight(feature='FLOORSMAX_AVG', weight=0.0061770151646059574, std=0.002161889943205184, value=None), FeatureWeight(feature='CAT_FONDKAPREMONT_MODE_1.0510023138663547', weight=0.0061555527742492835, std=0.0077507434774845285, value=None), FeatureWeight(feature='CAT_ORGANIZATION_TYPE_-0.00479052579779564', weight=0.006103088125556199, std=0.00477348989815014, value=None), FeatureWeight(feature='LIVINGAREA_MODE', weight=0.006097469284977616, std=0.005174596911923034, value=None), FeatureWeight(feature='FLAG_PHONE_1.818852248142987', weight=0.006095189441612332, std=0.002259239503143479, value=None), FeatureWeight(feature='HOUR_APPR_PROCESS_START', weight=0.006053238675058564, std=0.0033502108748179344, value=None), FeatureWeight(feature='NONLIVINGAREA_MODE', weight=0.006035515854429806, std=0.002784420836194836, value=None), FeatureWeight(feature='LANDAREA_AVG', weight=0.006024013428667397, std=0.005579408643344566, value=None), FeatureWeight(feature='AMT_REQ_CREDIT_BUREAU_WEEK', weight=0.005979772856167887, std=0.0033772068677342523, value=None), FeatureWeight(feature='CAT_WEEKDAY_APPR_PROCESS_START_-1.494690324396309', weight=0.005961939139416132, std=0.001851146171025938, value=None), FeatureWeight(feature='COMMONAREA_MEDI', weight=0.005688437309845441, std=0.007301727617123327, value=None), FeatureWeight(feature='FLOORSMIN_MEDI', weight=0.005641694791589944, std=0.003599752760931059, value=None), FeatureWeight(feature='CAT_OCCUPATION_TYPE_0.4330464972707972', weight=0.0055260018888548205, std=0.00371776193948651, value=None), FeatureWeight(feature='REGION_RATING_CLIENT', weight=0.005521788982236127, std=0.004629752637745228, value=None), FeatureWeight(feature='LANDAREA_MODE', weight=0.005453376371998736, std=0.005693198889902606, value=None), FeatureWeight(feature='CAT_WALLSMATERIAL_MODE_0.8859744436219235', weight=0.005440961287939761, std=0.0009407945874109615, value=None), FeatureWeight(feature='YEARS_BEGINEXPLUATATION_MODE', weight=0.005425595837802571, std=0.0024369591940507506, value=None), FeatureWeight(feature='FLOORSMIN_AVG', weight=0.005414077481021886, std=0.0042459712147915035, value=None), FeatureWeight(feature='ENTRANCES_AVG', weight=0.00539481230900133, std=0.0012346739535913846, value=None), FeatureWeight(feature='APARTMENTS_AVG', weight=0.0053192769315956534, std=0.002808783425525368, value=None), FeatureWeight(feature='CAT_WEEKDAY_APPR_PROCESS_START_1.5134936161789594', weight=0.005312797701131785, std=0.004782838538824903, value=None), FeatureWeight(feature='YEARS_BEGINEXPLUATATION_AVG', weight=0.005302163923965835, std=0.001983063944110013, value=None), FeatureWeight(feature='TOTALAREA_MODE', weight=0.005285131283938683, std=0.0016741066397656865, value=None), FeatureWeight(feature='APARTMENTS_MEDI', weight=0.005262995498556773, std=0.0029602683133427127, value=None), FeatureWeight(feature='CAT_NAME_INCOME_TYPE_1.2771422287784178', weight=0.0052490821459908075, std=0.0022072147292071663, value=None), FeatureWeight(feature='FLAG_PHONE_-0.6414184372309725', weight=0.005211535091298071, std=0.004648651164985264, value=None), FeatureWeight(feature='YEARS_BUILD_MEDI', weight=0.005141180851818838, std=0.004648537417280997, value=None), FeatureWeight(feature='LIVINGAPARTMENTS_MEDI', weight=0.005010149364128553, std=0.003025964561216141, value=None), FeatureWeight(feature='ENTRANCES_MODE', weight=0.004963119328689745, std=0.002032320423266979, value=None), FeatureWeight(feature='YEARS_BEGINEXPLUATATION_MEDI', weight=0.0049325755901734845, std=0.0018281977729509744, value=None), FeatureWeight(feature='CAT_NAME_FAMILY_STATUS_1.58871663941019', weight=0.0049140180692451504, std=0.006336423794295016, value=None), FeatureWeight(feature='NONLIVINGAPARTMENTS_MEDI', weight=0.0048658638828862795, std=0.0026945309146064705, value=None), FeatureWeight(feature='LANDAREA_MEDI', weight=0.004838348462667092, std=0.0019188448945700886, value=None), FeatureWeight(feature='AMT_REQ_CREDIT_BUREAU_DAY', weight=0.004798413845892268, std=0.0022681405907922125, value=None), FeatureWeight(feature='LIVINGAREA_MEDI', weight=0.004785289991223673, std=0.0012074373705673524, value=None), FeatureWeight(feature='COMMONAREA_AVG', weight=0.004681693447596747, std=0.005563343000536132, value=None), FeatureWeight(feature='CAT_ORGANIZATION_TYPE_-0.4612984157257356', weight=0.004670829618779625, std=0.007491644525972183, value=None), FeatureWeight(feature='CAT_ORGANIZATION_TYPE_-1.0319332781356605', weight=0.004669003725025763, std=0.002005731889803098, value=None), FeatureWeight(feature='CAT_NAME_HOUSING_TYPE_-0.2967857907740828', weight=0.004651410622879442, std=0.007450531675159411, value=None), FeatureWeight(feature='BASEMENTAREA_MODE', weight=0.004571812577604498, std=0.0015391807440421049, value=None), FeatureWeight(feature='REGION_RATING_CLIENT_W_CITY', weight=0.004522626974679076, std=0.0012974315159456386, value=None), FeatureWeight(feature='CAT_NAME_INCOME_TYPE_0.26933493474262066', weight=0.004310800066151, std=0.0035397807780388063, value=None), FeatureWeight(feature='CAT_OCCUPATION_TYPE_-1.1045548283957933', weight=0.004292614981921273, std=0.0012691374142027412, value=None), FeatureWeight(feature='DEF_60_CNT_SOCIAL_CIRCLE', weight=0.0042537181895471845, std=0.0022221504212943835, value=None), FeatureWeight(feature='CAT_WEEKDAY_APPR_PROCESS_START_0.5107656359872033', weight=0.004234371000574736, std=0.002327137760059373, value=None), FeatureWeight(feature='BASEMENTAREA_MEDI', weight=0.004180856091075957, std=0.0009616177846337249, value=None), FeatureWeight(feature='COMMONAREA_MODE', weight=0.004109562903361477, std=0.0019344420904322613, value=None), FeatureWeight(feature='DAYS_EMPLOYED', weight=0.004105695447779755, std=0.006570382875808082, value=None), FeatureWeight(feature='LIVE_CITY_NOT_WORK_CITY', weight=0.004080002315131125, std=0.002639591693475196, value=None), FeatureWeight(feature='CAT_CODE_GENDER_-1.4508361752781018', weight=0.004031496141795899, std=0.001542095742712549, value=None), FeatureWeight(feature='CAT_FLAG_OWN_CAR_-0.7382441030580528', weight=0.003994705475477962, std=0.0011798413514593673, value=None), FeatureWeight(feature='FLAG_WORK_PHONE_1.973402968559473', weight=0.003911446786847884, std=0.0028394765342940336, value=None), FeatureWeight(feature='CAT_ORGANIZATION_TYPE_-0.8036793331716906', weight=0.003793575747239407, std=0.0037217422604728725, value=None), FeatureWeight(feature='CAT_OCCUPATION_TYPE_-0.18199403299583902', weight=0.0037786299340813465, std=0.001817401656494187, value=None), FeatureWeight(feature='DEF_30_CNT_SOCIAL_CIRCLE', weight=0.003718317183242545, std=0.0009421127750476713, value=None), FeatureWeight(feature='CAT_WALLSMATERIAL_MODE_-0.11405687320743157', weight=0.003612637308436151, std=0.004655542791422206, value=None), FeatureWeight(feature='LIVINGAPARTMENTS_MODE', weight=0.0036056486860641746, std=0.001901464429035745, value=None), FeatureWeight(feature='CAT_FONDKAPREMONT_MODE_-0.5083564701287931', weight=0.003590641683730419, std=0.0013611923207075029, value=None), FeatureWeight(feature='REG_CITY_NOT_WORK_CITY', weight=0.003391835640961669, std=0.0009371407059179662, value=None), FeatureWeight(feature='YEARS_BUILD_AVG', weight=0.0033433455568950975, std=0.0012021745140328199, value=None), FeatureWeight(feature='LIVINGAPARTMENTS_AVG', weight=0.0033098031961646132, std=0.0007921071552185002, value=None), FeatureWeight(feature='CAT_NAME_INCOME_TYPE_-0.7384723592931765', weight=0.0032433830815207653, std=0.0015038010140856933, value=None), FeatureWeight(feature='BASEMENTAREA_AVG', weight=0.003183892486193996, std=0.00035158145888686216, value=None), FeatureWeight(feature='FLAG_DOCUMENT_3_-3.075996768448462', weight=0.0031737480317142403, std=0.003777623934010076, value=None), FeatureWeight(feature='FLOORSMIN_MODE', weight=0.0031597106527413406, std=0.0007077354555124883, value=None), FeatureWeight(feature='YEARS_BUILD_MODE', weight=0.003098961439961814, std=0.0008814201244234385, value=None), FeatureWeight(feature='CAT_NAME_TYPE_SUITE_-0.4753340279730917', weight=0.0030699885111233984, std=0.0005203014224761817, value=None), FeatureWeight(feature='CAT_NAME_FAMILY_STATUS_-1.6924405852314242', weight=0.0030568810536688515, std=0.0011534436767277406, value=None), FeatureWeight(feature='CAT_OCCUPATION_TYPE_-0.4895142981291571', weight=0.002795863999125508, std=0.0027332370879183414, value=None), FeatureWeight(feature='CAT_ORGANIZATION_TYPE_-0.5754253882077206', weight=0.0027628833766917145, std=0.001486377999100905, value=None), FeatureWeight(feature='CAT_NAME_TYPE_SUITE_3.8349288886849506', weight=0.0026781128583847004, std=0.0023536732428614707, value=None), FeatureWeight(feature='CNT_CHILDREN', weight=0.0023917584009417307, std=0.000561493238689177, value=None), FeatureWeight(feature='CAT_OCCUPATION_TYPE_2.278168088070706', weight=0.002351274882666804, std=0.0025860195530544314, value=None)], remaining=841998), decision_tree=None, highlight_spaces=None, transition_features=None, image=None)"
      ],
      "text/html": "\n    <style>\n    table.eli5-weights tr:hover {\n        filter: brightness(85%);\n    }\n</style>\n\n\n\n    \n\n    \n\n    \n\n    \n\n    \n\n    \n\n\n    \n\n    \n\n    \n\n    \n\n    \n\n    \n\n\n    \n\n    \n\n    \n\n    \n\n    \n        <table class=\"eli5-weights eli5-feature-importances\" style=\"border-collapse: collapse; border: none; margin-top: 0em; table-layout: auto;\">\n    <thead>\n    <tr style=\"border: none;\">\n        <th style=\"padding: 0 1em 0 0.5em; text-align: right; border: none;\">Weight</th>\n        <th style=\"padding: 0 0.5em 0 0.5em; text-align: left; border: none;\">Feature</th>\n    </tr>\n    </thead>\n    <tbody>\n    \n        <tr style=\"background-color: hsl(120, 100.00%, 80.00%); border: none;\">\n            <td style=\"padding: 0 1em 0 0.5em; text-align: right; border: none;\">\n                0.0257\n                \n                    &plusmn; 0.0545\n                \n            </td>\n            <td style=\"padding: 0 0.5em 0 0.5em; text-align: left; border: none;\">\n                EXT_SOURCE_2\n            </td>\n        </tr>\n    \n        <tr style=\"background-color: hsl(120, 100.00%, 84.56%); border: none;\">\n            <td style=\"padding: 0 1em 0 0.5em; text-align: right; border: none;\">\n                0.0178\n                \n                    &plusmn; 0.0334\n                \n            </td>\n            <td style=\"padding: 0 0.5em 0 0.5em; text-align: left; border: none;\">\n                OBS_60_CNT_SOCIAL_CIRCLE\n            </td>\n        </tr>\n    \n        <tr style=\"background-color: hsl(120, 100.00%, 85.01%); border: none;\">\n            <td style=\"padding: 0 1em 0 0.5em; text-align: right; border: none;\">\n                0.0170\n                \n                    &plusmn; 0.0327\n                \n            </td>\n            <td style=\"padding: 0 0.5em 0 0.5em; text-align: left; border: none;\">\n                ELEVATORS_AVG\n            </td>\n        </tr>\n    \n        <tr style=\"background-color: hsl(120, 100.00%, 85.24%); border: none;\">\n            <td style=\"padding: 0 1em 0 0.5em; text-align: right; border: none;\">\n                0.0167\n                \n                    &plusmn; 0.0302\n                \n            </td>\n            <td style=\"padding: 0 0.5em 0 0.5em; text-align: left; border: none;\">\n                ELEVATORS_MODE\n            </td>\n        </tr>\n    \n        <tr style=\"background-color: hsl(120, 100.00%, 85.82%); border: none;\">\n            <td style=\"padding: 0 1em 0 0.5em; text-align: right; border: none;\">\n                0.0157\n                \n                    &plusmn; 0.0094\n                \n            </td>\n            <td style=\"padding: 0 0.5em 0 0.5em; text-align: left; border: none;\">\n                EXT_SOURCE_3\n            </td>\n        </tr>\n    \n        <tr style=\"background-color: hsl(120, 100.00%, 86.30%); border: none;\">\n            <td style=\"padding: 0 1em 0 0.5em; text-align: right; border: none;\">\n                0.0150\n                \n                    &plusmn; 0.0503\n                \n            </td>\n            <td style=\"padding: 0 0.5em 0 0.5em; text-align: left; border: none;\">\n                FLAG_EMP_PHONE_0.28665386475716725\n            </td>\n        </tr>\n    \n        <tr style=\"background-color: hsl(120, 100.00%, 86.69%); border: none;\">\n            <td style=\"padding: 0 1em 0 0.5em; text-align: right; border: none;\">\n                0.0144\n                \n                    &plusmn; 0.0290\n                \n            </td>\n            <td style=\"padding: 0 0.5em 0 0.5em; text-align: left; border: none;\">\n                CAT_FLAG_OWN_REALTY_-0.6842686503157679\n            </td>\n        </tr>\n    \n        <tr style=\"background-color: hsl(120, 100.00%, 86.75%); border: none;\">\n            <td style=\"padding: 0 1em 0 0.5em; text-align: right; border: none;\">\n                0.0143\n                \n                    &plusmn; 0.0208\n                \n            </td>\n            <td style=\"padding: 0 0.5em 0 0.5em; text-align: left; border: none;\">\n                OBS_30_CNT_SOCIAL_CIRCLE\n            </td>\n        </tr>\n    \n        <tr style=\"background-color: hsl(120, 100.00%, 86.80%); border: none;\">\n            <td style=\"padding: 0 1em 0 0.5em; text-align: right; border: none;\">\n                0.0142\n                \n                    &plusmn; 0.0329\n                \n            </td>\n            <td style=\"padding: 0 0.5em 0 0.5em; text-align: left; border: none;\">\n                NONLIVINGAPARTMENTS_AVG\n            </td>\n        </tr>\n    \n        <tr style=\"background-color: hsl(120, 100.00%, 87.08%); border: none;\">\n            <td style=\"padding: 0 1em 0 0.5em; text-align: right; border: none;\">\n                0.0138\n                \n                    &plusmn; 0.0185\n                \n            </td>\n            <td style=\"padding: 0 0.5em 0 0.5em; text-align: left; border: none;\">\n                CNT_FAM_MEMBERS\n            </td>\n        </tr>\n    \n        <tr style=\"background-color: hsl(120, 100.00%, 87.35%); border: none;\">\n            <td style=\"padding: 0 1em 0 0.5em; text-align: right; border: none;\">\n                0.0134\n                \n                    &plusmn; 0.0291\n                \n            </td>\n            <td style=\"padding: 0 0.5em 0 0.5em; text-align: left; border: none;\">\n                AMT_REQ_CREDIT_BUREAU_MON\n            </td>\n        </tr>\n    \n        <tr style=\"background-color: hsl(120, 100.00%, 87.50%); border: none;\">\n            <td style=\"padding: 0 1em 0 0.5em; text-align: right; border: none;\">\n                0.0131\n                \n                    &plusmn; 0.0160\n                \n            </td>\n            <td style=\"padding: 0 0.5em 0 0.5em; text-align: left; border: none;\">\n                DAYS_LAST_PHONE_CHANGE\n            </td>\n        </tr>\n    \n        <tr style=\"background-color: hsl(120, 100.00%, 87.51%); border: none;\">\n            <td style=\"padding: 0 1em 0 0.5em; text-align: right; border: none;\">\n                0.0131\n                \n                    &plusmn; 0.0385\n                \n            </td>\n            <td style=\"padding: 0 0.5em 0 0.5em; text-align: left; border: none;\">\n                NONLIVINGAREA_MEDI\n            </td>\n        </tr>\n    \n        <tr style=\"background-color: hsl(120, 100.00%, 87.80%); border: none;\">\n            <td style=\"padding: 0 1em 0 0.5em; text-align: right; border: none;\">\n                0.0127\n                \n                    &plusmn; 0.0222\n                \n            </td>\n            <td style=\"padding: 0 0.5em 0 0.5em; text-align: left; border: none;\">\n                FLOORSMAX_MODE\n            </td>\n        </tr>\n    \n        <tr style=\"background-color: hsl(120, 100.00%, 88.22%); border: none;\">\n            <td style=\"padding: 0 1em 0 0.5em; text-align: right; border: none;\">\n                0.0121\n                \n                    &plusmn; 0.0455\n                \n            </td>\n            <td style=\"padding: 0 0.5em 0 0.5em; text-align: left; border: none;\">\n                CAT_NAME_INCOME_TYPE_2.284949522814215\n            </td>\n        </tr>\n    \n        <tr style=\"background-color: hsl(120, 100.00%, 88.63%); border: none;\">\n            <td style=\"padding: 0 1em 0 0.5em; text-align: right; border: none;\">\n                0.0115\n                \n                    &plusmn; 0.0255\n                \n            </td>\n            <td style=\"padding: 0 0.5em 0 0.5em; text-align: left; border: none;\">\n                CAT_WEEKDAY_APPR_PROCESS_START_-0.993326334300431\n            </td>\n        </tr>\n    \n        <tr style=\"background-color: hsl(120, 100.00%, 89.33%); border: none;\">\n            <td style=\"padding: 0 1em 0 0.5em; text-align: right; border: none;\">\n                0.0105\n                \n                    &plusmn; 0.0060\n                \n            </td>\n            <td style=\"padding: 0 0.5em 0 0.5em; text-align: left; border: none;\">\n                DAYS_REGISTRATION\n            </td>\n        </tr>\n    \n        <tr style=\"background-color: hsl(120, 100.00%, 89.64%); border: none;\">\n            <td style=\"padding: 0 1em 0 0.5em; text-align: right; border: none;\">\n                0.0100\n                \n                    &plusmn; 0.0214\n                \n            </td>\n            <td style=\"padding: 0 0.5em 0 0.5em; text-align: left; border: none;\">\n                ELEVATORS_MEDI\n            </td>\n        </tr>\n    \n        <tr style=\"background-color: hsl(120, 100.00%, 89.76%); border: none;\">\n            <td style=\"padding: 0 1em 0 0.5em; text-align: right; border: none;\">\n                0.0099\n                \n                    &plusmn; 0.0038\n                \n            </td>\n            <td style=\"padding: 0 0.5em 0 0.5em; text-align: left; border: none;\">\n                EXT_SOURCE_1\n            </td>\n        </tr>\n    \n        <tr style=\"background-color: hsl(120, 100.00%, 89.86%); border: none;\">\n            <td style=\"padding: 0 1em 0 0.5em; text-align: right; border: none;\">\n                0.0097\n                \n                    &plusmn; 0.0181\n                \n            </td>\n            <td style=\"padding: 0 0.5em 0 0.5em; text-align: left; border: none;\">\n                AMT_REQ_CREDIT_BUREAU_QRT\n            </td>\n        </tr>\n    \n        <tr style=\"background-color: hsl(120, 100.00%, 90.08%); border: none;\">\n            <td style=\"padding: 0 1em 0 0.5em; text-align: right; border: none;\">\n                0.0094\n                \n                    &plusmn; 0.0131\n                \n            </td>\n            <td style=\"padding: 0 0.5em 0 0.5em; text-align: left; border: none;\">\n                CAT_CODE_GENDER_0.8130593112397515\n            </td>\n        </tr>\n    \n        <tr style=\"background-color: hsl(120, 100.00%, 90.11%); border: none;\">\n            <td style=\"padding: 0 1em 0 0.5em; text-align: right; border: none;\">\n                0.0094\n                \n                    &plusmn; 0.0267\n                \n            </td>\n            <td style=\"padding: 0 0.5em 0 0.5em; text-align: left; border: none;\">\n                FLAG_EMP_PHONE_-3.4885278830717215\n            </td>\n        </tr>\n    \n        <tr style=\"background-color: hsl(120, 100.00%, 90.23%); border: none;\">\n            <td style=\"padding: 0 1em 0 0.5em; text-align: right; border: none;\">\n                0.0092\n                \n                    &plusmn; 0.0044\n                \n            </td>\n            <td style=\"padding: 0 0.5em 0 0.5em; text-align: left; border: none;\">\n                AMT_REQ_CREDIT_BUREAU_YEAR\n            </td>\n        </tr>\n    \n        <tr style=\"background-color: hsl(120, 100.00%, 90.50%); border: none;\">\n            <td style=\"padding: 0 1em 0 0.5em; text-align: right; border: none;\">\n                0.0089\n                \n                    &plusmn; 0.0027\n                \n            </td>\n            <td style=\"padding: 0 0.5em 0 0.5em; text-align: left; border: none;\">\n                AMT_GOODS_PRICE\n            </td>\n        </tr>\n    \n        <tr style=\"background-color: hsl(120, 100.00%, 90.61%); border: none;\">\n            <td style=\"padding: 0 1em 0 0.5em; text-align: right; border: none;\">\n                0.0087\n                \n                    &plusmn; 0.0027\n                \n            </td>\n            <td style=\"padding: 0 0.5em 0 0.5em; text-align: left; border: none;\">\n                REGION_POPULATION_RELATIVE\n            </td>\n        </tr>\n    \n        <tr style=\"background-color: hsl(120, 100.00%, 90.69%); border: none;\">\n            <td style=\"padding: 0 1em 0 0.5em; text-align: right; border: none;\">\n                0.0086\n                \n                    &plusmn; 0.0135\n                \n            </td>\n            <td style=\"padding: 0 0.5em 0 0.5em; text-align: left; border: none;\">\n                CAT_WALLSMATERIAL_MODE_-1.1140881900367865\n            </td>\n        </tr>\n    \n        <tr style=\"background-color: hsl(120, 100.00%, 90.84%); border: none;\">\n            <td style=\"padding: 0 1em 0 0.5em; text-align: right; border: none;\">\n                0.0084\n                \n                    &plusmn; 0.0119\n                \n            </td>\n            <td style=\"padding: 0 0.5em 0 0.5em; text-align: left; border: none;\">\n                NONLIVINGAPARTMENTS_MODE\n            </td>\n        </tr>\n    \n        <tr style=\"background-color: hsl(120, 100.00%, 90.86%); border: none;\">\n            <td style=\"padding: 0 1em 0 0.5em; text-align: right; border: none;\">\n                0.0084\n                \n                    &plusmn; 0.0014\n                \n            </td>\n            <td style=\"padding: 0 0.5em 0 0.5em; text-align: left; border: none;\">\n                AMT_ANNUITY\n            </td>\n        </tr>\n    \n        <tr style=\"background-color: hsl(120, 100.00%, 90.87%); border: none;\">\n            <td style=\"padding: 0 1em 0 0.5em; text-align: right; border: none;\">\n                0.0084\n                \n                    &plusmn; 0.0132\n                \n            </td>\n            <td style=\"padding: 0 0.5em 0 0.5em; text-align: left; border: none;\">\n                FLAG_WORK_PHONE_-0.5978740431787494\n            </td>\n        </tr>\n    \n        <tr style=\"background-color: hsl(120, 100.00%, 90.92%); border: none;\">\n            <td style=\"padding: 0 1em 0 0.5em; text-align: right; border: none;\">\n                0.0083\n                \n                    &plusmn; 0.0053\n                \n            </td>\n            <td style=\"padding: 0 0.5em 0 0.5em; text-align: left; border: none;\">\n                FLOORSMAX_MEDI\n            </td>\n        </tr>\n    \n        <tr style=\"background-color: hsl(120, 100.00%, 90.98%); border: none;\">\n            <td style=\"padding: 0 1em 0 0.5em; text-align: right; border: none;\">\n                0.0082\n                \n                    &plusmn; 0.0013\n                \n            </td>\n            <td style=\"padding: 0 0.5em 0 0.5em; text-align: left; border: none;\">\n                AMT_CREDIT\n            </td>\n        </tr>\n    \n        <tr style=\"background-color: hsl(120, 100.00%, 91.00%); border: none;\">\n            <td style=\"padding: 0 1em 0 0.5em; text-align: right; border: none;\">\n                0.0082\n                \n                    &plusmn; 0.0136\n                \n            </td>\n            <td style=\"padding: 0 0.5em 0 0.5em; text-align: left; border: none;\">\n                DAYS_BIRTH\n            </td>\n        </tr>\n    \n        <tr style=\"background-color: hsl(120, 100.00%, 91.01%); border: none;\">\n            <td style=\"padding: 0 1em 0 0.5em; text-align: right; border: none;\">\n                0.0082\n                \n                    &plusmn; 0.0220\n                \n            </td>\n            <td style=\"padding: 0 0.5em 0 0.5em; text-align: left; border: none;\">\n                CAT_WEEKDAY_APPR_PROCESS_START_-0.4919623442045529\n            </td>\n        </tr>\n    \n        <tr style=\"background-color: hsl(120, 100.00%, 91.10%); border: none;\">\n            <td style=\"padding: 0 1em 0 0.5em; text-align: right; border: none;\">\n                0.0081\n                \n                    &plusmn; 0.0081\n                \n            </td>\n            <td style=\"padding: 0 0.5em 0 0.5em; text-align: left; border: none;\">\n                CAT_FLAG_OWN_REALTY_1.7296587561263954\n            </td>\n        </tr>\n    \n        <tr style=\"background-color: hsl(120, 100.00%, 91.22%); border: none;\">\n            <td style=\"padding: 0 1em 0 0.5em; text-align: right; border: none;\">\n                0.0079\n                \n                    &plusmn; 0.0115\n                \n            </td>\n            <td style=\"padding: 0 0.5em 0 0.5em; text-align: left; border: none;\">\n                LIVINGAREA_AVG\n            </td>\n        </tr>\n    \n        <tr style=\"background-color: hsl(120, 100.00%, 91.36%); border: none;\">\n            <td style=\"padding: 0 1em 0 0.5em; text-align: right; border: none;\">\n                0.0078\n                \n                    &plusmn; 0.0158\n                \n            </td>\n            <td style=\"padding: 0 0.5em 0 0.5em; text-align: left; border: none;\">\n                APARTMENTS_MODE\n            </td>\n        </tr>\n    \n        <tr style=\"background-color: hsl(120, 100.00%, 91.37%); border: none;\">\n            <td style=\"padding: 0 1em 0 0.5em; text-align: right; border: none;\">\n                0.0077\n                \n                    &plusmn; 0.0042\n                \n            </td>\n            <td style=\"padding: 0 0.5em 0 0.5em; text-align: left; border: none;\">\n                OWN_CAR_AGE\n            </td>\n        </tr>\n    \n        <tr style=\"background-color: hsl(120, 100.00%, 91.39%); border: none;\">\n            <td style=\"padding: 0 1em 0 0.5em; text-align: right; border: none;\">\n                0.0077\n                \n                    &plusmn; 0.0154\n                \n            </td>\n            <td style=\"padding: 0 0.5em 0 0.5em; text-align: left; border: none;\">\n                CAT_NAME_EDUCATION_TYPE_2.162422800731557\n            </td>\n        </tr>\n    \n        <tr style=\"background-color: hsl(120, 100.00%, 91.52%); border: none;\">\n            <td style=\"padding: 0 1em 0 0.5em; text-align: right; border: none;\">\n                0.0075\n                \n                    &plusmn; 0.0090\n                \n            </td>\n            <td style=\"padding: 0 0.5em 0 0.5em; text-align: left; border: none;\">\n                CAT_FLAG_OWN_CAR_1.588367902760297\n            </td>\n        </tr>\n    \n        <tr style=\"background-color: hsl(120, 100.00%, 91.57%); border: none;\">\n            <td style=\"padding: 0 1em 0 0.5em; text-align: right; border: none;\">\n                0.0075\n                \n                    &plusmn; 0.0122\n                \n            </td>\n            <td style=\"padding: 0 0.5em 0 0.5em; text-align: left; border: none;\">\n                CAT_OCCUPATION_TYPE_-0.7970345632624752\n            </td>\n        </tr>\n    \n        <tr style=\"background-color: hsl(120, 100.00%, 91.58%); border: none;\">\n            <td style=\"padding: 0 1em 0 0.5em; text-align: right; border: none;\">\n                0.0075\n                \n                    &plusmn; 0.0013\n                \n            </td>\n            <td style=\"padding: 0 0.5em 0 0.5em; text-align: left; border: none;\">\n                AMT_INCOME_TOTAL\n            </td>\n        </tr>\n    \n        <tr style=\"background-color: hsl(120, 100.00%, 91.92%); border: none;\">\n            <td style=\"padding: 0 1em 0 0.5em; text-align: right; border: none;\">\n                0.0070\n                \n                    &plusmn; 0.0146\n                \n            </td>\n            <td style=\"padding: 0 0.5em 0 0.5em; text-align: left; border: none;\">\n                NONLIVINGAREA_AVG\n            </td>\n        </tr>\n    \n        <tr style=\"background-color: hsl(120, 100.00%, 92.14%); border: none;\">\n            <td style=\"padding: 0 1em 0 0.5em; text-align: right; border: none;\">\n                0.0068\n                \n                    &plusmn; 0.0112\n                \n            </td>\n            <td style=\"padding: 0 0.5em 0 0.5em; text-align: left; border: none;\">\n                AMT_REQ_CREDIT_BUREAU_HOUR\n            </td>\n        </tr>\n    \n        <tr style=\"background-color: hsl(120, 100.00%, 92.18%); border: none;\">\n            <td style=\"padding: 0 1em 0 0.5em; text-align: right; border: none;\">\n                0.0067\n                \n                    &plusmn; 0.0139\n                \n            </td>\n            <td style=\"padding: 0 0.5em 0 0.5em; text-align: left; border: none;\">\n                ENTRANCES_MEDI\n            </td>\n        </tr>\n    \n        <tr style=\"background-color: hsl(120, 100.00%, 92.23%); border: none;\">\n            <td style=\"padding: 0 1em 0 0.5em; text-align: right; border: none;\">\n                0.0067\n                \n                    &plusmn; 0.0087\n                \n            </td>\n            <td style=\"padding: 0 0.5em 0 0.5em; text-align: left; border: none;\">\n                CAT_WEEKDAY_APPR_PROCESS_START_1.0121296260830812\n            </td>\n        </tr>\n    \n        <tr style=\"background-color: hsl(120, 100.00%, 92.37%); border: none;\">\n            <td style=\"padding: 0 1em 0 0.5em; text-align: right; border: none;\">\n                0.0065\n                \n                    &plusmn; 0.0069\n                \n            </td>\n            <td style=\"padding: 0 0.5em 0 0.5em; text-align: left; border: none;\">\n                CAT_FONDKAPREMONT_MODE_2.610361097861503\n            </td>\n        </tr>\n    \n        <tr style=\"background-color: hsl(120, 100.00%, 92.38%); border: none;\">\n            <td style=\"padding: 0 1em 0 0.5em; text-align: right; border: none;\">\n                0.0065\n                \n                    &plusmn; 0.0104\n                \n            </td>\n            <td style=\"padding: 0 0.5em 0 0.5em; text-align: left; border: none;\">\n                DAYS_ID_PUBLISH\n            </td>\n        </tr>\n    \n        <tr style=\"background-color: hsl(120, 100.00%, 92.52%); border: none;\">\n            <td style=\"padding: 0 1em 0 0.5em; text-align: right; border: none;\">\n                0.0063\n                \n                    &plusmn; 0.0073\n                \n            </td>\n            <td style=\"padding: 0 0.5em 0 0.5em; text-align: left; border: none;\">\n                CAT_NAME_TYPE_SUITE_1.6797974303559295\n            </td>\n        </tr>\n    \n        <tr style=\"background-color: hsl(120, 100.00%, 92.53%); border: none;\">\n            <td style=\"padding: 0 1em 0 0.5em; text-align: right; border: none;\">\n                0.0063\n                \n                    &plusmn; 0.0044\n                \n            </td>\n            <td style=\"padding: 0 0.5em 0 0.5em; text-align: left; border: none;\">\n                CAT_NAME_FAMILY_STATUS_-0.051861972910617116\n            </td>\n        </tr>\n    \n        <tr style=\"background-color: hsl(120, 100.00%, 92.63%); border: none;\">\n            <td style=\"padding: 0 1em 0 0.5em; text-align: right; border: none;\">\n                0.0062\n                \n                    &plusmn; 0.0043\n                \n            </td>\n            <td style=\"padding: 0 0.5em 0 0.5em; text-align: left; border: none;\">\n                FLOORSMAX_AVG\n            </td>\n        </tr>\n    \n        <tr style=\"background-color: hsl(120, 100.00%, 92.65%); border: none;\">\n            <td style=\"padding: 0 1em 0 0.5em; text-align: right; border: none;\">\n                0.0062\n                \n                    &plusmn; 0.0155\n                \n            </td>\n            <td style=\"padding: 0 0.5em 0 0.5em; text-align: left; border: none;\">\n                CAT_FONDKAPREMONT_MODE_1.0510023138663547\n            </td>\n        </tr>\n    \n        <tr style=\"background-color: hsl(120, 100.00%, 92.69%); border: none;\">\n            <td style=\"padding: 0 1em 0 0.5em; text-align: right; border: none;\">\n                0.0061\n                \n                    &plusmn; 0.0095\n                \n            </td>\n            <td style=\"padding: 0 0.5em 0 0.5em; text-align: left; border: none;\">\n                CAT_ORGANIZATION_TYPE_-0.00479052579779564\n            </td>\n        </tr>\n    \n        <tr style=\"background-color: hsl(120, 100.00%, 92.69%); border: none;\">\n            <td style=\"padding: 0 1em 0 0.5em; text-align: right; border: none;\">\n                0.0061\n                \n                    &plusmn; 0.0103\n                \n            </td>\n            <td style=\"padding: 0 0.5em 0 0.5em; text-align: left; border: none;\">\n                LIVINGAREA_MODE\n            </td>\n        </tr>\n    \n        <tr style=\"background-color: hsl(120, 100.00%, 92.70%); border: none;\">\n            <td style=\"padding: 0 1em 0 0.5em; text-align: right; border: none;\">\n                0.0061\n                \n                    &plusmn; 0.0045\n                \n            </td>\n            <td style=\"padding: 0 0.5em 0 0.5em; text-align: left; border: none;\">\n                FLAG_PHONE_1.818852248142987\n            </td>\n        </tr>\n    \n        <tr style=\"background-color: hsl(120, 100.00%, 92.73%); border: none;\">\n            <td style=\"padding: 0 1em 0 0.5em; text-align: right; border: none;\">\n                0.0061\n                \n                    &plusmn; 0.0067\n                \n            </td>\n            <td style=\"padding: 0 0.5em 0 0.5em; text-align: left; border: none;\">\n                HOUR_APPR_PROCESS_START\n            </td>\n        </tr>\n    \n        <tr style=\"background-color: hsl(120, 100.00%, 92.75%); border: none;\">\n            <td style=\"padding: 0 1em 0 0.5em; text-align: right; border: none;\">\n                0.0060\n                \n                    &plusmn; 0.0056\n                \n            </td>\n            <td style=\"padding: 0 0.5em 0 0.5em; text-align: left; border: none;\">\n                NONLIVINGAREA_MODE\n            </td>\n        </tr>\n    \n        <tr style=\"background-color: hsl(120, 100.00%, 92.76%); border: none;\">\n            <td style=\"padding: 0 1em 0 0.5em; text-align: right; border: none;\">\n                0.0060\n                \n                    &plusmn; 0.0112\n                \n            </td>\n            <td style=\"padding: 0 0.5em 0 0.5em; text-align: left; border: none;\">\n                LANDAREA_AVG\n            </td>\n        </tr>\n    \n        <tr style=\"background-color: hsl(120, 100.00%, 92.79%); border: none;\">\n            <td style=\"padding: 0 1em 0 0.5em; text-align: right; border: none;\">\n                0.0060\n                \n                    &plusmn; 0.0068\n                \n            </td>\n            <td style=\"padding: 0 0.5em 0 0.5em; text-align: left; border: none;\">\n                AMT_REQ_CREDIT_BUREAU_WEEK\n            </td>\n        </tr>\n    \n        <tr style=\"background-color: hsl(120, 100.00%, 92.81%); border: none;\">\n            <td style=\"padding: 0 1em 0 0.5em; text-align: right; border: none;\">\n                0.0060\n                \n                    &plusmn; 0.0037\n                \n            </td>\n            <td style=\"padding: 0 0.5em 0 0.5em; text-align: left; border: none;\">\n                CAT_WEEKDAY_APPR_PROCESS_START_-1.494690324396309\n            </td>\n        </tr>\n    \n        <tr style=\"background-color: hsl(120, 100.00%, 93.04%); border: none;\">\n            <td style=\"padding: 0 1em 0 0.5em; text-align: right; border: none;\">\n                0.0057\n                \n                    &plusmn; 0.0146\n                \n            </td>\n            <td style=\"padding: 0 0.5em 0 0.5em; text-align: left; border: none;\">\n                COMMONAREA_MEDI\n            </td>\n        </tr>\n    \n        <tr style=\"background-color: hsl(120, 100.00%, 93.08%); border: none;\">\n            <td style=\"padding: 0 1em 0 0.5em; text-align: right; border: none;\">\n                0.0056\n                \n                    &plusmn; 0.0072\n                \n            </td>\n            <td style=\"padding: 0 0.5em 0 0.5em; text-align: left; border: none;\">\n                FLOORSMIN_MEDI\n            </td>\n        </tr>\n    \n        <tr style=\"background-color: hsl(120, 100.00%, 93.18%); border: none;\">\n            <td style=\"padding: 0 1em 0 0.5em; text-align: right; border: none;\">\n                0.0055\n                \n                    &plusmn; 0.0074\n                \n            </td>\n            <td style=\"padding: 0 0.5em 0 0.5em; text-align: left; border: none;\">\n                CAT_OCCUPATION_TYPE_0.4330464972707972\n            </td>\n        </tr>\n    \n        <tr style=\"background-color: hsl(120, 100.00%, 93.18%); border: none;\">\n            <td style=\"padding: 0 1em 0 0.5em; text-align: right; border: none;\">\n                0.0055\n                \n                    &plusmn; 0.0093\n                \n            </td>\n            <td style=\"padding: 0 0.5em 0 0.5em; text-align: left; border: none;\">\n                REGION_RATING_CLIENT\n            </td>\n        </tr>\n    \n        <tr style=\"background-color: hsl(120, 100.00%, 93.24%); border: none;\">\n            <td style=\"padding: 0 1em 0 0.5em; text-align: right; border: none;\">\n                0.0055\n                \n                    &plusmn; 0.0114\n                \n            </td>\n            <td style=\"padding: 0 0.5em 0 0.5em; text-align: left; border: none;\">\n                LANDAREA_MODE\n            </td>\n        </tr>\n    \n        <tr style=\"background-color: hsl(120, 100.00%, 93.25%); border: none;\">\n            <td style=\"padding: 0 1em 0 0.5em; text-align: right; border: none;\">\n                0.0054\n                \n                    &plusmn; 0.0019\n                \n            </td>\n            <td style=\"padding: 0 0.5em 0 0.5em; text-align: left; border: none;\">\n                CAT_WALLSMATERIAL_MODE_0.8859744436219235\n            </td>\n        </tr>\n    \n        <tr style=\"background-color: hsl(120, 100.00%, 93.27%); border: none;\">\n            <td style=\"padding: 0 1em 0 0.5em; text-align: right; border: none;\">\n                0.0054\n                \n                    &plusmn; 0.0049\n                \n            </td>\n            <td style=\"padding: 0 0.5em 0 0.5em; text-align: left; border: none;\">\n                YEARS_BEGINEXPLUATATION_MODE\n            </td>\n        </tr>\n    \n        <tr style=\"background-color: hsl(120, 100.00%, 93.28%); border: none;\">\n            <td style=\"padding: 0 1em 0 0.5em; text-align: right; border: none;\">\n                0.0054\n                \n                    &plusmn; 0.0085\n                \n            </td>\n            <td style=\"padding: 0 0.5em 0 0.5em; text-align: left; border: none;\">\n                FLOORSMIN_AVG\n            </td>\n        </tr>\n    \n        <tr style=\"background-color: hsl(120, 100.00%, 93.29%); border: none;\">\n            <td style=\"padding: 0 1em 0 0.5em; text-align: right; border: none;\">\n                0.0054\n                \n                    &plusmn; 0.0025\n                \n            </td>\n            <td style=\"padding: 0 0.5em 0 0.5em; text-align: left; border: none;\">\n                ENTRANCES_AVG\n            </td>\n        </tr>\n    \n        <tr style=\"background-color: hsl(120, 100.00%, 93.36%); border: none;\">\n            <td style=\"padding: 0 1em 0 0.5em; text-align: right; border: none;\">\n                0.0053\n                \n                    &plusmn; 0.0056\n                \n            </td>\n            <td style=\"padding: 0 0.5em 0 0.5em; text-align: left; border: none;\">\n                APARTMENTS_AVG\n            </td>\n        </tr>\n    \n        <tr style=\"background-color: hsl(120, 100.00%, 93.37%); border: none;\">\n            <td style=\"padding: 0 1em 0 0.5em; text-align: right; border: none;\">\n                0.0053\n                \n                    &plusmn; 0.0096\n                \n            </td>\n            <td style=\"padding: 0 0.5em 0 0.5em; text-align: left; border: none;\">\n                CAT_WEEKDAY_APPR_PROCESS_START_1.5134936161789594\n            </td>\n        </tr>\n    \n        <tr style=\"background-color: hsl(120, 100.00%, 93.37%); border: none;\">\n            <td style=\"padding: 0 1em 0 0.5em; text-align: right; border: none;\">\n                0.0053\n                \n                    &plusmn; 0.0040\n                \n            </td>\n            <td style=\"padding: 0 0.5em 0 0.5em; text-align: left; border: none;\">\n                YEARS_BEGINEXPLUATATION_AVG\n            </td>\n        </tr>\n    \n        <tr style=\"background-color: hsl(120, 100.00%, 93.39%); border: none;\">\n            <td style=\"padding: 0 1em 0 0.5em; text-align: right; border: none;\">\n                0.0053\n                \n                    &plusmn; 0.0033\n                \n            </td>\n            <td style=\"padding: 0 0.5em 0 0.5em; text-align: left; border: none;\">\n                TOTALAREA_MODE\n            </td>\n        </tr>\n    \n        <tr style=\"background-color: hsl(120, 100.00%, 93.41%); border: none;\">\n            <td style=\"padding: 0 1em 0 0.5em; text-align: right; border: none;\">\n                0.0053\n                \n                    &plusmn; 0.0059\n                \n            </td>\n            <td style=\"padding: 0 0.5em 0 0.5em; text-align: left; border: none;\">\n                APARTMENTS_MEDI\n            </td>\n        </tr>\n    \n        <tr style=\"background-color: hsl(120, 100.00%, 93.42%); border: none;\">\n            <td style=\"padding: 0 1em 0 0.5em; text-align: right; border: none;\">\n                0.0052\n                \n                    &plusmn; 0.0044\n                \n            </td>\n            <td style=\"padding: 0 0.5em 0 0.5em; text-align: left; border: none;\">\n                CAT_NAME_INCOME_TYPE_1.2771422287784178\n            </td>\n        </tr>\n    \n        <tr style=\"background-color: hsl(120, 100.00%, 93.45%); border: none;\">\n            <td style=\"padding: 0 1em 0 0.5em; text-align: right; border: none;\">\n                0.0052\n                \n                    &plusmn; 0.0093\n                \n            </td>\n            <td style=\"padding: 0 0.5em 0 0.5em; text-align: left; border: none;\">\n                FLAG_PHONE_-0.6414184372309725\n            </td>\n        </tr>\n    \n        <tr style=\"background-color: hsl(120, 100.00%, 93.52%); border: none;\">\n            <td style=\"padding: 0 1em 0 0.5em; text-align: right; border: none;\">\n                0.0051\n                \n                    &plusmn; 0.0093\n                \n            </td>\n            <td style=\"padding: 0 0.5em 0 0.5em; text-align: left; border: none;\">\n                YEARS_BUILD_MEDI\n            </td>\n        </tr>\n    \n        <tr style=\"background-color: hsl(120, 100.00%, 93.63%); border: none;\">\n            <td style=\"padding: 0 1em 0 0.5em; text-align: right; border: none;\">\n                0.0050\n                \n                    &plusmn; 0.0061\n                \n            </td>\n            <td style=\"padding: 0 0.5em 0 0.5em; text-align: left; border: none;\">\n                LIVINGAPARTMENTS_MEDI\n            </td>\n        </tr>\n    \n        <tr style=\"background-color: hsl(120, 100.00%, 93.67%); border: none;\">\n            <td style=\"padding: 0 1em 0 0.5em; text-align: right; border: none;\">\n                0.0050\n                \n                    &plusmn; 0.0041\n                \n            </td>\n            <td style=\"padding: 0 0.5em 0 0.5em; text-align: left; border: none;\">\n                ENTRANCES_MODE\n            </td>\n        </tr>\n    \n        <tr style=\"background-color: hsl(120, 100.00%, 93.70%); border: none;\">\n            <td style=\"padding: 0 1em 0 0.5em; text-align: right; border: none;\">\n                0.0049\n                \n                    &plusmn; 0.0037\n                \n            </td>\n            <td style=\"padding: 0 0.5em 0 0.5em; text-align: left; border: none;\">\n                YEARS_BEGINEXPLUATATION_MEDI\n            </td>\n        </tr>\n    \n        <tr style=\"background-color: hsl(120, 100.00%, 93.72%); border: none;\">\n            <td style=\"padding: 0 1em 0 0.5em; text-align: right; border: none;\">\n                0.0049\n                \n                    &plusmn; 0.0127\n                \n            </td>\n            <td style=\"padding: 0 0.5em 0 0.5em; text-align: left; border: none;\">\n                CAT_NAME_FAMILY_STATUS_1.58871663941019\n            </td>\n        </tr>\n    \n        <tr style=\"background-color: hsl(120, 100.00%, 93.76%); border: none;\">\n            <td style=\"padding: 0 1em 0 0.5em; text-align: right; border: none;\">\n                0.0049\n                \n                    &plusmn; 0.0054\n                \n            </td>\n            <td style=\"padding: 0 0.5em 0 0.5em; text-align: left; border: none;\">\n                NONLIVINGAPARTMENTS_MEDI\n            </td>\n        </tr>\n    \n        <tr style=\"background-color: hsl(120, 100.00%, 93.79%); border: none;\">\n            <td style=\"padding: 0 1em 0 0.5em; text-align: right; border: none;\">\n                0.0048\n                \n                    &plusmn; 0.0038\n                \n            </td>\n            <td style=\"padding: 0 0.5em 0 0.5em; text-align: left; border: none;\">\n                LANDAREA_MEDI\n            </td>\n        </tr>\n    \n        <tr style=\"background-color: hsl(120, 100.00%, 93.82%); border: none;\">\n            <td style=\"padding: 0 1em 0 0.5em; text-align: right; border: none;\">\n                0.0048\n                \n                    &plusmn; 0.0045\n                \n            </td>\n            <td style=\"padding: 0 0.5em 0 0.5em; text-align: left; border: none;\">\n                AMT_REQ_CREDIT_BUREAU_DAY\n            </td>\n        </tr>\n    \n        <tr style=\"background-color: hsl(120, 100.00%, 93.83%); border: none;\">\n            <td style=\"padding: 0 1em 0 0.5em; text-align: right; border: none;\">\n                0.0048\n                \n                    &plusmn; 0.0024\n                \n            </td>\n            <td style=\"padding: 0 0.5em 0 0.5em; text-align: left; border: none;\">\n                LIVINGAREA_MEDI\n            </td>\n        </tr>\n    \n        <tr style=\"background-color: hsl(120, 100.00%, 93.93%); border: none;\">\n            <td style=\"padding: 0 1em 0 0.5em; text-align: right; border: none;\">\n                0.0047\n                \n                    &plusmn; 0.0111\n                \n            </td>\n            <td style=\"padding: 0 0.5em 0 0.5em; text-align: left; border: none;\">\n                COMMONAREA_AVG\n            </td>\n        </tr>\n    \n        <tr style=\"background-color: hsl(120, 100.00%, 93.94%); border: none;\">\n            <td style=\"padding: 0 1em 0 0.5em; text-align: right; border: none;\">\n                0.0047\n                \n                    &plusmn; 0.0150\n                \n            </td>\n            <td style=\"padding: 0 0.5em 0 0.5em; text-align: left; border: none;\">\n                CAT_ORGANIZATION_TYPE_-0.4612984157257356\n            </td>\n        </tr>\n    \n        <tr style=\"background-color: hsl(120, 100.00%, 93.94%); border: none;\">\n            <td style=\"padding: 0 1em 0 0.5em; text-align: right; border: none;\">\n                0.0047\n                \n                    &plusmn; 0.0040\n                \n            </td>\n            <td style=\"padding: 0 0.5em 0 0.5em; text-align: left; border: none;\">\n                CAT_ORGANIZATION_TYPE_-1.0319332781356605\n            </td>\n        </tr>\n    \n        <tr style=\"background-color: hsl(120, 100.00%, 93.96%); border: none;\">\n            <td style=\"padding: 0 1em 0 0.5em; text-align: right; border: none;\">\n                0.0047\n                \n                    &plusmn; 0.0149\n                \n            </td>\n            <td style=\"padding: 0 0.5em 0 0.5em; text-align: left; border: none;\">\n                CAT_NAME_HOUSING_TYPE_-0.2967857907740828\n            </td>\n        </tr>\n    \n        <tr style=\"background-color: hsl(120, 100.00%, 94.03%); border: none;\">\n            <td style=\"padding: 0 1em 0 0.5em; text-align: right; border: none;\">\n                0.0046\n                \n                    &plusmn; 0.0031\n                \n            </td>\n            <td style=\"padding: 0 0.5em 0 0.5em; text-align: left; border: none;\">\n                BASEMENTAREA_MODE\n            </td>\n        </tr>\n    \n        <tr style=\"background-color: hsl(120, 100.00%, 94.07%); border: none;\">\n            <td style=\"padding: 0 1em 0 0.5em; text-align: right; border: none;\">\n                0.0045\n                \n                    &plusmn; 0.0026\n                \n            </td>\n            <td style=\"padding: 0 0.5em 0 0.5em; text-align: left; border: none;\">\n                REGION_RATING_CLIENT_W_CITY\n            </td>\n        </tr>\n    \n        <tr style=\"background-color: hsl(120, 100.00%, 94.27%); border: none;\">\n            <td style=\"padding: 0 1em 0 0.5em; text-align: right; border: none;\">\n                0.0043\n                \n                    &plusmn; 0.0071\n                \n            </td>\n            <td style=\"padding: 0 0.5em 0 0.5em; text-align: left; border: none;\">\n                CAT_NAME_INCOME_TYPE_0.26933493474262066\n            </td>\n        </tr>\n    \n        <tr style=\"background-color: hsl(120, 100.00%, 94.29%); border: none;\">\n            <td style=\"padding: 0 1em 0 0.5em; text-align: right; border: none;\">\n                0.0043\n                \n                    &plusmn; 0.0025\n                \n            </td>\n            <td style=\"padding: 0 0.5em 0 0.5em; text-align: left; border: none;\">\n                CAT_OCCUPATION_TYPE_-1.1045548283957933\n            </td>\n        </tr>\n    \n        <tr style=\"background-color: hsl(120, 100.00%, 94.32%); border: none;\">\n            <td style=\"padding: 0 1em 0 0.5em; text-align: right; border: none;\">\n                0.0043\n                \n                    &plusmn; 0.0044\n                \n            </td>\n            <td style=\"padding: 0 0.5em 0 0.5em; text-align: left; border: none;\">\n                DEF_60_CNT_SOCIAL_CIRCLE\n            </td>\n        </tr>\n    \n        <tr style=\"background-color: hsl(120, 100.00%, 94.34%); border: none;\">\n            <td style=\"padding: 0 1em 0 0.5em; text-align: right; border: none;\">\n                0.0042\n                \n                    &plusmn; 0.0047\n                \n            </td>\n            <td style=\"padding: 0 0.5em 0 0.5em; text-align: left; border: none;\">\n                CAT_WEEKDAY_APPR_PROCESS_START_0.5107656359872033\n            </td>\n        </tr>\n    \n        <tr style=\"background-color: hsl(120, 100.00%, 94.39%); border: none;\">\n            <td style=\"padding: 0 1em 0 0.5em; text-align: right; border: none;\">\n                0.0042\n                \n                    &plusmn; 0.0019\n                \n            </td>\n            <td style=\"padding: 0 0.5em 0 0.5em; text-align: left; border: none;\">\n                BASEMENTAREA_MEDI\n            </td>\n        </tr>\n    \n        <tr style=\"background-color: hsl(120, 100.00%, 94.46%); border: none;\">\n            <td style=\"padding: 0 1em 0 0.5em; text-align: right; border: none;\">\n                0.0041\n                \n                    &plusmn; 0.0039\n                \n            </td>\n            <td style=\"padding: 0 0.5em 0 0.5em; text-align: left; border: none;\">\n                COMMONAREA_MODE\n            </td>\n        </tr>\n    \n        <tr style=\"background-color: hsl(120, 100.00%, 94.46%); border: none;\">\n            <td style=\"padding: 0 1em 0 0.5em; text-align: right; border: none;\">\n                0.0041\n                \n                    &plusmn; 0.0131\n                \n            </td>\n            <td style=\"padding: 0 0.5em 0 0.5em; text-align: left; border: none;\">\n                DAYS_EMPLOYED\n            </td>\n        </tr>\n    \n        <tr style=\"background-color: hsl(120, 100.00%, 94.49%); border: none;\">\n            <td style=\"padding: 0 1em 0 0.5em; text-align: right; border: none;\">\n                0.0041\n                \n                    &plusmn; 0.0053\n                \n            </td>\n            <td style=\"padding: 0 0.5em 0 0.5em; text-align: left; border: none;\">\n                LIVE_CITY_NOT_WORK_CITY\n            </td>\n        </tr>\n    \n        <tr style=\"background-color: hsl(120, 100.00%, 94.53%); border: none;\">\n            <td style=\"padding: 0 1em 0 0.5em; text-align: right; border: none;\">\n                0.0040\n                \n                    &plusmn; 0.0031\n                \n            </td>\n            <td style=\"padding: 0 0.5em 0 0.5em; text-align: left; border: none;\">\n                CAT_CODE_GENDER_-1.4508361752781018\n            </td>\n        </tr>\n    \n        <tr style=\"background-color: hsl(120, 100.00%, 94.57%); border: none;\">\n            <td style=\"padding: 0 1em 0 0.5em; text-align: right; border: none;\">\n                0.0040\n                \n                    &plusmn; 0.0024\n                \n            </td>\n            <td style=\"padding: 0 0.5em 0 0.5em; text-align: left; border: none;\">\n                CAT_FLAG_OWN_CAR_-0.7382441030580528\n            </td>\n        </tr>\n    \n        <tr style=\"background-color: hsl(120, 100.00%, 94.65%); border: none;\">\n            <td style=\"padding: 0 1em 0 0.5em; text-align: right; border: none;\">\n                0.0039\n                \n                    &plusmn; 0.0057\n                \n            </td>\n            <td style=\"padding: 0 0.5em 0 0.5em; text-align: left; border: none;\">\n                FLAG_WORK_PHONE_1.973402968559473\n            </td>\n        </tr>\n    \n        <tr style=\"background-color: hsl(120, 100.00%, 94.76%); border: none;\">\n            <td style=\"padding: 0 1em 0 0.5em; text-align: right; border: none;\">\n                0.0038\n                \n                    &plusmn; 0.0074\n                \n            </td>\n            <td style=\"padding: 0 0.5em 0 0.5em; text-align: left; border: none;\">\n                CAT_ORGANIZATION_TYPE_-0.8036793331716906\n            </td>\n        </tr>\n    \n        <tr style=\"background-color: hsl(120, 100.00%, 94.77%); border: none;\">\n            <td style=\"padding: 0 1em 0 0.5em; text-align: right; border: none;\">\n                0.0038\n                \n                    &plusmn; 0.0036\n                \n            </td>\n            <td style=\"padding: 0 0.5em 0 0.5em; text-align: left; border: none;\">\n                CAT_OCCUPATION_TYPE_-0.18199403299583902\n            </td>\n        </tr>\n    \n        <tr style=\"background-color: hsl(120, 100.00%, 94.83%); border: none;\">\n            <td style=\"padding: 0 1em 0 0.5em; text-align: right; border: none;\">\n                0.0037\n                \n                    &plusmn; 0.0019\n                \n            </td>\n            <td style=\"padding: 0 0.5em 0 0.5em; text-align: left; border: none;\">\n                DEF_30_CNT_SOCIAL_CIRCLE\n            </td>\n        </tr>\n    \n        <tr style=\"background-color: hsl(120, 100.00%, 94.94%); border: none;\">\n            <td style=\"padding: 0 1em 0 0.5em; text-align: right; border: none;\">\n                0.0036\n                \n                    &plusmn; 0.0093\n                \n            </td>\n            <td style=\"padding: 0 0.5em 0 0.5em; text-align: left; border: none;\">\n                CAT_WALLSMATERIAL_MODE_-0.11405687320743157\n            </td>\n        </tr>\n    \n        <tr style=\"background-color: hsl(120, 100.00%, 94.94%); border: none;\">\n            <td style=\"padding: 0 1em 0 0.5em; text-align: right; border: none;\">\n                0.0036\n                \n                    &plusmn; 0.0038\n                \n            </td>\n            <td style=\"padding: 0 0.5em 0 0.5em; text-align: left; border: none;\">\n                LIVINGAPARTMENTS_MODE\n            </td>\n        </tr>\n    \n        <tr style=\"background-color: hsl(120, 100.00%, 94.96%); border: none;\">\n            <td style=\"padding: 0 1em 0 0.5em; text-align: right; border: none;\">\n                0.0036\n                \n                    &plusmn; 0.0027\n                \n            </td>\n            <td style=\"padding: 0 0.5em 0 0.5em; text-align: left; border: none;\">\n                CAT_FONDKAPREMONT_MODE_-0.5083564701287931\n            </td>\n        </tr>\n    \n        <tr style=\"background-color: hsl(120, 100.00%, 95.15%); border: none;\">\n            <td style=\"padding: 0 1em 0 0.5em; text-align: right; border: none;\">\n                0.0034\n                \n                    &plusmn; 0.0019\n                \n            </td>\n            <td style=\"padding: 0 0.5em 0 0.5em; text-align: left; border: none;\">\n                REG_CITY_NOT_WORK_CITY\n            </td>\n        </tr>\n    \n        <tr style=\"background-color: hsl(120, 100.00%, 95.20%); border: none;\">\n            <td style=\"padding: 0 1em 0 0.5em; text-align: right; border: none;\">\n                0.0033\n                \n                    &plusmn; 0.0024\n                \n            </td>\n            <td style=\"padding: 0 0.5em 0 0.5em; text-align: left; border: none;\">\n                YEARS_BUILD_AVG\n            </td>\n        </tr>\n    \n        <tr style=\"background-color: hsl(120, 100.00%, 95.24%); border: none;\">\n            <td style=\"padding: 0 1em 0 0.5em; text-align: right; border: none;\">\n                0.0033\n                \n                    &plusmn; 0.0016\n                \n            </td>\n            <td style=\"padding: 0 0.5em 0 0.5em; text-align: left; border: none;\">\n                LIVINGAPARTMENTS_AVG\n            </td>\n        </tr>\n    \n        <tr style=\"background-color: hsl(120, 100.00%, 95.30%); border: none;\">\n            <td style=\"padding: 0 1em 0 0.5em; text-align: right; border: none;\">\n                0.0032\n                \n                    &plusmn; 0.0030\n                \n            </td>\n            <td style=\"padding: 0 0.5em 0 0.5em; text-align: left; border: none;\">\n                CAT_NAME_INCOME_TYPE_-0.7384723592931765\n            </td>\n        </tr>\n    \n        <tr style=\"background-color: hsl(120, 100.00%, 95.36%); border: none;\">\n            <td style=\"padding: 0 1em 0 0.5em; text-align: right; border: none;\">\n                0.0032\n                \n                    &plusmn; 0.0007\n                \n            </td>\n            <td style=\"padding: 0 0.5em 0 0.5em; text-align: left; border: none;\">\n                BASEMENTAREA_AVG\n            </td>\n        </tr>\n    \n        <tr style=\"background-color: hsl(120, 100.00%, 95.37%); border: none;\">\n            <td style=\"padding: 0 1em 0 0.5em; text-align: right; border: none;\">\n                0.0032\n                \n                    &plusmn; 0.0076\n                \n            </td>\n            <td style=\"padding: 0 0.5em 0 0.5em; text-align: left; border: none;\">\n                FLAG_DOCUMENT_3_-3.075996768448462\n            </td>\n        </tr>\n    \n        <tr style=\"background-color: hsl(120, 100.00%, 95.39%); border: none;\">\n            <td style=\"padding: 0 1em 0 0.5em; text-align: right; border: none;\">\n                0.0032\n                \n                    &plusmn; 0.0014\n                \n            </td>\n            <td style=\"padding: 0 0.5em 0 0.5em; text-align: left; border: none;\">\n                FLOORSMIN_MODE\n            </td>\n        </tr>\n    \n        <tr style=\"background-color: hsl(120, 100.00%, 95.45%); border: none;\">\n            <td style=\"padding: 0 1em 0 0.5em; text-align: right; border: none;\">\n                0.0031\n                \n                    &plusmn; 0.0018\n                \n            </td>\n            <td style=\"padding: 0 0.5em 0 0.5em; text-align: left; border: none;\">\n                YEARS_BUILD_MODE\n            </td>\n        </tr>\n    \n        <tr style=\"background-color: hsl(120, 100.00%, 95.48%); border: none;\">\n            <td style=\"padding: 0 1em 0 0.5em; text-align: right; border: none;\">\n                0.0031\n                \n                    &plusmn; 0.0010\n                \n            </td>\n            <td style=\"padding: 0 0.5em 0 0.5em; text-align: left; border: none;\">\n                CAT_NAME_TYPE_SUITE_-0.4753340279730917\n            </td>\n        </tr>\n    \n        <tr style=\"background-color: hsl(120, 100.00%, 95.49%); border: none;\">\n            <td style=\"padding: 0 1em 0 0.5em; text-align: right; border: none;\">\n                0.0031\n                \n                    &plusmn; 0.0023\n                \n            </td>\n            <td style=\"padding: 0 0.5em 0 0.5em; text-align: left; border: none;\">\n                CAT_NAME_FAMILY_STATUS_-1.6924405852314242\n            </td>\n        </tr>\n    \n        <tr style=\"background-color: hsl(120, 100.00%, 95.77%); border: none;\">\n            <td style=\"padding: 0 1em 0 0.5em; text-align: right; border: none;\">\n                0.0028\n                \n                    &plusmn; 0.0055\n                \n            </td>\n            <td style=\"padding: 0 0.5em 0 0.5em; text-align: left; border: none;\">\n                CAT_OCCUPATION_TYPE_-0.4895142981291571\n            </td>\n        </tr>\n    \n        <tr style=\"background-color: hsl(120, 100.00%, 95.80%); border: none;\">\n            <td style=\"padding: 0 1em 0 0.5em; text-align: right; border: none;\">\n                0.0028\n                \n                    &plusmn; 0.0030\n                \n            </td>\n            <td style=\"padding: 0 0.5em 0 0.5em; text-align: left; border: none;\">\n                CAT_ORGANIZATION_TYPE_-0.5754253882077206\n            </td>\n        </tr>\n    \n        <tr style=\"background-color: hsl(120, 100.00%, 95.89%); border: none;\">\n            <td style=\"padding: 0 1em 0 0.5em; text-align: right; border: none;\">\n                0.0027\n                \n                    &plusmn; 0.0047\n                \n            </td>\n            <td style=\"padding: 0 0.5em 0 0.5em; text-align: left; border: none;\">\n                CAT_NAME_TYPE_SUITE_3.8349288886849506\n            </td>\n        </tr>\n    \n        <tr style=\"background-color: hsl(120, 100.00%, 96.21%); border: none;\">\n            <td style=\"padding: 0 1em 0 0.5em; text-align: right; border: none;\">\n                0.0024\n                \n                    &plusmn; 0.0011\n                \n            </td>\n            <td style=\"padding: 0 0.5em 0 0.5em; text-align: left; border: none;\">\n                CNT_CHILDREN\n            </td>\n        </tr>\n    \n        <tr style=\"background-color: hsl(120, 100.00%, 96.25%); border: none;\">\n            <td style=\"padding: 0 1em 0 0.5em; text-align: right; border: none;\">\n                0.0024\n                \n                    &plusmn; 0.0052\n                \n            </td>\n            <td style=\"padding: 0 0.5em 0 0.5em; text-align: left; border: none;\">\n                CAT_OCCUPATION_TYPE_2.278168088070706\n            </td>\n        </tr>\n    \n    \n        \n            <tr style=\"background-color: hsl(120, 100.00%, 96.25%); border: none;\">\n                <td colspan=\"2\" style=\"padding: 0 0.5em 0 0.5em; text-align: center; border: none; white-space: nowrap;\">\n                    <i>&hellip; 841998 more &hellip;</i>\n                </td>\n            </tr>\n        \n    \n    </tbody>\n</table>\n    \n\n    \n\n\n    \n\n    \n\n    \n\n    \n\n    \n\n    \n\n\n\n"
     },
     "metadata": {},
     "execution_count": 57
    }
   ],
   "source": [
    "eli5.explain_weights(pipe.named_steps['classifier'], top=122, feature_names=numeric_features_list)"
   ]
  },
  {
   "source": [
    "## Aplicar o PCA"
   ],
   "cell_type": "markdown",
   "metadata": {}
  },
  {
   "cell_type": "code",
   "execution_count": 55,
   "metadata": {},
   "outputs": [],
   "source": [
    "# https://scikit-learn.org/stable/modules/generated/sklearn.decomposition.PCA.html\n",
    "\n",
    "#from sklearn.decomposition import PCA"
   ]
  },
  {
   "cell_type": "code",
   "execution_count": 56,
   "metadata": {},
   "outputs": [],
   "source": [
    "#pca = PCA(n_components=2)\n",
    "#pca.fit(X)\n",
    "#print(pca.explained_variance_ratio_)\n",
    "#print(pca.score(X))\n",
    "#X = pca.tranform(X)"
   ]
  }
 ]
}