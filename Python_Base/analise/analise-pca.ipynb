{
 "metadata": {
  "language_info": {
   "codemirror_mode": {
    "name": "ipython",
    "version": 3
   },
   "file_extension": ".py",
   "mimetype": "text/x-python",
   "name": "python",
   "nbconvert_exporter": "python",
   "pygments_lexer": "ipython3",
   "version": "3.8.5"
  },
  "orig_nbformat": 2,
  "kernelspec": {
   "name": "python385jvsc74a57bd03986840a6b217fa63296dd3c98d2e182c477b99e0fa07e11ae4beefadba0e2c6",
   "display_name": "Python 3.8.5 64-bit ('cfd-3.8.5': pyenv)"
  },
  "metadata": {
   "interpreter": {
    "hash": "3986840a6b217fa63296dd3c98d2e182c477b99e0fa07e11ae4beefadba0e2c6"
   }
  }
 },
 "nbformat": 4,
 "nbformat_minor": 2,
 "cells": [
  {
   "source": [
    "# Análise de dados"
   ],
   "cell_type": "markdown",
   "metadata": {}
  },
  {
   "cell_type": "code",
   "execution_count": 1,
   "metadata": {},
   "outputs": [],
   "source": [
    "import pandas as pd"
   ]
  },
  {
   "cell_type": "code",
   "execution_count": 2,
   "metadata": {},
   "outputs": [],
   "source": [
    "df = pd.read_csv(\"../datasets/application_data.csv\")"
   ]
  },
  {
   "cell_type": "code",
   "execution_count": 3,
   "metadata": {},
   "outputs": [
    {
     "output_type": "stream",
     "name": "stdout",
     "text": [
      "<class 'pandas.core.frame.DataFrame'>\nRangeIndex: 307511 entries, 0 to 307510\nColumns: 122 entries, SK_ID_CURR to AMT_REQ_CREDIT_BUREAU_YEAR\ndtypes: float64(65), int64(41), object(16)\nmemory usage: 286.2+ MB\n"
     ]
    }
   ],
   "source": [
    "df.info()"
   ]
  },
  {
   "cell_type": "code",
   "execution_count": 10,
   "metadata": {},
   "outputs": [
    {
     "output_type": "execute_result",
     "data": {
      "text/plain": [
       "   TARGET NAME_CONTRACT_TYPE CODE_GENDER FLAG_OWN_CAR FLAG_OWN_REALTY  \\\n",
       "0       1         Cash loans           M            N               Y   \n",
       "1       0         Cash loans           F            N               N   \n",
       "2       0    Revolving loans           M            Y               Y   \n",
       "3       0         Cash loans           F            N               Y   \n",
       "4       0         Cash loans           M            N               Y   \n",
       "\n",
       "   CNT_CHILDREN  AMT_INCOME_TOTAL  AMT_CREDIT  AMT_ANNUITY  AMT_GOODS_PRICE  \\\n",
       "0             0          202500.0    406597.5      24700.5         351000.0   \n",
       "1             0          270000.0   1293502.5      35698.5        1129500.0   \n",
       "2             0           67500.0    135000.0       6750.0         135000.0   \n",
       "3             0          135000.0    312682.5      29686.5         297000.0   \n",
       "4             0          121500.0    513000.0      21865.5         513000.0   \n",
       "\n",
       "   ... FLAG_DOCUMENT_18 FLAG_DOCUMENT_19 FLAG_DOCUMENT_20 FLAG_DOCUMENT_21  \\\n",
       "0  ...                0                0                0                0   \n",
       "1  ...                0                0                0                0   \n",
       "2  ...                0                0                0                0   \n",
       "3  ...                0                0                0                0   \n",
       "4  ...                0                0                0                0   \n",
       "\n",
       "  AMT_REQ_CREDIT_BUREAU_HOUR  AMT_REQ_CREDIT_BUREAU_DAY  \\\n",
       "0                        0.0                        0.0   \n",
       "1                        0.0                        0.0   \n",
       "2                        0.0                        0.0   \n",
       "3                        NaN                        NaN   \n",
       "4                        0.0                        0.0   \n",
       "\n",
       "   AMT_REQ_CREDIT_BUREAU_WEEK  AMT_REQ_CREDIT_BUREAU_MON  \\\n",
       "0                         0.0                        0.0   \n",
       "1                         0.0                        0.0   \n",
       "2                         0.0                        0.0   \n",
       "3                         NaN                        NaN   \n",
       "4                         0.0                        0.0   \n",
       "\n",
       "   AMT_REQ_CREDIT_BUREAU_QRT  AMT_REQ_CREDIT_BUREAU_YEAR  \n",
       "0                        0.0                         1.0  \n",
       "1                        0.0                         0.0  \n",
       "2                        0.0                         0.0  \n",
       "3                        NaN                         NaN  \n",
       "4                        0.0                         0.0  \n",
       "\n",
       "[5 rows x 121 columns]"
      ],
      "text/html": "<div>\n<style scoped>\n    .dataframe tbody tr th:only-of-type {\n        vertical-align: middle;\n    }\n\n    .dataframe tbody tr th {\n        vertical-align: top;\n    }\n\n    .dataframe thead th {\n        text-align: right;\n    }\n</style>\n<table border=\"1\" class=\"dataframe\">\n  <thead>\n    <tr style=\"text-align: right;\">\n      <th></th>\n      <th>TARGET</th>\n      <th>NAME_CONTRACT_TYPE</th>\n      <th>CODE_GENDER</th>\n      <th>FLAG_OWN_CAR</th>\n      <th>FLAG_OWN_REALTY</th>\n      <th>CNT_CHILDREN</th>\n      <th>AMT_INCOME_TOTAL</th>\n      <th>AMT_CREDIT</th>\n      <th>AMT_ANNUITY</th>\n      <th>AMT_GOODS_PRICE</th>\n      <th>...</th>\n      <th>FLAG_DOCUMENT_18</th>\n      <th>FLAG_DOCUMENT_19</th>\n      <th>FLAG_DOCUMENT_20</th>\n      <th>FLAG_DOCUMENT_21</th>\n      <th>AMT_REQ_CREDIT_BUREAU_HOUR</th>\n      <th>AMT_REQ_CREDIT_BUREAU_DAY</th>\n      <th>AMT_REQ_CREDIT_BUREAU_WEEK</th>\n      <th>AMT_REQ_CREDIT_BUREAU_MON</th>\n      <th>AMT_REQ_CREDIT_BUREAU_QRT</th>\n      <th>AMT_REQ_CREDIT_BUREAU_YEAR</th>\n    </tr>\n  </thead>\n  <tbody>\n    <tr>\n      <th>0</th>\n      <td>1</td>\n      <td>Cash loans</td>\n      <td>M</td>\n      <td>N</td>\n      <td>Y</td>\n      <td>0</td>\n      <td>202500.0</td>\n      <td>406597.5</td>\n      <td>24700.5</td>\n      <td>351000.0</td>\n      <td>...</td>\n      <td>0</td>\n      <td>0</td>\n      <td>0</td>\n      <td>0</td>\n      <td>0.0</td>\n      <td>0.0</td>\n      <td>0.0</td>\n      <td>0.0</td>\n      <td>0.0</td>\n      <td>1.0</td>\n    </tr>\n    <tr>\n      <th>1</th>\n      <td>0</td>\n      <td>Cash loans</td>\n      <td>F</td>\n      <td>N</td>\n      <td>N</td>\n      <td>0</td>\n      <td>270000.0</td>\n      <td>1293502.5</td>\n      <td>35698.5</td>\n      <td>1129500.0</td>\n      <td>...</td>\n      <td>0</td>\n      <td>0</td>\n      <td>0</td>\n      <td>0</td>\n      <td>0.0</td>\n      <td>0.0</td>\n      <td>0.0</td>\n      <td>0.0</td>\n      <td>0.0</td>\n      <td>0.0</td>\n    </tr>\n    <tr>\n      <th>2</th>\n      <td>0</td>\n      <td>Revolving loans</td>\n      <td>M</td>\n      <td>Y</td>\n      <td>Y</td>\n      <td>0</td>\n      <td>67500.0</td>\n      <td>135000.0</td>\n      <td>6750.0</td>\n      <td>135000.0</td>\n      <td>...</td>\n      <td>0</td>\n      <td>0</td>\n      <td>0</td>\n      <td>0</td>\n      <td>0.0</td>\n      <td>0.0</td>\n      <td>0.0</td>\n      <td>0.0</td>\n      <td>0.0</td>\n      <td>0.0</td>\n    </tr>\n    <tr>\n      <th>3</th>\n      <td>0</td>\n      <td>Cash loans</td>\n      <td>F</td>\n      <td>N</td>\n      <td>Y</td>\n      <td>0</td>\n      <td>135000.0</td>\n      <td>312682.5</td>\n      <td>29686.5</td>\n      <td>297000.0</td>\n      <td>...</td>\n      <td>0</td>\n      <td>0</td>\n      <td>0</td>\n      <td>0</td>\n      <td>NaN</td>\n      <td>NaN</td>\n      <td>NaN</td>\n      <td>NaN</td>\n      <td>NaN</td>\n      <td>NaN</td>\n    </tr>\n    <tr>\n      <th>4</th>\n      <td>0</td>\n      <td>Cash loans</td>\n      <td>M</td>\n      <td>N</td>\n      <td>Y</td>\n      <td>0</td>\n      <td>121500.0</td>\n      <td>513000.0</td>\n      <td>21865.5</td>\n      <td>513000.0</td>\n      <td>...</td>\n      <td>0</td>\n      <td>0</td>\n      <td>0</td>\n      <td>0</td>\n      <td>0.0</td>\n      <td>0.0</td>\n      <td>0.0</td>\n      <td>0.0</td>\n      <td>0.0</td>\n      <td>0.0</td>\n    </tr>\n  </tbody>\n</table>\n<p>5 rows × 121 columns</p>\n</div>"
     },
     "metadata": {},
     "execution_count": 10
    }
   ],
   "source": [
    "df.head()"
   ]
  },
  {
   "cell_type": "code",
   "execution_count": 36,
   "metadata": {},
   "outputs": [
    {
     "output_type": "execute_result",
     "data": {
      "text/plain": [
       "  NAME_CONTRACT_TYPE CODE_GENDER FLAG_OWN_CAR FLAG_OWN_REALTY NAME_TYPE_SUITE  \\\n",
       "0         Cash loans           M            N               Y   Unaccompanied   \n",
       "1         Cash loans           F            N               N          Family   \n",
       "2    Revolving loans           M            Y               Y   Unaccompanied   \n",
       "3         Cash loans           F            N               Y   Unaccompanied   \n",
       "4         Cash loans           M            N               Y   Unaccompanied   \n",
       "\n",
       "  NAME_INCOME_TYPE            NAME_EDUCATION_TYPE    NAME_FAMILY_STATUS  \\\n",
       "0          Working  Secondary / secondary special  Single / not married   \n",
       "1    State servant               Higher education               Married   \n",
       "2          Working  Secondary / secondary special  Single / not married   \n",
       "3          Working  Secondary / secondary special        Civil marriage   \n",
       "4          Working  Secondary / secondary special  Single / not married   \n",
       "\n",
       "   NAME_HOUSING_TYPE OCCUPATION_TYPE WEEKDAY_APPR_PROCESS_START  \\\n",
       "0  House / apartment        Laborers                  WEDNESDAY   \n",
       "1  House / apartment      Core staff                     MONDAY   \n",
       "2  House / apartment        Laborers                     MONDAY   \n",
       "3  House / apartment        Laborers                  WEDNESDAY   \n",
       "4  House / apartment      Core staff                   THURSDAY   \n",
       "\n",
       "        ORGANIZATION_TYPE FONDKAPREMONT_MODE  HOUSETYPE_MODE  \\\n",
       "0  Business Entity Type 3   reg oper account  block of flats   \n",
       "1                  School   reg oper account  block of flats   \n",
       "2              Government   reg oper account  block of flats   \n",
       "3  Business Entity Type 3   reg oper account  block of flats   \n",
       "4                Religion   reg oper account  block of flats   \n",
       "\n",
       "  WALLSMATERIAL_MODE EMERGENCYSTATE_MODE  \n",
       "0       Stone, brick                  No  \n",
       "1              Block                  No  \n",
       "2              Panel                  No  \n",
       "3              Panel                  No  \n",
       "4              Panel                  No  "
      ],
      "text/html": "<div>\n<style scoped>\n    .dataframe tbody tr th:only-of-type {\n        vertical-align: middle;\n    }\n\n    .dataframe tbody tr th {\n        vertical-align: top;\n    }\n\n    .dataframe thead th {\n        text-align: right;\n    }\n</style>\n<table border=\"1\" class=\"dataframe\">\n  <thead>\n    <tr style=\"text-align: right;\">\n      <th></th>\n      <th>NAME_CONTRACT_TYPE</th>\n      <th>CODE_GENDER</th>\n      <th>FLAG_OWN_CAR</th>\n      <th>FLAG_OWN_REALTY</th>\n      <th>NAME_TYPE_SUITE</th>\n      <th>NAME_INCOME_TYPE</th>\n      <th>NAME_EDUCATION_TYPE</th>\n      <th>NAME_FAMILY_STATUS</th>\n      <th>NAME_HOUSING_TYPE</th>\n      <th>OCCUPATION_TYPE</th>\n      <th>WEEKDAY_APPR_PROCESS_START</th>\n      <th>ORGANIZATION_TYPE</th>\n      <th>FONDKAPREMONT_MODE</th>\n      <th>HOUSETYPE_MODE</th>\n      <th>WALLSMATERIAL_MODE</th>\n      <th>EMERGENCYSTATE_MODE</th>\n    </tr>\n  </thead>\n  <tbody>\n    <tr>\n      <th>0</th>\n      <td>Cash loans</td>\n      <td>M</td>\n      <td>N</td>\n      <td>Y</td>\n      <td>Unaccompanied</td>\n      <td>Working</td>\n      <td>Secondary / secondary special</td>\n      <td>Single / not married</td>\n      <td>House / apartment</td>\n      <td>Laborers</td>\n      <td>WEDNESDAY</td>\n      <td>Business Entity Type 3</td>\n      <td>reg oper account</td>\n      <td>block of flats</td>\n      <td>Stone, brick</td>\n      <td>No</td>\n    </tr>\n    <tr>\n      <th>1</th>\n      <td>Cash loans</td>\n      <td>F</td>\n      <td>N</td>\n      <td>N</td>\n      <td>Family</td>\n      <td>State servant</td>\n      <td>Higher education</td>\n      <td>Married</td>\n      <td>House / apartment</td>\n      <td>Core staff</td>\n      <td>MONDAY</td>\n      <td>School</td>\n      <td>reg oper account</td>\n      <td>block of flats</td>\n      <td>Block</td>\n      <td>No</td>\n    </tr>\n    <tr>\n      <th>2</th>\n      <td>Revolving loans</td>\n      <td>M</td>\n      <td>Y</td>\n      <td>Y</td>\n      <td>Unaccompanied</td>\n      <td>Working</td>\n      <td>Secondary / secondary special</td>\n      <td>Single / not married</td>\n      <td>House / apartment</td>\n      <td>Laborers</td>\n      <td>MONDAY</td>\n      <td>Government</td>\n      <td>reg oper account</td>\n      <td>block of flats</td>\n      <td>Panel</td>\n      <td>No</td>\n    </tr>\n    <tr>\n      <th>3</th>\n      <td>Cash loans</td>\n      <td>F</td>\n      <td>N</td>\n      <td>Y</td>\n      <td>Unaccompanied</td>\n      <td>Working</td>\n      <td>Secondary / secondary special</td>\n      <td>Civil marriage</td>\n      <td>House / apartment</td>\n      <td>Laborers</td>\n      <td>WEDNESDAY</td>\n      <td>Business Entity Type 3</td>\n      <td>reg oper account</td>\n      <td>block of flats</td>\n      <td>Panel</td>\n      <td>No</td>\n    </tr>\n    <tr>\n      <th>4</th>\n      <td>Cash loans</td>\n      <td>M</td>\n      <td>N</td>\n      <td>Y</td>\n      <td>Unaccompanied</td>\n      <td>Working</td>\n      <td>Secondary / secondary special</td>\n      <td>Single / not married</td>\n      <td>House / apartment</td>\n      <td>Core staff</td>\n      <td>THURSDAY</td>\n      <td>Religion</td>\n      <td>reg oper account</td>\n      <td>block of flats</td>\n      <td>Panel</td>\n      <td>No</td>\n    </tr>\n  </tbody>\n</table>\n</div>"
     },
     "metadata": {},
     "execution_count": 36
    }
   ],
   "source": [
    "df.select_dtypes(include=\"object\").head()"
   ]
  },
  {
   "source": [
    "## Retirar variaveis que não pertence ao estudo do caso (Drop axi=1)"
   ],
   "cell_type": "markdown",
   "metadata": {}
  },
  {
   "cell_type": "code",
   "execution_count": 9,
   "metadata": {},
   "outputs": [],
   "source": [
    "df = df.drop(\"SK_ID_CURR\", axis=1)"
   ]
  },
  {
   "source": [
    "## Identificar variaveis Nulas e preencher com a media da categoria (Nan)"
   ],
   "cell_type": "markdown",
   "metadata": {}
  },
  {
   "cell_type": "code",
   "execution_count": 38,
   "metadata": {},
   "outputs": [
    {
     "output_type": "execute_result",
     "data": {
      "text/plain": [
       "NAME_CONTRACT_TYPE            0\n",
       "CODE_GENDER                   0\n",
       "FLAG_OWN_CAR                  0\n",
       "FLAG_OWN_REALTY               0\n",
       "NAME_TYPE_SUITE               0\n",
       "NAME_INCOME_TYPE              0\n",
       "NAME_EDUCATION_TYPE           0\n",
       "NAME_FAMILY_STATUS            0\n",
       "NAME_HOUSING_TYPE             0\n",
       "OCCUPATION_TYPE               0\n",
       "WEEKDAY_APPR_PROCESS_START    0\n",
       "ORGANIZATION_TYPE             0\n",
       "FONDKAPREMONT_MODE            0\n",
       "HOUSETYPE_MODE                0\n",
       "WALLSMATERIAL_MODE            0\n",
       "EMERGENCYSTATE_MODE           0\n",
       "dtype: int64"
      ]
     },
     "metadata": {},
     "execution_count": 38
    }
   ],
   "source": [
    "df.select_dtypes(include=\"object\").isnull().sum()"
   ]
  },
  {
   "cell_type": "code",
   "execution_count": 26,
   "metadata": {},
   "outputs": [],
   "source": [
    "df[\"NAME_TYPE_SUITE\"].fillna(axis=0, method=\"bfill\", inplace=True)\n",
    "df[\"OCCUPATION_TYPE\"].fillna(axis=0, method=\"bfill\", inplace=True)\n",
    "df[\"FONDKAPREMONT_MODE\"].fillna(axis=0, method=\"bfill\", inplace=True)\n",
    "df[\"HOUSETYPE_MODE\"].fillna(axis=0, method=\"bfill\", inplace=True)\n",
    "df[\"WALLSMATERIAL_MODE\"].fillna(axis=0, method=\"bfill\", inplace=True)\n",
    "df[\"EMERGENCYSTATE_MODE\"].fillna(axis=0, method=\"bfill\", inplace=True)\n",
    "df[\"FONDKAPREMONT_MODE\"].fillna(axis=0, method=\"bfill\", inplace=True)"
   ]
  },
  {
   "cell_type": "code",
   "execution_count": 37,
   "metadata": {},
   "outputs": [],
   "source": [
    "df[\"FONDKAPREMONT_MODE\"].fillna(value=\"reg oper account\", inplace=True)"
   ]
  },
  {
   "cell_type": "code",
   "execution_count": null,
   "metadata": {},
   "outputs": [],
   "source": [
    "# df.dropna(axis=1)"
   ]
  },
  {
   "cell_type": "code",
   "execution_count": 14,
   "metadata": {},
   "outputs": [
    {
     "output_type": "execute_result",
     "data": {
      "text/plain": [
       "TARGET                         0\n",
       "CNT_CHILDREN                   0\n",
       "DAYS_BIRTH                     0\n",
       "DAYS_EMPLOYED                  0\n",
       "DAYS_ID_PUBLISH                0\n",
       "FLAG_MOBIL                     0\n",
       "FLAG_EMP_PHONE                 0\n",
       "FLAG_WORK_PHONE                0\n",
       "FLAG_CONT_MOBILE               0\n",
       "FLAG_PHONE                     0\n",
       "FLAG_EMAIL                     0\n",
       "REGION_RATING_CLIENT           0\n",
       "REGION_RATING_CLIENT_W_CITY    0\n",
       "HOUR_APPR_PROCESS_START        0\n",
       "REG_REGION_NOT_LIVE_REGION     0\n",
       "REG_REGION_NOT_WORK_REGION     0\n",
       "LIVE_REGION_NOT_WORK_REGION    0\n",
       "REG_CITY_NOT_LIVE_CITY         0\n",
       "REG_CITY_NOT_WORK_CITY         0\n",
       "LIVE_CITY_NOT_WORK_CITY        0\n",
       "FLAG_DOCUMENT_2                0\n",
       "FLAG_DOCUMENT_3                0\n",
       "FLAG_DOCUMENT_4                0\n",
       "FLAG_DOCUMENT_5                0\n",
       "FLAG_DOCUMENT_6                0\n",
       "FLAG_DOCUMENT_7                0\n",
       "FLAG_DOCUMENT_8                0\n",
       "FLAG_DOCUMENT_9                0\n",
       "FLAG_DOCUMENT_10               0\n",
       "FLAG_DOCUMENT_11               0\n",
       "FLAG_DOCUMENT_12               0\n",
       "FLAG_DOCUMENT_13               0\n",
       "FLAG_DOCUMENT_14               0\n",
       "FLAG_DOCUMENT_15               0\n",
       "FLAG_DOCUMENT_16               0\n",
       "FLAG_DOCUMENT_17               0\n",
       "FLAG_DOCUMENT_18               0\n",
       "FLAG_DOCUMENT_19               0\n",
       "FLAG_DOCUMENT_20               0\n",
       "FLAG_DOCUMENT_21               0\n",
       "dtype: int64"
      ]
     },
     "metadata": {},
     "execution_count": 14
    }
   ],
   "source": [
    "df.select_dtypes(include=\"int64\").isnull().sum()"
   ]
  },
  {
   "cell_type": "code",
   "execution_count": 29,
   "metadata": {},
   "outputs": [
    {
     "output_type": "execute_result",
     "data": {
      "text/plain": [
       "AMT_INCOME_TOTAL              0\n",
       "AMT_CREDIT                    0\n",
       "AMT_ANNUITY                   0\n",
       "AMT_GOODS_PRICE               0\n",
       "REGION_POPULATION_RELATIVE    0\n",
       "                             ..\n",
       "AMT_REQ_CREDIT_BUREAU_DAY     0\n",
       "AMT_REQ_CREDIT_BUREAU_WEEK    0\n",
       "AMT_REQ_CREDIT_BUREAU_MON     0\n",
       "AMT_REQ_CREDIT_BUREAU_QRT     0\n",
       "AMT_REQ_CREDIT_BUREAU_YEAR    0\n",
       "Length: 65, dtype: int64"
      ]
     },
     "metadata": {},
     "execution_count": 29
    }
   ],
   "source": [
    "df.select_dtypes(include=\"float64\").isnull().sum()"
   ]
  },
  {
   "cell_type": "code",
   "execution_count": 18,
   "metadata": {},
   "outputs": [],
   "source": [
    "df[\"AMT_ANNUITY\"].fillna(value=df[\"AMT_ANNUITY\"].mean(), inplace=True)\n",
    "df[\"AMT_GOODS_PRICE\"].fillna(value=df[\"AMT_GOODS_PRICE\"].mean(), inplace=True)\n",
    "df[\"AMT_REQ_CREDIT_BUREAU_DAY\"].fillna(value=df[\"AMT_REQ_CREDIT_BUREAU_DAY\"].mean(), inplace=True)\n",
    "df[\"AMT_REQ_CREDIT_BUREAU_WEEK\"].fillna(value=df[\"AMT_REQ_CREDIT_BUREAU_WEEK\"].mean(), inplace=True)\n",
    "df[\"AMT_REQ_CREDIT_BUREAU_MON\"].fillna(value=df[\"AMT_REQ_CREDIT_BUREAU_MON\"].mean(), inplace=True)\n",
    "df[\"AMT_REQ_CREDIT_BUREAU_QRT\"].fillna(value=df[\"AMT_REQ_CREDIT_BUREAU_QRT\"].mean(), inplace=True)\n",
    "df[\"AMT_REQ_CREDIT_BUREAU_YEAR\"].fillna(value=df[\"AMT_REQ_CREDIT_BUREAU_YEAR\"].mean(), inplace=True)\n"
   ]
  },
  {
   "cell_type": "code",
   "execution_count": 30,
   "metadata": {},
   "outputs": [],
   "source": [
    "df.fillna(value=df.mean(), inplace=True)"
   ]
  },
  {
   "cell_type": "code",
   "execution_count": 39,
   "metadata": {},
   "outputs": [
    {
     "output_type": "execute_result",
     "data": {
      "text/plain": [
       "0"
      ]
     },
     "metadata": {},
     "execution_count": 39
    }
   ],
   "source": [
    "df.isnull().sum().sum()"
   ]
  },
  {
   "source": [
    "## Converter variaveis textos/categoricos para numericos/categoricos "
   ],
   "cell_type": "markdown",
   "metadata": {}
  },
  {
   "cell_type": "code",
   "execution_count": 40,
   "metadata": {},
   "outputs": [
    {
     "output_type": "execute_result",
     "data": {
      "text/plain": [
       "NAME_CONTRACT_TYPE            0\n",
       "CODE_GENDER                   0\n",
       "FLAG_OWN_CAR                  0\n",
       "FLAG_OWN_REALTY               0\n",
       "NAME_TYPE_SUITE               0\n",
       "NAME_INCOME_TYPE              0\n",
       "NAME_EDUCATION_TYPE           0\n",
       "NAME_FAMILY_STATUS            0\n",
       "NAME_HOUSING_TYPE             0\n",
       "OCCUPATION_TYPE               0\n",
       "WEEKDAY_APPR_PROCESS_START    0\n",
       "ORGANIZATION_TYPE             0\n",
       "FONDKAPREMONT_MODE            0\n",
       "HOUSETYPE_MODE                0\n",
       "WALLSMATERIAL_MODE            0\n",
       "EMERGENCYSTATE_MODE           0\n",
       "dtype: int64"
      ]
     },
     "metadata": {},
     "execution_count": 40
    }
   ],
   "source": [
    "df.select_dtypes(include=\"object\").isnull().sum()"
   ]
  },
  {
   "cell_type": "code",
   "execution_count": 44,
   "metadata": {},
   "outputs": [],
   "source": [
    "def convert_text_to_numetic(value, lstText):\n",
    "    for index, text in enumerate(lstText):\n",
    "        if text == value:\n",
    "            return index\n"
   ]
  },
  {
   "cell_type": "code",
   "execution_count": 48,
   "metadata": {},
   "outputs": [],
   "source": []
  },
  {
   "cell_type": "code",
   "execution_count": 51,
   "metadata": {},
   "outputs": [],
   "source": [
    "lst_Coll = [\"CODE_GENDER\", \"FLAG_OWN_CAR\", \"FLAG_OWN_REALTY\", \"NAME_TYPE_SUITE\", \"NAME_INCOME_TYPE\", \"NAME_EDUCATION_TYPE\", \"NAME_FAMILY_STATUS\", \"NAME_HOUSING_TYPE\", \"OCCUPATION_TYPE\", \"WEEKDAY_APPR_PROCESS_START\", \"ORGANIZATION_TYPE\", \"FONDKAPREMONT_MODE\", \"HOUSETYPE_MODE\", \"WALLSMATERIAL_MODE\", \"EMERGENCYSTATE_MODE\"] \n",
    "\n",
    "for col in lst_Coll:\n",
    "    lstText = df[col].unique()\n",
    "    df[\"CAT_\" + col] = [convert_text_to_numetic(text, lstText) for text in df[col].values]"
   ]
  },
  {
   "cell_type": "code",
   "execution_count": 52,
   "metadata": {},
   "outputs": [
    {
     "output_type": "execute_result",
     "data": {
      "text/plain": [
       "   TARGET NAME_CONTRACT_TYPE CODE_GENDER FLAG_OWN_CAR FLAG_OWN_REALTY  \\\n",
       "0       1         Cash loans           M            N               Y   \n",
       "1       0         Cash loans           F            N               N   \n",
       "2       0    Revolving loans           M            Y               Y   \n",
       "3       0         Cash loans           F            N               Y   \n",
       "4       0         Cash loans           M            N               Y   \n",
       "\n",
       "   CNT_CHILDREN  AMT_INCOME_TOTAL  AMT_CREDIT  AMT_ANNUITY  AMT_GOODS_PRICE  \\\n",
       "0             0          202500.0    406597.5      24700.5         351000.0   \n",
       "1             0          270000.0   1293502.5      35698.5        1129500.0   \n",
       "2             0           67500.0    135000.0       6750.0         135000.0   \n",
       "3             0          135000.0    312682.5      29686.5         297000.0   \n",
       "4             0          121500.0    513000.0      21865.5         513000.0   \n",
       "\n",
       "   ... CAT_NAME_EDUCATION_TYPE CAT_NAME_FAMILY_STATUS CAT_NAME_HOUSING_TYPE  \\\n",
       "0  ...                       0                      0                     0   \n",
       "1  ...                       1                      1                     0   \n",
       "2  ...                       0                      0                     0   \n",
       "3  ...                       0                      2                     0   \n",
       "4  ...                       0                      0                     0   \n",
       "\n",
       "  CAT_OCCUPATION_TYPE CAT_WEEKDAY_APPR_PROCESS_START  CAT_ORGANIZATION_TYPE  \\\n",
       "0                   0                              0                      0   \n",
       "1                   1                              1                      1   \n",
       "2                   0                              1                      2   \n",
       "3                   0                              0                      0   \n",
       "4                   1                              2                      3   \n",
       "\n",
       "   CAT_FONDKAPREMONT_MODE  CAT_HOUSETYPE_MODE  CAT_WALLSMATERIAL_MODE  \\\n",
       "0                       0                   0                       0   \n",
       "1                       0                   0                       1   \n",
       "2                       0                   0                       2   \n",
       "3                       0                   0                       2   \n",
       "4                       0                   0                       2   \n",
       "\n",
       "   CAT_EMERGENCYSTATE_MODE  \n",
       "0                        0  \n",
       "1                        0  \n",
       "2                        0  \n",
       "3                        0  \n",
       "4                        0  \n",
       "\n",
       "[5 rows x 137 columns]"
      ],
      "text/html": "<div>\n<style scoped>\n    .dataframe tbody tr th:only-of-type {\n        vertical-align: middle;\n    }\n\n    .dataframe tbody tr th {\n        vertical-align: top;\n    }\n\n    .dataframe thead th {\n        text-align: right;\n    }\n</style>\n<table border=\"1\" class=\"dataframe\">\n  <thead>\n    <tr style=\"text-align: right;\">\n      <th></th>\n      <th>TARGET</th>\n      <th>NAME_CONTRACT_TYPE</th>\n      <th>CODE_GENDER</th>\n      <th>FLAG_OWN_CAR</th>\n      <th>FLAG_OWN_REALTY</th>\n      <th>CNT_CHILDREN</th>\n      <th>AMT_INCOME_TOTAL</th>\n      <th>AMT_CREDIT</th>\n      <th>AMT_ANNUITY</th>\n      <th>AMT_GOODS_PRICE</th>\n      <th>...</th>\n      <th>CAT_NAME_EDUCATION_TYPE</th>\n      <th>CAT_NAME_FAMILY_STATUS</th>\n      <th>CAT_NAME_HOUSING_TYPE</th>\n      <th>CAT_OCCUPATION_TYPE</th>\n      <th>CAT_WEEKDAY_APPR_PROCESS_START</th>\n      <th>CAT_ORGANIZATION_TYPE</th>\n      <th>CAT_FONDKAPREMONT_MODE</th>\n      <th>CAT_HOUSETYPE_MODE</th>\n      <th>CAT_WALLSMATERIAL_MODE</th>\n      <th>CAT_EMERGENCYSTATE_MODE</th>\n    </tr>\n  </thead>\n  <tbody>\n    <tr>\n      <th>0</th>\n      <td>1</td>\n      <td>Cash loans</td>\n      <td>M</td>\n      <td>N</td>\n      <td>Y</td>\n      <td>0</td>\n      <td>202500.0</td>\n      <td>406597.5</td>\n      <td>24700.5</td>\n      <td>351000.0</td>\n      <td>...</td>\n      <td>0</td>\n      <td>0</td>\n      <td>0</td>\n      <td>0</td>\n      <td>0</td>\n      <td>0</td>\n      <td>0</td>\n      <td>0</td>\n      <td>0</td>\n      <td>0</td>\n    </tr>\n    <tr>\n      <th>1</th>\n      <td>0</td>\n      <td>Cash loans</td>\n      <td>F</td>\n      <td>N</td>\n      <td>N</td>\n      <td>0</td>\n      <td>270000.0</td>\n      <td>1293502.5</td>\n      <td>35698.5</td>\n      <td>1129500.0</td>\n      <td>...</td>\n      <td>1</td>\n      <td>1</td>\n      <td>0</td>\n      <td>1</td>\n      <td>1</td>\n      <td>1</td>\n      <td>0</td>\n      <td>0</td>\n      <td>1</td>\n      <td>0</td>\n    </tr>\n    <tr>\n      <th>2</th>\n      <td>0</td>\n      <td>Revolving loans</td>\n      <td>M</td>\n      <td>Y</td>\n      <td>Y</td>\n      <td>0</td>\n      <td>67500.0</td>\n      <td>135000.0</td>\n      <td>6750.0</td>\n      <td>135000.0</td>\n      <td>...</td>\n      <td>0</td>\n      <td>0</td>\n      <td>0</td>\n      <td>0</td>\n      <td>1</td>\n      <td>2</td>\n      <td>0</td>\n      <td>0</td>\n      <td>2</td>\n      <td>0</td>\n    </tr>\n    <tr>\n      <th>3</th>\n      <td>0</td>\n      <td>Cash loans</td>\n      <td>F</td>\n      <td>N</td>\n      <td>Y</td>\n      <td>0</td>\n      <td>135000.0</td>\n      <td>312682.5</td>\n      <td>29686.5</td>\n      <td>297000.0</td>\n      <td>...</td>\n      <td>0</td>\n      <td>2</td>\n      <td>0</td>\n      <td>0</td>\n      <td>0</td>\n      <td>0</td>\n      <td>0</td>\n      <td>0</td>\n      <td>2</td>\n      <td>0</td>\n    </tr>\n    <tr>\n      <th>4</th>\n      <td>0</td>\n      <td>Cash loans</td>\n      <td>M</td>\n      <td>N</td>\n      <td>Y</td>\n      <td>0</td>\n      <td>121500.0</td>\n      <td>513000.0</td>\n      <td>21865.5</td>\n      <td>513000.0</td>\n      <td>...</td>\n      <td>0</td>\n      <td>0</td>\n      <td>0</td>\n      <td>1</td>\n      <td>2</td>\n      <td>3</td>\n      <td>0</td>\n      <td>0</td>\n      <td>2</td>\n      <td>0</td>\n    </tr>\n  </tbody>\n</table>\n<p>5 rows × 137 columns</p>\n</div>"
     },
     "metadata": {},
     "execution_count": 52
    }
   ],
   "source": [
    "df.head()"
   ]
  },
  {
   "source": [
    "## Retirar registros que tenha variaveis com outliers (Escor Z)"
   ],
   "cell_type": "markdown",
   "metadata": {}
  },
  {
   "cell_type": "code",
   "execution_count": 55,
   "metadata": {},
   "outputs": [],
   "source": [
    "name_columns = df.select_dtypes(include=\"float64\").columns\n",
    "des_target = df[\"TARGET\"].unique()"
   ]
  },
  {
   "cell_type": "code",
   "execution_count": 58,
   "metadata": {},
   "outputs": [],
   "source": [
    "name_columns = df.select_dtypes(include=\"int64\").columns"
   ]
  },
  {
   "cell_type": "code",
   "execution_count": 59,
   "metadata": {},
   "outputs": [
    {
     "output_type": "stream",
     "name": "stdout",
     "text": [
      "Classe: 1 - variavel: TARGET\n",
      "Real Min: 0.000 Real Max: 0.000\n",
      "Limit Min: 0.000 Limit Max: 0.000\n",
      "Identfied outliers: 0 \n",
      "\n",
      "Classe: 0 - variavel: TARGET\n",
      "Real Min: 1.000 Real Max: 1.000\n",
      "Limit Min: 1.000 Limit Max: 1.000\n",
      "Identfied outliers: 0 \n",
      "\n",
      "Classe: 1 - variavel: CNT_CHILDREN\n",
      "Real Min: 0.000 Real Max: 3.000\n",
      "Limit Min: -1.267 Limit Max: 2.064\n",
      "Identfied outliers: 89 \n",
      "\n",
      "Classe: 0 - variavel: CNT_CHILDREN\n",
      "Real Min: 0.000 Real Max: 3.000\n",
      "Limit Min: -1.272 Limit Max: 2.174\n",
      "Identfied outliers: 14 \n",
      "\n",
      "Classe: 1 - variavel: DAYS_BIRTH\n",
      "Real Min: -25197.000 Real Max: -7673.000\n",
      "Limit Min: -26884.932 Limit Max: -5324.654\n",
      "Identfied outliers: 0 \n",
      "\n",
      "Classe: 0 - variavel: DAYS_BIRTH\n",
      "Real Min: -25168.000 Real Max: -7680.000\n",
      "Limit Min: -25160.024 Limit Max: -4256.516\n",
      "Identfied outliers: 1 \n",
      "\n",
      "Classe: 1 - variavel: DAYS_EMPLOYED\n",
      "Real Min: -17522.000 Real Max: 365243.000\n",
      "Limit Min: -294063.184 Limit Max: 430952.805\n",
      "Identfied outliers: 0 \n",
      "\n",
      "Classe: 0 - variavel: DAYS_EMPLOYED\n",
      "Real Min: -14540.000 Real Max: 365243.000\n",
      "Limit Min: -256050.590 Limit Max: 340932.673\n",
      "Identfied outliers: 1017 \n",
      "\n",
      "Classe: 1 - variavel: DAYS_ID_PUBLISH\n",
      "Real Min: -6383.000 Real Max: 0.000\n",
      "Limit Min: -6752.407 Limit Max: 784.952\n",
      "Identfied outliers: 0 \n",
      "\n",
      "Classe: 0 - variavel: DAYS_ID_PUBLISH\n",
      "Real Min: -6070.000 Real Max: 0.000\n",
      "Limit Min: -6309.906 Limit Max: 1154.055\n",
      "Identfied outliers: 0 \n",
      "\n",
      "Classe: 1 - variavel: FLAG_MOBIL\n",
      "Real Min: 1.000 Real Max: 1.000\n",
      "Limit Min: 1.000 Limit Max: 1.000\n",
      "Identfied outliers: 0 \n",
      "\n",
      "Classe: 0 - variavel: FLAG_MOBIL\n",
      "Real Min: 1.000 Real Max: 1.000\n",
      "Limit Min: 1.000 Limit Max: 1.000\n",
      "Identfied outliers: 0 \n",
      "\n",
      "Classe: 1 - variavel: FLAG_EMP_PHONE\n",
      "Real Min: 0.000 Real Max: 1.000\n",
      "Limit Min: -0.179 Limit Max: 1.793\n",
      "Identfied outliers: 0 \n",
      "\n",
      "Classe: 0 - variavel: FLAG_EMP_PHONE\n",
      "Real Min: 0.000 Real Max: 1.000\n",
      "Limit Min: 0.971 Limit Max: 1.029\n",
      "Identfied outliers: 1 \n",
      "\n",
      "Classe: 1 - variavel: FLAG_WORK_PHONE\n",
      "Real Min: 0.000 Real Max: 1.000\n",
      "Limit Min: -0.822 Limit Max: 1.283\n",
      "Identfied outliers: 0 \n",
      "\n",
      "Classe: 0 - variavel: FLAG_WORK_PHONE\n",
      "Real Min: 0.000 Real Max: 1.000\n",
      "Limit Min: -0.846 Limit Max: 1.481\n",
      "Identfied outliers: 0 \n",
      "\n",
      "Classe: 1 - variavel: FLAG_CONT_MOBILE\n",
      "Real Min: 0.000 Real Max: 1.000\n",
      "Limit Min: 0.901 Limit Max: 1.096\n",
      "Identfied outliers: 127 \n",
      "\n",
      "Classe: 0 - variavel: FLAG_CONT_MOBILE\n",
      "Real Min: 0.000 Real Max: 1.000\n",
      "Limit Min: 0.922 Limit Max: 1.076\n",
      "Identfied outliers: 7 \n",
      "\n",
      "Classe: 1 - variavel: FLAG_PHONE\n",
      "Real Min: 0.000 Real Max: 1.000\n",
      "Limit Min: -0.836 Limit Max: 1.353\n",
      "Identfied outliers: 0 \n",
      "\n",
      "Classe: 0 - variavel: FLAG_PHONE\n",
      "Real Min: 0.000 Real Max: 1.000\n",
      "Limit Min: -0.823 Limit Max: 1.285\n",
      "Identfied outliers: 0 \n",
      "\n",
      "Classe: 1 - variavel: FLAG_EMAIL\n",
      "Real Min: 0.000 Real Max: 1.000\n",
      "Limit Min: -0.452 Limit Max: 0.534\n",
      "Identfied outliers: 3369 \n",
      "\n",
      "Classe: 0 - variavel: FLAG_EMAIL\n",
      "Real Min: 0.000 Real Max: 1.000\n",
      "Limit Min: -0.465 Limit Max: 0.551\n",
      "Identfied outliers: 320 \n",
      "\n",
      "Classe: 1 - variavel: REGION_RATING_CLIENT\n",
      "Real Min: 1.000 Real Max: 3.000\n",
      "Limit Min: 1.016 Limit Max: 3.254\n",
      "Identfied outliers: 3339 \n",
      "\n",
      "Classe: 0 - variavel: REGION_RATING_CLIENT\n",
      "Real Min: 1.000 Real Max: 3.000\n",
      "Limit Min: 1.039 Limit Max: 3.434\n",
      "Identfied outliers: 174 \n",
      "\n",
      "Classe: 1 - variavel: REGION_RATING_CLIENT_W_CITY\n",
      "Real Min: 1.000 Real Max: 3.000\n",
      "Limit Min: 1.211 Limit Max: 3.145\n",
      "Identfied outliers: 122 \n",
      "\n",
      "Classe: 0 - variavel: REGION_RATING_CLIENT_W_CITY\n",
      "Real Min: 1.000 Real Max: 3.000\n",
      "Limit Min: 1.155 Limit Max: 3.369\n",
      "Identfied outliers: 10 \n",
      "\n",
      "Classe: 1 - variavel: HOUR_APPR_PROCESS_START\n",
      "Real Min: 0.000 Real Max: 23.000\n",
      "Limit Min: 3.826 Limit Max: 19.574\n",
      "Identfied outliers: 752 \n",
      "\n",
      "Classe: 0 - variavel: HOUR_APPR_PROCESS_START\n",
      "Real Min: 0.000 Real Max: 22.000\n",
      "Limit Min: 3.327 Limit Max: 19.833\n",
      "Identfied outliers: 72 \n",
      "\n",
      "Classe: 1 - variavel: REG_REGION_NOT_LIVE_REGION\n",
      "Real Min: 0.000 Real Max: 1.000\n",
      "Limit Min: -0.284 Limit Max: 0.313\n",
      "Identfied outliers: 1095 \n",
      "\n",
      "Classe: 0 - variavel: REG_REGION_NOT_LIVE_REGION\n",
      "Real Min: 0.000 Real Max: 1.000\n",
      "Limit Min: -0.347 Limit Max: 0.392\n",
      "Identfied outliers: 153 \n",
      "\n",
      "Classe: 1 - variavel: REG_REGION_NOT_WORK_REGION\n",
      "Real Min: 0.000 Real Max: 1.000\n",
      "Limit Min: -0.402 Limit Max: 0.464\n",
      "Identfied outliers: 2308 \n",
      "\n",
      "Classe: 0 - variavel: REG_REGION_NOT_WORK_REGION\n",
      "Real Min: 0.000 Real Max: 1.000\n",
      "Limit Min: -0.478 Limit Max: 0.571\n",
      "Identfied outliers: 309 \n",
      "\n",
      "Classe: 1 - variavel: LIVE_REGION_NOT_WORK_REGION\n",
      "Real Min: 0.000 Real Max: 0.000\n",
      "Limit Min: 0.000 Limit Max: 0.000\n",
      "Identfied outliers: 0 \n",
      "\n",
      "Classe: 0 - variavel: LIVE_REGION_NOT_WORK_REGION\n",
      "Real Min: 0.000 Real Max: 0.000\n",
      "Limit Min: 0.000 Limit Max: 0.000\n",
      "Identfied outliers: 0 \n",
      "\n",
      "Classe: 1 - variavel: REG_CITY_NOT_LIVE_CITY\n",
      "Real Min: 0.000 Real Max: 1.000\n",
      "Limit Min: -0.659 Limit Max: 0.868\n",
      "Identfied outliers: 7511 \n",
      "\n",
      "Classe: 0 - variavel: REG_CITY_NOT_LIVE_CITY\n",
      "Real Min: 0.000 Real Max: 1.000\n",
      "Limit Min: -0.779 Limit Max: 1.135\n",
      "Identfied outliers: 0 \n",
      "\n",
      "Classe: 1 - variavel: REG_CITY_NOT_WORK_CITY\n",
      "Real Min: 0.000 Real Max: 1.000\n",
      "Limit Min: -0.831 Limit Max: 1.325\n",
      "Identfied outliers: 0 \n",
      "\n",
      "Classe: 0 - variavel: REG_CITY_NOT_WORK_CITY\n",
      "Real Min: 0.000 Real Max: 1.000\n",
      "Limit Min: -0.783 Limit Max: 1.711\n",
      "Identfied outliers: 0 \n",
      "\n",
      "Classe: 1 - variavel: LIVE_CITY_NOT_WORK_CITY\n",
      "Real Min: 0.000 Real Max: 1.000\n",
      "Limit Min: -0.831 Limit Max: 1.325\n",
      "Identfied outliers: 0 \n",
      "\n",
      "Classe: 0 - variavel: LIVE_CITY_NOT_WORK_CITY\n",
      "Real Min: 0.000 Real Max: 1.000\n",
      "Limit Min: -0.846 Limit Max: 1.505\n",
      "Identfied outliers: 0 \n",
      "\n",
      "Classe: 1 - variavel: FLAG_DOCUMENT_2\n",
      "Real Min: 0.000 Real Max: 0.000\n",
      "Limit Min: 0.000 Limit Max: 0.000\n",
      "Identfied outliers: 0 \n",
      "\n",
      "Classe: 0 - variavel: FLAG_DOCUMENT_2\n",
      "Real Min: 0.000 Real Max: 0.000\n",
      "Limit Min: 0.000 Limit Max: 0.000\n",
      "Identfied outliers: 0 \n",
      "\n",
      "Classe: 1 - variavel: FLAG_DOCUMENT_3\n",
      "Real Min: 0.000 Real Max: 1.000\n",
      "Limit Min: -0.407 Limit Max: 1.843\n",
      "Identfied outliers: 0 \n",
      "\n",
      "Classe: 0 - variavel: FLAG_DOCUMENT_3\n",
      "Real Min: 0.000 Real Max: 1.000\n",
      "Limit Min: -0.090 Limit Max: 1.762\n",
      "Identfied outliers: 0 \n",
      "\n",
      "Classe: 1 - variavel: FLAG_DOCUMENT_4\n",
      "Real Min: 0.000 Real Max: 1.000\n",
      "Limit Min: -0.028 Limit Max: 0.028\n",
      "Identfied outliers: 8 \n",
      "\n",
      "Classe: 0 - variavel: FLAG_DOCUMENT_4\n",
      "Real Min: 0.000 Real Max: 0.000\n",
      "Limit Min: 0.000 Limit Max: 0.000\n",
      "Identfied outliers: 0 \n",
      "\n",
      "Classe: 1 - variavel: FLAG_DOCUMENT_5\n",
      "Real Min: 0.000 Real Max: 1.000\n",
      "Limit Min: -0.288 Limit Max: 0.318\n",
      "Identfied outliers: 965 \n",
      "\n",
      "Classe: 0 - variavel: FLAG_DOCUMENT_5\n",
      "Real Min: 0.000 Real Max: 1.000\n",
      "Limit Min: -0.305 Limit Max: 0.339\n",
      "Identfied outliers: 108 \n",
      "\n",
      "Classe: 1 - variavel: FLAG_DOCUMENT_6\n",
      "Real Min: 0.000 Real Max: 1.000\n",
      "Limit Min: -0.676 Limit Max: 0.899\n",
      "Identfied outliers: 7111 \n",
      "\n",
      "Classe: 0 - variavel: FLAG_DOCUMENT_6\n",
      "Real Min: 0.000 Real Max: 1.000\n",
      "Limit Min: -0.188 Limit Max: 0.200\n",
      "Identfied outliers: 38 \n",
      "\n",
      "Classe: 1 - variavel: FLAG_DOCUMENT_7\n",
      "Real Min: 0.000 Real Max: 1.000\n",
      "Limit Min: -0.026 Limit Max: 0.026\n",
      "Identfied outliers: 6 \n",
      "\n",
      "Classe: 0 - variavel: FLAG_DOCUMENT_7\n",
      "Real Min: 0.000 Real Max: 1.000\n",
      "Limit Min: -0.031 Limit Max: 0.032\n",
      "Identfied outliers: 1 \n",
      "\n",
      "Classe: 1 - variavel: FLAG_DOCUMENT_8\n",
      "Real Min: 0.000 Real Max: 1.000\n",
      "Limit Min: -0.570 Limit Max: 0.711\n",
      "Identfied outliers: 3994 \n",
      "\n",
      "Classe: 0 - variavel: FLAG_DOCUMENT_8\n",
      "Real Min: 0.000 Real Max: 1.000\n",
      "Limit Min: -0.570 Limit Max: 0.712\n",
      "Identfied outliers: 442 \n",
      "\n",
      "Classe: 1 - variavel: FLAG_DOCUMENT_9\n",
      "Real Min: 0.000 Real Max: 1.000\n",
      "Limit Min: -0.115 Limit Max: 0.119\n",
      "Identfied outliers: 115 \n",
      "\n",
      "Classe: 0 - variavel: FLAG_DOCUMENT_9\n",
      "Real Min: 0.000 Real Max: 1.000\n",
      "Limit Min: -0.128 Limit Max: 0.134\n",
      "Identfied outliers: 16 \n",
      "\n",
      "Classe: 1 - variavel: FLAG_DOCUMENT_10\n",
      "Real Min: 0.000 Real Max: 0.000\n",
      "Limit Min: 0.000 Limit Max: 0.000\n",
      "Identfied outliers: 0 \n",
      "\n",
      "Classe: 0 - variavel: FLAG_DOCUMENT_10\n",
      "Real Min: 0.000 Real Max: 0.000\n",
      "Limit Min: 0.000 Limit Max: 0.000\n",
      "Identfied outliers: 0 \n",
      "\n",
      "Classe: 1 - variavel: FLAG_DOCUMENT_11\n",
      "Real Min: 0.000 Real Max: 1.000\n",
      "Limit Min: -0.111 Limit Max: 0.115\n",
      "Identfied outliers: 107 \n",
      "\n",
      "Classe: 0 - variavel: FLAG_DOCUMENT_11\n",
      "Real Min: 0.000 Real Max: 1.000\n",
      "Limit Min: -0.092 Limit Max: 0.094\n",
      "Identfied outliers: 8 \n",
      "\n",
      "Classe: 1 - variavel: FLAG_DOCUMENT_12\n",
      "Real Min: 0.000 Real Max: 0.000\n",
      "Limit Min: 0.000 Limit Max: 0.000\n",
      "Identfied outliers: 0 \n",
      "\n",
      "Classe: 0 - variavel: FLAG_DOCUMENT_12\n",
      "Real Min: 0.000 Real Max: 0.000\n",
      "Limit Min: 0.000 Limit Max: 0.000\n",
      "Identfied outliers: 0 \n",
      "\n",
      "Classe: 1 - variavel: FLAG_DOCUMENT_13\n",
      "Real Min: 0.000 Real Max: 1.000\n",
      "Limit Min: -0.102 Limit Max: 0.106\n",
      "Identfied outliers: 91 \n",
      "\n",
      "Classe: 0 - variavel: FLAG_DOCUMENT_13\n",
      "Real Min: 0.000 Real Max: 1.000\n",
      "Limit Min: -0.056 Limit Max: 0.057\n",
      "Identfied outliers: 3 \n",
      "\n",
      "Classe: 1 - variavel: FLAG_DOCUMENT_14\n",
      "Real Min: 0.000 Real Max: 1.000\n",
      "Limit Min: -0.074 Limit Max: 0.076\n",
      "Identfied outliers: 47 \n",
      "\n",
      "Classe: 0 - variavel: FLAG_DOCUMENT_14\n",
      "Real Min: 0.000 Real Max: 1.000\n",
      "Limit Min: -0.056 Limit Max: 0.057\n",
      "Identfied outliers: 3 \n",
      "\n",
      "Classe: 1 - variavel: FLAG_DOCUMENT_15\n",
      "Real Min: 0.000 Real Max: 1.000\n",
      "Limit Min: -0.065 Limit Max: 0.066\n",
      "Identfied outliers: 36 \n",
      "\n",
      "Classe: 0 - variavel: FLAG_DOCUMENT_15\n",
      "Real Min: 0.000 Real Max: 0.000\n",
      "Limit Min: 0.000 Limit Max: 0.000\n",
      "Identfied outliers: 0 \n",
      "\n",
      "Classe: 1 - variavel: FLAG_DOCUMENT_16\n",
      "Real Min: 0.000 Real Max: 1.000\n",
      "Limit Min: -0.222 Limit Max: 0.240\n",
      "Identfied outliers: 449 \n",
      "\n",
      "Classe: 0 - variavel: FLAG_DOCUMENT_16\n",
      "Real Min: 0.000 Real Max: 1.000\n",
      "Limit Min: -0.136 Limit Max: 0.143\n",
      "Identfied outliers: 18 \n",
      "\n",
      "Classe: 1 - variavel: FLAG_DOCUMENT_17\n",
      "Real Min: 0.000 Real Max: 1.000\n",
      "Limit Min: -0.033 Limit Max: 0.033\n",
      "Identfied outliers: 9 \n",
      "\n",
      "Classe: 0 - variavel: FLAG_DOCUMENT_17\n",
      "Real Min: 0.000 Real Max: 1.000\n",
      "Limit Min: -0.033 Limit Max: 0.033\n",
      "Identfied outliers: 1 \n",
      "\n",
      "Classe: 1 - variavel: FLAG_DOCUMENT_18\n",
      "Real Min: 0.000 Real Max: 1.000\n",
      "Limit Min: -0.199 Limit Max: 0.213\n",
      "Identfied outliers: 353 \n",
      "\n",
      "Classe: 0 - variavel: FLAG_DOCUMENT_18\n",
      "Real Min: 0.000 Real Max: 1.000\n",
      "Limit Min: -0.180 Limit Max: 0.192\n",
      "Identfied outliers: 32 \n",
      "\n",
      "Classe: 1 - variavel: FLAG_DOCUMENT_19\n",
      "Real Min: 0.000 Real Max: 1.000\n",
      "Limit Min: -0.056 Limit Max: 0.057\n",
      "Identfied outliers: 26 \n",
      "\n",
      "Classe: 0 - variavel: FLAG_DOCUMENT_19\n",
      "Real Min: 0.000 Real Max: 0.000\n",
      "Limit Min: 0.000 Limit Max: 0.000\n",
      "Identfied outliers: 0 \n",
      "\n",
      "Classe: 1 - variavel: FLAG_DOCUMENT_20\n",
      "Real Min: 0.000 Real Max: 0.000\n",
      "Limit Min: 0.000 Limit Max: 0.000\n",
      "Identfied outliers: 0 \n",
      "\n",
      "Classe: 0 - variavel: FLAG_DOCUMENT_20\n",
      "Real Min: 0.000 Real Max: 0.000\n",
      "Limit Min: 0.000 Limit Max: 0.000\n",
      "Identfied outliers: 0 \n",
      "\n",
      "Classe: 1 - variavel: FLAG_DOCUMENT_21\n",
      "Real Min: 0.000 Real Max: 1.000\n",
      "Limit Min: -0.036 Limit Max: 0.037\n",
      "Identfied outliers: 11 \n",
      "\n",
      "Classe: 0 - variavel: FLAG_DOCUMENT_21\n",
      "Real Min: 0.000 Real Max: 1.000\n",
      "Limit Min: -0.033 Limit Max: 0.033\n",
      "Identfied outliers: 1 \n",
      "\n",
      "Classe: 1 - variavel: CAT_NAME_CONTRACT_TYPE\n",
      "Real Min: 0.000 Real Max: 1.000\n",
      "Limit Min: -0.669 Limit Max: 0.886\n",
      "Identfied outliers: 5563 \n",
      "\n",
      "Classe: 0 - variavel: CAT_NAME_CONTRACT_TYPE\n",
      "Real Min: 0.000 Real Max: 1.000\n",
      "Limit Min: -0.581 Limit Max: 0.729\n",
      "Identfied outliers: 424 \n",
      "\n",
      "Classe: 1 - variavel: CAT_CODE_GENDER\n",
      "Real Min: 0.000 Real Max: 1.000\n",
      "Limit Min: -0.429 Limit Max: 1.845\n",
      "Identfied outliers: 0 \n",
      "\n",
      "Classe: 0 - variavel: CAT_CODE_GENDER\n",
      "Real Min: 0.000 Real Max: 1.000\n",
      "Limit Min: -0.652 Limit Max: 1.815\n",
      "Identfied outliers: 0 \n",
      "\n",
      "Classe: 1 - variavel: CAT_FLAG_OWN_CAR\n",
      "Real Min: 0.000 Real Max: 1.000\n",
      "Limit Min: -0.846 Limit Max: 1.484\n",
      "Identfied outliers: 0 \n",
      "\n",
      "Classe: 0 - variavel: CAT_FLAG_OWN_CAR\n",
      "Real Min: 0.000 Real Max: 1.000\n",
      "Limit Min: -0.843 Limit Max: 1.408\n",
      "Identfied outliers: 0 \n",
      "\n",
      "Classe: 1 - variavel: CAT_FLAG_OWN_REALTY\n",
      "Real Min: 0.000 Real Max: 1.000\n",
      "Limit Min: -0.846 Limit Max: 1.452\n",
      "Identfied outliers: 0 \n",
      "\n",
      "Classe: 0 - variavel: CAT_FLAG_OWN_REALTY\n",
      "Real Min: 0.000 Real Max: 1.000\n",
      "Limit Min: -0.844 Limit Max: 1.533\n",
      "Identfied outliers: 0 \n",
      "\n",
      "Classe: 1 - variavel: CAT_NAME_TYPE_SUITE\n",
      "Real Min: 0.000 Real Max: 6.000\n",
      "Limit Min: -1.480 Limit Max: 2.093\n",
      "Identfied outliers: 860 \n",
      "\n",
      "Classe: 0 - variavel: CAT_NAME_TYPE_SUITE\n",
      "Real Min: 0.000 Real Max: 6.000\n",
      "Limit Min: -1.579 Limit Max: 2.155\n",
      "Identfied outliers: 106 \n",
      "\n",
      "Classe: 1 - variavel: CAT_NAME_INCOME_TYPE\n",
      "Real Min: 0.000 Real Max: 5.000\n",
      "Limit Min: -2.029 Limit Max: 3.794\n",
      "Identfied outliers: 4 \n",
      "\n",
      "Classe: 0 - variavel: CAT_NAME_INCOME_TYPE\n",
      "Real Min: 0.000 Real Max: 2.000\n",
      "Limit Min: -1.544 Limit Max: 2.455\n",
      "Identfied outliers: 0 \n",
      "\n",
      "Classe: 1 - variavel: CAT_NAME_EDUCATION_TYPE\n",
      "Real Min: 0.000 Real Max: 4.000\n",
      "Limit Min: -1.201 Limit Max: 1.724\n",
      "Identfied outliers: 1790 \n",
      "\n",
      "Classe: 0 - variavel: CAT_NAME_EDUCATION_TYPE\n",
      "Real Min: 0.000 Real Max: 3.000\n",
      "Limit Min: -1.274 Limit Max: 1.735\n",
      "Identfied outliers: 257 \n",
      "\n",
      "Classe: 1 - variavel: CAT_NAME_FAMILY_STATUS\n",
      "Real Min: 0.000 Real Max: 4.000\n",
      "Limit Min: -1.018 Limit Max: 3.516\n",
      "Identfied outliers: 2342 \n",
      "\n",
      "Classe: 0 - variavel: CAT_NAME_FAMILY_STATUS\n",
      "Real Min: 0.000 Real Max: 4.000\n",
      "Limit Min: -1.152 Limit Max: 3.482\n",
      "Identfied outliers: 281 \n",
      "\n",
      "Classe: 1 - variavel: CAT_NAME_HOUSING_TYPE\n",
      "Real Min: 0.000 Real Max: 5.000\n",
      "Limit Min: -1.555 Limit Max: 1.939\n",
      "Identfied outliers: 2872 \n",
      "\n",
      "Classe: 0 - variavel: CAT_NAME_HOUSING_TYPE\n",
      "Real Min: 0.000 Real Max: 5.000\n",
      "Limit Min: -1.717 Limit Max: 2.336\n",
      "Identfied outliers: 146 \n",
      "\n",
      "Classe: 1 - variavel: CAT_OCCUPATION_TYPE\n",
      "Real Min: 0.000 Real Max: 17.000\n",
      "Limit Min: -5.554 Limit Max: 13.135\n",
      "Identfied outliers: 450 \n",
      "\n",
      "Classe: 0 - variavel: CAT_OCCUPATION_TYPE\n",
      "Real Min: 0.000 Real Max: 17.000\n",
      "Limit Min: -5.650 Limit Max: 13.194\n",
      "Identfied outliers: 35 \n",
      "\n",
      "Classe: 1 - variavel: CAT_WEEKDAY_APPR_PROCESS_START\n",
      "Real Min: 0.000 Real Max: 6.000\n",
      "Limit Min: -2.463 Limit Max: 8.406\n",
      "Identfied outliers: 0 \n",
      "\n",
      "Classe: 0 - variavel: CAT_WEEKDAY_APPR_PROCESS_START\n",
      "Real Min: 0.000 Real Max: 6.000\n",
      "Limit Min: -2.476 Limit Max: 8.423\n",
      "Identfied outliers: 0 \n",
      "\n",
      "Classe: 1 - variavel: CAT_ORGANIZATION_TYPE\n",
      "Real Min: 0.000 Real Max: 57.000\n",
      "Limit Min: -16.493 Limit Max: 35.606\n",
      "Identfied outliers: 1609 \n",
      "\n",
      "Classe: 0 - variavel: CAT_ORGANIZATION_TYPE\n",
      "Real Min: 0.000 Real Max: 56.000\n",
      "Limit Min: -17.421 Limit Max: 38.302\n",
      "Identfied outliers: 67 \n",
      "\n",
      "Classe: 1 - variavel: CAT_FONDKAPREMONT_MODE\n",
      "Real Min: 0.000 Real Max: 3.000\n",
      "Limit Min: -1.826 Limit Max: 2.793\n",
      "Identfied outliers: 2104 \n",
      "\n",
      "Classe: 0 - variavel: CAT_FONDKAPREMONT_MODE\n",
      "Real Min: 0.000 Real Max: 3.000\n",
      "Limit Min: -1.821 Limit Max: 2.786\n",
      "Identfied outliers: 255 \n",
      "\n",
      "Classe: 1 - variavel: CAT_HOUSETYPE_MODE\n",
      "Real Min: 0.000 Real Max: 2.000\n",
      "Limit Min: -0.508 Limit Max: 0.562\n",
      "Identfied outliers: 566 \n",
      "\n",
      "Classe: 0 - variavel: CAT_HOUSETYPE_MODE\n",
      "Real Min: 0.000 Real Max: 2.000\n",
      "Limit Min: -0.530 Limit Max: 0.588\n",
      "Identfied outliers: 76 \n",
      "\n",
      "Classe: 1 - variavel: CAT_WALLSMATERIAL_MODE\n",
      "Real Min: 0.000 Real Max: 6.000\n",
      "Limit Min: -1.917 Limit Max: 4.358\n",
      "Identfied outliers: 674 \n",
      "\n",
      "Classe: 0 - variavel: CAT_WALLSMATERIAL_MODE\n",
      "Real Min: 0.000 Real Max: 6.000\n",
      "Limit Min: -1.926 Limit Max: 4.388\n",
      "Identfied outliers: 83 \n",
      "\n",
      "Classe: 1 - variavel: CAT_EMERGENCYSTATE_MODE\n",
      "Real Min: 0.000 Real Max: 1.000\n",
      "Limit Min: -0.258 Limit Max: 0.281\n",
      "Identfied outliers: 382 \n",
      "\n",
      "Classe: 0 - variavel: CAT_EMERGENCYSTATE_MODE\n",
      "Real Min: 0.000 Real Max: 1.000\n",
      "Limit Min: -0.258 Limit Max: 0.282\n",
      "Identfied outliers: 47 \n",
      "\n"
     ]
    }
   ],
   "source": [
    "for variavel in name_columns:\n",
    "    df_defaut = []\n",
    "    for value, target in enumerate(des_target):\n",
    "        dados = df[df[\"TARGET\"]==value]\n",
    "        print(f\"Classe: {des_target[value]} - variavel: {variavel}\")\n",
    "\n",
    "        data_mean, data_std = dados[variavel].mean(), dados[variavel].std()\n",
    "        data_min, data_max = dados[variavel].min(), dados[variavel].max()\n",
    "        print(\"Real Min: %.3f Real Max: %.3f\" %  (data_min, data_max))\n",
    "\n",
    "        cut_off = data_std * 2.5\n",
    "        lower, upper = data_mean - cut_off, data_mean + cut_off\n",
    "        print(\"Limit Min: %.3f Limit Max: %.3f\" %  (lower, upper))\n",
    "\n",
    "\n",
    "        dataset = dados[dados[variavel] >= lower]\n",
    "        if len(dataset) == 0:\n",
    "            dataset = dados[dados[variavel] <= upper]\n",
    "        else:\n",
    "            dataset = dataset[dataset[variavel] <= upper]\n",
    "\n",
    "\n",
    "        df_defaut.append(dataset)\n",
    "\n",
    "        outliers = pd.concat([dados[dados[variavel] < lower], dados[dados[variavel] > upper]])\n",
    "        print(\"Identfied outliers: %d \\n\" % len(outliers))\n",
    "\n",
    "    df = pd.concat(df_defaut)"
   ]
  },
  {
   "cell_type": "code",
   "execution_count": 60,
   "metadata": {},
   "outputs": [],
   "source": [
    "import collections"
   ]
  },
  {
   "cell_type": "code",
   "execution_count": 61,
   "metadata": {},
   "outputs": [
    {
     "output_type": "stream",
     "name": "stdout",
     "text": [
      "Counter({0: 32088, 1: 3942})\n"
     ]
    }
   ],
   "source": [
    "print(collections.Counter(df.TARGET))"
   ]
  },
  {
   "source": [
    "## Balancear as categorias (SMOTE)"
   ],
   "cell_type": "markdown",
   "metadata": {}
  },
  {
   "cell_type": "code",
   "execution_count": 69,
   "metadata": {},
   "outputs": [],
   "source": [
    "name = df.select_dtypes(include=\"object\").columns"
   ]
  },
  {
   "cell_type": "code",
   "execution_count": 70,
   "metadata": {},
   "outputs": [
    {
     "output_type": "execute_result",
     "data": {
      "text/plain": [
       "Index(['NAME_CONTRACT_TYPE', 'CODE_GENDER', 'FLAG_OWN_CAR', 'FLAG_OWN_REALTY',\n",
       "       'NAME_TYPE_SUITE', 'NAME_INCOME_TYPE', 'NAME_EDUCATION_TYPE',\n",
       "       'NAME_FAMILY_STATUS', 'NAME_HOUSING_TYPE', 'OCCUPATION_TYPE',\n",
       "       'WEEKDAY_APPR_PROCESS_START', 'ORGANIZATION_TYPE', 'FONDKAPREMONT_MODE',\n",
       "       'HOUSETYPE_MODE', 'WALLSMATERIAL_MODE', 'EMERGENCYSTATE_MODE'],\n",
       "      dtype='object')"
      ]
     },
     "metadata": {},
     "execution_count": 70
    }
   ],
   "source": [
    "name"
   ]
  },
  {
   "cell_type": "code",
   "execution_count": 76,
   "metadata": {},
   "outputs": [],
   "source": [
    "df = df.drop(name, axis=1)\n"
   ]
  },
  {
   "cell_type": "code",
   "execution_count": 88,
   "metadata": {},
   "outputs": [],
   "source": [
    "y = df[\"TARGET\"].to_numpy()\n",
    "X = df\n",
    "X = X.drop(\"TARGET\", axis=1)\n",
    "X = X.to_numpy()"
   ]
  },
  {
   "cell_type": "code",
   "execution_count": 79,
   "metadata": {},
   "outputs": [],
   "source": [
    "from imblearn.over_sampling import SMOTE"
   ]
  },
  {
   "cell_type": "code",
   "execution_count": 90,
   "metadata": {},
   "outputs": [
    {
     "output_type": "stream",
     "name": "stdout",
     "text": [
      "Counter({0: 32088, 1: 32088})\n"
     ]
    }
   ],
   "source": [
    "overSampling = SMOTE()\n",
    "X, y = overSampling.fit_resample(X, y)\n",
    "print(collections.Counter(y))"
   ]
  },
  {
   "cell_type": "code",
   "execution_count": 94,
   "metadata": {},
   "outputs": [],
   "source": [
    "name_coll = df.columns[1:]\n",
    "df_smote = pd.DataFrame(X, columns=name_coll)"
   ]
  },
  {
   "cell_type": "code",
   "execution_count": 95,
   "metadata": {},
   "outputs": [
    {
     "output_type": "execute_result",
     "data": {
      "text/plain": [
       "   CNT_CHILDREN  AMT_INCOME_TOTAL  AMT_CREDIT  AMT_ANNUITY  AMT_GOODS_PRICE  \\\n",
       "0           0.0          135000.0    312682.5      29686.5         297000.0   \n",
       "1           0.0           99000.0    490495.5      27517.5         454500.0   \n",
       "2           1.0          112500.0    652500.0      21177.0         652500.0   \n",
       "3           1.0           90000.0    544491.0      17563.5         454500.0   \n",
       "4           1.0          202500.0   1132573.5      37561.5         927000.0   \n",
       "\n",
       "   REGION_POPULATION_RELATIVE  DAYS_BIRTH  DAYS_EMPLOYED  DAYS_REGISTRATION  \\\n",
       "0                    0.008019    -19005.0        -3039.0            -9833.0   \n",
       "1                    0.035792    -16941.0        -1588.0            -4970.0   \n",
       "2                    0.022800    -10197.0         -679.0            -4427.0   \n",
       "3                    0.015221    -11348.0        -2038.0            -1021.0   \n",
       "4                    0.025164    -14815.0        -1652.0            -2299.0   \n",
       "\n",
       "   DAYS_ID_PUBLISH  ...  CAT_NAME_EDUCATION_TYPE  CAT_NAME_FAMILY_STATUS  \\\n",
       "0          -2437.0  ...                      0.0                     2.0   \n",
       "1           -477.0  ...                      0.0                     1.0   \n",
       "2           -738.0  ...                      1.0                     1.0   \n",
       "3          -3964.0  ...                      1.0                     0.0   \n",
       "4          -2299.0  ...                      0.0                     1.0   \n",
       "\n",
       "   CAT_NAME_HOUSING_TYPE  CAT_OCCUPATION_TYPE  CAT_WEEKDAY_APPR_PROCESS_START  \\\n",
       "0                    0.0                  0.0                             0.0   \n",
       "1                    0.0                  0.0                             0.0   \n",
       "2                    0.0                  1.0                             4.0   \n",
       "3                    0.0                  1.0                             1.0   \n",
       "4                    0.0                  5.0                             1.0   \n",
       "\n",
       "   CAT_ORGANIZATION_TYPE  CAT_FONDKAPREMONT_MODE  CAT_HOUSETYPE_MODE  \\\n",
       "0                    0.0                     0.0                 0.0   \n",
       "1                    4.0                     0.0                 0.0   \n",
       "2                    7.0                     0.0                 0.0   \n",
       "3                   13.0                     0.0                 0.0   \n",
       "4                   14.0                     0.0                 0.0   \n",
       "\n",
       "   CAT_WALLSMATERIAL_MODE  CAT_EMERGENCYSTATE_MODE  \n",
       "0                     2.0                      0.0  \n",
       "1                     2.0                      0.0  \n",
       "2                     2.0                      0.0  \n",
       "3                     0.0                      0.0  \n",
       "4                     2.0                      0.0  \n",
       "\n",
       "[5 rows x 120 columns]"
      ],
      "text/html": "<div>\n<style scoped>\n    .dataframe tbody tr th:only-of-type {\n        vertical-align: middle;\n    }\n\n    .dataframe tbody tr th {\n        vertical-align: top;\n    }\n\n    .dataframe thead th {\n        text-align: right;\n    }\n</style>\n<table border=\"1\" class=\"dataframe\">\n  <thead>\n    <tr style=\"text-align: right;\">\n      <th></th>\n      <th>CNT_CHILDREN</th>\n      <th>AMT_INCOME_TOTAL</th>\n      <th>AMT_CREDIT</th>\n      <th>AMT_ANNUITY</th>\n      <th>AMT_GOODS_PRICE</th>\n      <th>REGION_POPULATION_RELATIVE</th>\n      <th>DAYS_BIRTH</th>\n      <th>DAYS_EMPLOYED</th>\n      <th>DAYS_REGISTRATION</th>\n      <th>DAYS_ID_PUBLISH</th>\n      <th>...</th>\n      <th>CAT_NAME_EDUCATION_TYPE</th>\n      <th>CAT_NAME_FAMILY_STATUS</th>\n      <th>CAT_NAME_HOUSING_TYPE</th>\n      <th>CAT_OCCUPATION_TYPE</th>\n      <th>CAT_WEEKDAY_APPR_PROCESS_START</th>\n      <th>CAT_ORGANIZATION_TYPE</th>\n      <th>CAT_FONDKAPREMONT_MODE</th>\n      <th>CAT_HOUSETYPE_MODE</th>\n      <th>CAT_WALLSMATERIAL_MODE</th>\n      <th>CAT_EMERGENCYSTATE_MODE</th>\n    </tr>\n  </thead>\n  <tbody>\n    <tr>\n      <th>0</th>\n      <td>0.0</td>\n      <td>135000.0</td>\n      <td>312682.5</td>\n      <td>29686.5</td>\n      <td>297000.0</td>\n      <td>0.008019</td>\n      <td>-19005.0</td>\n      <td>-3039.0</td>\n      <td>-9833.0</td>\n      <td>-2437.0</td>\n      <td>...</td>\n      <td>0.0</td>\n      <td>2.0</td>\n      <td>0.0</td>\n      <td>0.0</td>\n      <td>0.0</td>\n      <td>0.0</td>\n      <td>0.0</td>\n      <td>0.0</td>\n      <td>2.0</td>\n      <td>0.0</td>\n    </tr>\n    <tr>\n      <th>1</th>\n      <td>0.0</td>\n      <td>99000.0</td>\n      <td>490495.5</td>\n      <td>27517.5</td>\n      <td>454500.0</td>\n      <td>0.035792</td>\n      <td>-16941.0</td>\n      <td>-1588.0</td>\n      <td>-4970.0</td>\n      <td>-477.0</td>\n      <td>...</td>\n      <td>0.0</td>\n      <td>1.0</td>\n      <td>0.0</td>\n      <td>0.0</td>\n      <td>0.0</td>\n      <td>4.0</td>\n      <td>0.0</td>\n      <td>0.0</td>\n      <td>2.0</td>\n      <td>0.0</td>\n    </tr>\n    <tr>\n      <th>2</th>\n      <td>1.0</td>\n      <td>112500.0</td>\n      <td>652500.0</td>\n      <td>21177.0</td>\n      <td>652500.0</td>\n      <td>0.022800</td>\n      <td>-10197.0</td>\n      <td>-679.0</td>\n      <td>-4427.0</td>\n      <td>-738.0</td>\n      <td>...</td>\n      <td>1.0</td>\n      <td>1.0</td>\n      <td>0.0</td>\n      <td>1.0</td>\n      <td>4.0</td>\n      <td>7.0</td>\n      <td>0.0</td>\n      <td>0.0</td>\n      <td>2.0</td>\n      <td>0.0</td>\n    </tr>\n    <tr>\n      <th>3</th>\n      <td>1.0</td>\n      <td>90000.0</td>\n      <td>544491.0</td>\n      <td>17563.5</td>\n      <td>454500.0</td>\n      <td>0.015221</td>\n      <td>-11348.0</td>\n      <td>-2038.0</td>\n      <td>-1021.0</td>\n      <td>-3964.0</td>\n      <td>...</td>\n      <td>1.0</td>\n      <td>0.0</td>\n      <td>0.0</td>\n      <td>1.0</td>\n      <td>1.0</td>\n      <td>13.0</td>\n      <td>0.0</td>\n      <td>0.0</td>\n      <td>0.0</td>\n      <td>0.0</td>\n    </tr>\n    <tr>\n      <th>4</th>\n      <td>1.0</td>\n      <td>202500.0</td>\n      <td>1132573.5</td>\n      <td>37561.5</td>\n      <td>927000.0</td>\n      <td>0.025164</td>\n      <td>-14815.0</td>\n      <td>-1652.0</td>\n      <td>-2299.0</td>\n      <td>-2299.0</td>\n      <td>...</td>\n      <td>0.0</td>\n      <td>1.0</td>\n      <td>0.0</td>\n      <td>5.0</td>\n      <td>1.0</td>\n      <td>14.0</td>\n      <td>0.0</td>\n      <td>0.0</td>\n      <td>2.0</td>\n      <td>0.0</td>\n    </tr>\n  </tbody>\n</table>\n<p>5 rows × 120 columns</p>\n</div>"
     },
     "metadata": {},
     "execution_count": 95
    }
   ],
   "source": [
    "df_smote.head()"
   ]
  },
  {
   "source": [
    "## Normalizar as variaveis (StandardScaler)"
   ],
   "cell_type": "markdown",
   "metadata": {}
  },
  {
   "cell_type": "code",
   "execution_count": 96,
   "metadata": {},
   "outputs": [],
   "source": [
    "from sklearn import preprocessing"
   ]
  },
  {
   "cell_type": "code",
   "execution_count": 97,
   "metadata": {},
   "outputs": [],
   "source": [
    "scaler = preprocessing.StandardScaler().fit(X)"
   ]
  },
  {
   "cell_type": "code",
   "execution_count": 98,
   "metadata": {},
   "outputs": [
    {
     "output_type": "execute_result",
     "data": {
      "text/plain": [
       "StandardScaler()"
      ]
     },
     "metadata": {},
     "execution_count": 98
    }
   ],
   "source": [
    "scaler"
   ]
  },
  {
   "cell_type": "code",
   "execution_count": 99,
   "metadata": {},
   "outputs": [],
   "source": [
    "X_scaled = scaler.transform(X)"
   ]
  },
  {
   "cell_type": "code",
   "execution_count": 101,
   "metadata": {},
   "outputs": [],
   "source": [
    "df_scaled = pd.DataFrame(X_scaled, columns=name_coll)"
   ]
  },
  {
   "cell_type": "code",
   "execution_count": 102,
   "metadata": {},
   "outputs": [
    {
     "output_type": "execute_result",
     "data": {
      "text/plain": [
       "   CNT_CHILDREN  AMT_INCOME_TOTAL  AMT_CREDIT  AMT_ANNUITY  AMT_GOODS_PRICE  \\\n",
       "0     -0.714514         -0.093496   -0.750931     0.457481        -0.641849   \n",
       "1     -0.714514         -0.666964   -0.144293     0.241044        -0.038855   \n",
       "2      0.845682         -0.451913    0.408411    -0.391651         0.719194   \n",
       "3      0.845682         -0.810331    0.039921    -0.752229        -0.038855   \n",
       "4      0.845682          0.981757    2.046258     1.243299         1.770126   \n",
       "\n",
       "   REGION_POPULATION_RELATIVE  DAYS_BIRTH  DAYS_EMPLOYED  DAYS_REGISTRATION  \\\n",
       "0                   -1.082484   -1.040202      -0.306875          -1.833544   \n",
       "1                    2.025654   -0.483101      -0.292469          -0.196959   \n",
       "2                    0.571690    1.337197      -0.283444          -0.014219   \n",
       "3                   -0.276492    1.026526      -0.296937           1.132030   \n",
       "4                    0.836251    0.090736      -0.293104           0.701934   \n",
       "\n",
       "   DAYS_ID_PUBLISH  ...  CAT_NAME_EDUCATION_TYPE  CAT_NAME_FAMILY_STATUS  \\\n",
       "0         0.276187  ...                -0.423352                1.618658   \n",
       "1         1.668294  ...                -0.423352               -0.086901   \n",
       "2         1.482917  ...                 2.680314               -0.086901   \n",
       "3        -0.808378  ...                 2.680314               -1.792459   \n",
       "4         0.374203  ...                -0.423352               -0.086901   \n",
       "\n",
       "   CAT_NAME_HOUSING_TYPE  CAT_OCCUPATION_TYPE  CAT_WEEKDAY_APPR_PROCESS_START  \\\n",
       "0              -0.298383            -1.115990                       -1.471774   \n",
       "1              -0.298383            -1.115990                       -1.471774   \n",
       "2              -0.298383            -0.812719                        0.511533   \n",
       "3              -0.298383            -0.812719                       -0.975947   \n",
       "4              -0.298383             0.400363                       -0.975947   \n",
       "\n",
       "   CAT_ORGANIZATION_TYPE  CAT_FONDKAPREMONT_MODE  CAT_HOUSETYPE_MODE  \\\n",
       "0              -1.065326               -0.506604                 0.0   \n",
       "1              -0.593965               -0.506604                 0.0   \n",
       "2              -0.240444               -0.506604                 0.0   \n",
       "3               0.466597               -0.506604                 0.0   \n",
       "4               0.584437               -0.506604                 0.0   \n",
       "\n",
       "   CAT_WALLSMATERIAL_MODE  CAT_EMERGENCYSTATE_MODE  \n",
       "0                0.867925                      0.0  \n",
       "1                0.867925                      0.0  \n",
       "2                0.867925                      0.0  \n",
       "3               -1.124547                      0.0  \n",
       "4                0.867925                      0.0  \n",
       "\n",
       "[5 rows x 120 columns]"
      ],
      "text/html": "<div>\n<style scoped>\n    .dataframe tbody tr th:only-of-type {\n        vertical-align: middle;\n    }\n\n    .dataframe tbody tr th {\n        vertical-align: top;\n    }\n\n    .dataframe thead th {\n        text-align: right;\n    }\n</style>\n<table border=\"1\" class=\"dataframe\">\n  <thead>\n    <tr style=\"text-align: right;\">\n      <th></th>\n      <th>CNT_CHILDREN</th>\n      <th>AMT_INCOME_TOTAL</th>\n      <th>AMT_CREDIT</th>\n      <th>AMT_ANNUITY</th>\n      <th>AMT_GOODS_PRICE</th>\n      <th>REGION_POPULATION_RELATIVE</th>\n      <th>DAYS_BIRTH</th>\n      <th>DAYS_EMPLOYED</th>\n      <th>DAYS_REGISTRATION</th>\n      <th>DAYS_ID_PUBLISH</th>\n      <th>...</th>\n      <th>CAT_NAME_EDUCATION_TYPE</th>\n      <th>CAT_NAME_FAMILY_STATUS</th>\n      <th>CAT_NAME_HOUSING_TYPE</th>\n      <th>CAT_OCCUPATION_TYPE</th>\n      <th>CAT_WEEKDAY_APPR_PROCESS_START</th>\n      <th>CAT_ORGANIZATION_TYPE</th>\n      <th>CAT_FONDKAPREMONT_MODE</th>\n      <th>CAT_HOUSETYPE_MODE</th>\n      <th>CAT_WALLSMATERIAL_MODE</th>\n      <th>CAT_EMERGENCYSTATE_MODE</th>\n    </tr>\n  </thead>\n  <tbody>\n    <tr>\n      <th>0</th>\n      <td>-0.714514</td>\n      <td>-0.093496</td>\n      <td>-0.750931</td>\n      <td>0.457481</td>\n      <td>-0.641849</td>\n      <td>-1.082484</td>\n      <td>-1.040202</td>\n      <td>-0.306875</td>\n      <td>-1.833544</td>\n      <td>0.276187</td>\n      <td>...</td>\n      <td>-0.423352</td>\n      <td>1.618658</td>\n      <td>-0.298383</td>\n      <td>-1.115990</td>\n      <td>-1.471774</td>\n      <td>-1.065326</td>\n      <td>-0.506604</td>\n      <td>0.0</td>\n      <td>0.867925</td>\n      <td>0.0</td>\n    </tr>\n    <tr>\n      <th>1</th>\n      <td>-0.714514</td>\n      <td>-0.666964</td>\n      <td>-0.144293</td>\n      <td>0.241044</td>\n      <td>-0.038855</td>\n      <td>2.025654</td>\n      <td>-0.483101</td>\n      <td>-0.292469</td>\n      <td>-0.196959</td>\n      <td>1.668294</td>\n      <td>...</td>\n      <td>-0.423352</td>\n      <td>-0.086901</td>\n      <td>-0.298383</td>\n      <td>-1.115990</td>\n      <td>-1.471774</td>\n      <td>-0.593965</td>\n      <td>-0.506604</td>\n      <td>0.0</td>\n      <td>0.867925</td>\n      <td>0.0</td>\n    </tr>\n    <tr>\n      <th>2</th>\n      <td>0.845682</td>\n      <td>-0.451913</td>\n      <td>0.408411</td>\n      <td>-0.391651</td>\n      <td>0.719194</td>\n      <td>0.571690</td>\n      <td>1.337197</td>\n      <td>-0.283444</td>\n      <td>-0.014219</td>\n      <td>1.482917</td>\n      <td>...</td>\n      <td>2.680314</td>\n      <td>-0.086901</td>\n      <td>-0.298383</td>\n      <td>-0.812719</td>\n      <td>0.511533</td>\n      <td>-0.240444</td>\n      <td>-0.506604</td>\n      <td>0.0</td>\n      <td>0.867925</td>\n      <td>0.0</td>\n    </tr>\n    <tr>\n      <th>3</th>\n      <td>0.845682</td>\n      <td>-0.810331</td>\n      <td>0.039921</td>\n      <td>-0.752229</td>\n      <td>-0.038855</td>\n      <td>-0.276492</td>\n      <td>1.026526</td>\n      <td>-0.296937</td>\n      <td>1.132030</td>\n      <td>-0.808378</td>\n      <td>...</td>\n      <td>2.680314</td>\n      <td>-1.792459</td>\n      <td>-0.298383</td>\n      <td>-0.812719</td>\n      <td>-0.975947</td>\n      <td>0.466597</td>\n      <td>-0.506604</td>\n      <td>0.0</td>\n      <td>-1.124547</td>\n      <td>0.0</td>\n    </tr>\n    <tr>\n      <th>4</th>\n      <td>0.845682</td>\n      <td>0.981757</td>\n      <td>2.046258</td>\n      <td>1.243299</td>\n      <td>1.770126</td>\n      <td>0.836251</td>\n      <td>0.090736</td>\n      <td>-0.293104</td>\n      <td>0.701934</td>\n      <td>0.374203</td>\n      <td>...</td>\n      <td>-0.423352</td>\n      <td>-0.086901</td>\n      <td>-0.298383</td>\n      <td>0.400363</td>\n      <td>-0.975947</td>\n      <td>0.584437</td>\n      <td>-0.506604</td>\n      <td>0.0</td>\n      <td>0.867925</td>\n      <td>0.0</td>\n    </tr>\n  </tbody>\n</table>\n<p>5 rows × 120 columns</p>\n</div>"
     },
     "metadata": {},
     "execution_count": 102
    }
   ],
   "source": [
    "df_scaled.head()"
   ]
  },
  {
   "source": [
    "## Identificar as melhores relações de variaveis para a variavel taget (random forest)"
   ],
   "cell_type": "markdown",
   "metadata": {}
  },
  {
   "cell_type": "code",
   "execution_count": 103,
   "metadata": {},
   "outputs": [],
   "source": [
    "from sklearn.ensemble import RandomForestClassifier"
   ]
  },
  {
   "cell_type": "code",
   "execution_count": 104,
   "metadata": {},
   "outputs": [
    {
     "output_type": "execute_result",
     "data": {
      "text/plain": [
       "RandomForestClassifier(n_estimators=1000, random_state=15)"
      ]
     },
     "metadata": {},
     "execution_count": 104
    }
   ],
   "source": [
    "clf = RandomForestClassifier(random_state=15, n_estimators=1000)\n",
    "clf.fit(df_scaled, y)"
   ]
  },
  {
   "cell_type": "code",
   "execution_count": 110,
   "metadata": {},
   "outputs": [
    {
     "output_type": "execute_result",
     "data": {
      "text/plain": [
       "{'bootstrap': True,\n",
       " 'ccp_alpha': 0.0,\n",
       " 'class_weight': None,\n",
       " 'criterion': 'gini',\n",
       " 'max_depth': None,\n",
       " 'max_features': 'auto',\n",
       " 'max_leaf_nodes': None,\n",
       " 'max_samples': None,\n",
       " 'min_impurity_decrease': 0.0,\n",
       " 'min_impurity_split': None,\n",
       " 'min_samples_leaf': 1,\n",
       " 'min_samples_split': 2,\n",
       " 'min_weight_fraction_leaf': 0.0,\n",
       " 'n_estimators': 1000,\n",
       " 'n_jobs': None,\n",
       " 'oob_score': False,\n",
       " 'random_state': 15,\n",
       " 'verbose': 0,\n",
       " 'warm_start': False}"
      ]
     },
     "metadata": {},
     "execution_count": 110
    }
   ],
   "source": [
    "clf.get_params()"
   ]
  },
  {
   "source": [
    "## Aplicar o PCA"
   ],
   "cell_type": "markdown",
   "metadata": {}
  },
  {
   "cell_type": "code",
   "execution_count": null,
   "metadata": {},
   "outputs": [],
   "source": [
    "from sklearn.decomposition import PCA"
   ]
  },
  {
   "cell_type": "code",
   "execution_count": null,
   "metadata": {},
   "outputs": [],
   "source": [
    "pca = PCA(n_components=2)\n",
    "pca.fit(X)\n"
   ]
  }
 ]
}