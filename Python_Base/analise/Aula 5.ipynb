{
 "cells": [
  {
   "cell_type": "code",
   "execution_count": null,
   "metadata": {},
   "outputs": [],
   "source": [
    "from sklearn.tree import DecisionTreeClassifier\n",
    "\n",
    "decision_tree = DecisionTreeClassifier(random_state=1)\n",
    "decision_tree.fit(X_dev,Y_dev)\n",
    "\n",
    "Y_predicted = decision_tree.predict(X_eval)\n",
    "roc_auc = roc_auc_score(Y_eval, Y_predicted)\n",
    "\n",
    "cv_preds = decision_tree.predict(X_cv)\n",
    "print(classification_report(Y_eval,\n",
    "                           Y_predicted,\n",
    "                           target_names=['anormais','normais']))\n",
    "\n",
    "print('Área sob a curva ROC: {:0.3f}'.format(roc_auc))\n",
    "\n",
    "dt_probs = decision_tree.predict_proba(X_eval)\n",
    "fpr, tpr, _ = roc_curve(Y_eval, Y_predicted)\n",
    "\n",
    "plt.plot(fpr, tpr, lw=1, label='ROC')\n",
    "\n",
    "plt.plot([0,1],[0,1],'--',color=(0.6,0.6,0.6),label='sorte')\n",
    "\n",
    "plt.xlim([-0.05, 1.05])\n",
    "plt.ylim([-0.05,1.05])\n",
    "\n",
    "plt.xlabel('Taxa de positivos falsos',fontsize=15)\n",
    "plt.ylabel('Taxa de positivos verdadeiro',fontsize=15)\n",
    "\n",
    "plt.title('Curva ROC')\n",
    "\n",
    "plt.show()"
   ]
  },
  {
   "cell_type": "code",
   "execution_count": null,
   "metadata": {},
   "outputs": [],
   "source": [
    "print(confusion_matrix(Y_eval,Y_predicted))"
   ]
  }
 ],
 "metadata": {
  "kernelspec": {
   "display_name": "Python 3",
   "language": "python",
   "name": "python3"
  },
  "language_info": {
   "codemirror_mode": {
    "name": "ipython",
    "version": 3
   },
   "file_extension": ".py",
   "mimetype": "text/x-python",
   "name": "python",
   "nbconvert_exporter": "python",
   "pygments_lexer": "ipython3",
   "version": "3.6.8"
  }
 },
 "nbformat": 4,
 "nbformat_minor": 2
}
